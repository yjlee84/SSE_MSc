{
 "cells": [
  {
   "cell_type": "code",
   "execution_count": 1,
   "metadata": {},
   "outputs": [
    {
     "name": "stderr",
     "output_type": "stream",
     "text": [
      "Loading required package: DBI\n",
      "\n",
      "\n",
      "Attaching package: ‘dplyr’\n",
      "\n",
      "\n",
      "The following objects are masked from ‘package:stats’:\n",
      "\n",
      "    filter, lag\n",
      "\n",
      "\n",
      "The following objects are masked from ‘package:base’:\n",
      "\n",
      "    intersect, setdiff, setequal, union\n",
      "\n",
      "\n"
     ]
    }
   ],
   "source": [
    "#libraries\n",
    "\n",
    "library(RMySQL)\n",
    "library(dplyr)"
   ]
  },
  {
   "cell_type": "code",
   "execution_count": 2,
   "metadata": {},
   "outputs": [],
   "source": [
    "#connect\n",
    "\n",
    "con = dbConnect(MySQL(), dbname = \"BnL\",\n",
    "                host = \"mysql-1.cda.hhs.se\", port = 3306,\n",
    "                user = \"bnl\", password = \"bnl@sse\")"
   ]
  },
  {
   "cell_type": "code",
   "execution_count": 3,
   "metadata": {},
   "outputs": [
    {
     "name": "stderr",
     "output_type": "stream",
     "text": [
      "Warning message in .local(conn, statement, ...):\n",
      "“Decimal MySQL column 1 imported as numeric”\n",
      "Warning message in .local(conn, statement, ...):\n",
      "“unrecognized MySQL field type 7 in column 6 imported as character”\n"
     ]
    }
   ],
   "source": [
    "#Modify this to import your dataset\n",
    "\n",
    "df = dbGetQuery(con, \n",
    "                \"SELECT \n",
    "                  item, \n",
    "                  SUM(returned)/COUNT(returned) AS prop_returned, \n",
    "                  MIN(class_desc) AS class_desc,\n",
    "                  MIN(group_desc) AS group_desc,\n",
    "                  MIN(division_desc) AS division_desc, \n",
    "                  MIN(sustainability_id_desc) AS sustainability_id_desc,\n",
    "                  purchase_date\n",
    "                FROM Products \n",
    "                INNER JOIN Transactions \n",
    "                  USING (item) \n",
    "                GROUP BY item\n",
    "                order by 7 asc\")\n",
    "\n"
   ]
  },
  {
   "cell_type": "code",
   "execution_count": 4,
   "metadata": {},
   "outputs": [
    {
     "data": {
      "text/html": [
       "<table>\n",
       "<thead><tr><th scope=col>item</th><th scope=col>prop_returned</th><th scope=col>class_desc</th><th scope=col>group_desc</th><th scope=col>division_desc</th><th scope=col>sustainability_id_desc</th><th scope=col>purchase_date</th></tr></thead>\n",
       "<tbody>\n",
       "\t<tr><td>16976458                       </td><td>0.0374                         </td><td>Eye Colour B                   </td><td>Makeup                         </td><td>Beauty                         </td><td>NA                             </td><td>2017-03-18 07:49:00            </td></tr>\n",
       "\t<tr><td>43708023                       </td><td>0.0000                         </td><td>Receipt texts                  </td><td>Services                       </td><td>Service                        </td><td>NA                             </td><td>2017-03-18 07:49:00            </td></tr>\n",
       "\t<tr><td>42641555                       </td><td>0.0216                         </td><td>Face Makeup B                  </td><td>Makeup                         </td><td>Beauty                         </td><td>NA                             </td><td>2017-03-18 07:49:00            </td></tr>\n",
       "\t<tr><td>43573146                       </td><td>0.0000                         </td><td>Hair Care B                    </td><td>Hair                           </td><td>Beauty                         </td><td>Non sustainable                </td><td>2017-03-18 07:49:00            </td></tr>\n",
       "\t<tr><td>40832065                       </td><td>0.0000                         </td><td>Receipt texts                  </td><td>Services                       </td><td>Service                        </td><td>NA                             </td><td>2017-03-18 09:34:00            </td></tr>\n",
       "\t<tr><td>44338259                       </td><td>0.0000                         </td><td>GWP                            </td><td>Product related Non Merchandise</td><td>Beauty                         </td><td>NA                             </td><td>2017-03-18 09:34:00            </td></tr>\n",
       "</tbody>\n",
       "</table>\n"
      ],
      "text/latex": [
       "\\begin{tabular}{r|lllllll}\n",
       " item & prop\\_returned & class\\_desc & group\\_desc & division\\_desc & sustainability\\_id\\_desc & purchase\\_date\\\\\n",
       "\\hline\n",
       "\t 16976458                        & 0.0374                          & Eye Colour B                    & Makeup                          & Beauty                          & NA                              & 2017-03-18 07:49:00            \\\\\n",
       "\t 43708023                        & 0.0000                          & Receipt texts                   & Services                        & Service                         & NA                              & 2017-03-18 07:49:00            \\\\\n",
       "\t 42641555                        & 0.0216                          & Face Makeup B                   & Makeup                          & Beauty                          & NA                              & 2017-03-18 07:49:00            \\\\\n",
       "\t 43573146                        & 0.0000                          & Hair Care B                     & Hair                            & Beauty                          & Non sustainable                 & 2017-03-18 07:49:00            \\\\\n",
       "\t 40832065                        & 0.0000                          & Receipt texts                   & Services                        & Service                         & NA                              & 2017-03-18 09:34:00            \\\\\n",
       "\t 44338259                        & 0.0000                          & GWP                             & Product related Non Merchandise & Beauty                          & NA                              & 2017-03-18 09:34:00            \\\\\n",
       "\\end{tabular}\n"
      ],
      "text/markdown": [
       "\n",
       "| item | prop_returned | class_desc | group_desc | division_desc | sustainability_id_desc | purchase_date |\n",
       "|---|---|---|---|---|---|---|\n",
       "| 16976458                        | 0.0374                          | Eye Colour B                    | Makeup                          | Beauty                          | NA                              | 2017-03-18 07:49:00             |\n",
       "| 43708023                        | 0.0000                          | Receipt texts                   | Services                        | Service                         | NA                              | 2017-03-18 07:49:00             |\n",
       "| 42641555                        | 0.0216                          | Face Makeup B                   | Makeup                          | Beauty                          | NA                              | 2017-03-18 07:49:00             |\n",
       "| 43573146                        | 0.0000                          | Hair Care B                     | Hair                            | Beauty                          | Non sustainable                 | 2017-03-18 07:49:00             |\n",
       "| 40832065                        | 0.0000                          | Receipt texts                   | Services                        | Service                         | NA                              | 2017-03-18 09:34:00             |\n",
       "| 44338259                        | 0.0000                          | GWP                             | Product related Non Merchandise | Beauty                          | NA                              | 2017-03-18 09:34:00             |\n",
       "\n"
      ],
      "text/plain": [
       "  item     prop_returned class_desc    group_desc                     \n",
       "1 16976458 0.0374        Eye Colour B  Makeup                         \n",
       "2 43708023 0.0000        Receipt texts Services                       \n",
       "3 42641555 0.0216        Face Makeup B Makeup                         \n",
       "4 43573146 0.0000        Hair Care B   Hair                           \n",
       "5 40832065 0.0000        Receipt texts Services                       \n",
       "6 44338259 0.0000        GWP           Product related Non Merchandise\n",
       "  division_desc sustainability_id_desc purchase_date      \n",
       "1 Beauty        NA                     2017-03-18 07:49:00\n",
       "2 Service       NA                     2017-03-18 07:49:00\n",
       "3 Beauty        NA                     2017-03-18 07:49:00\n",
       "4 Beauty        Non sustainable        2017-03-18 07:49:00\n",
       "5 Service       NA                     2017-03-18 09:34:00\n",
       "6 Beauty        NA                     2017-03-18 09:34:00"
      ]
     },
     "metadata": {},
     "output_type": "display_data"
    }
   ],
   "source": [
    "# dataset\n",
    "\n",
    "head(df)"
   ]
  },
  {
   "cell_type": "code",
   "execution_count": 5,
   "metadata": {},
   "outputs": [
    {
     "data": {
      "text/plain": [
       "      item          prop_returned      class_desc         group_desc       \n",
       " Min.   :  275040   Min.   :0.00000   Length:28034       Length:28034      \n",
       " 1st Qu.:42955231   1st Qu.:0.00000   Class :character   Class :character  \n",
       " Median :44698359   Median :0.00000   Mode  :character   Mode  :character  \n",
       " Mean   :59374846   Mean   :0.01265                                        \n",
       " 3rd Qu.:88128158   3rd Qu.:0.00000                                        \n",
       " Max.   :89378150   Max.   :1.00000                                        \n",
       " division_desc      sustainability_id_desc purchase_date     \n",
       " Length:28034       Length:28034           Length:28034      \n",
       " Class :character   Class :character       Class :character  \n",
       " Mode  :character   Mode  :character       Mode  :character  \n",
       "                                                             \n",
       "                                                             \n",
       "                                                             "
      ]
     },
     "metadata": {},
     "output_type": "display_data"
    }
   ],
   "source": [
    "summary(df)"
   ]
  },
  {
   "cell_type": "code",
   "execution_count": 6,
   "metadata": {},
   "outputs": [
    {
     "name": "stdout",
     "output_type": "stream",
     "text": [
      "'data.frame':\t28034 obs. of  7 variables:\n",
      " $ item                  : int  16976458 43708023 42641555 43573146 40832065 44338259 44240984 43272798 21601695 43650480 ...\n",
      " $ prop_returned         : num  0.0374 0 0.0216 0 0 0 0.0154 0 0.0083 0 ...\n",
      " $ class_desc            : Factor w/ 67 levels \"Accessories C\",..: 9 45 15 24 45 20 15 45 13 9 ...\n",
      " $ group_desc            : Factor w/ 16 levels \"Body\",\"Childrens Acc.\",..: 9 11 9 8 11 10 9 11 5 9 ...\n",
      " $ division_desc         : Factor w/ 5 levels \"Beauty\",\"Children\",..: 1 4 1 1 4 1 1 4 1 1 ...\n",
      " $ sustainability_id_desc: Factor w/ 6 levels \"Allergy and health\",..: NA NA NA 3 NA NA NA NA NA NA ...\n",
      " $ purchase_date         : Factor w/ 21527 levels \"2017-03-18 07:49:00\",..: 1 1 1 1 2 2 2 2 2 2 ...\n"
     ]
    }
   ],
   "source": [
    "df = as.data.frame(unclass(df),                     # Convert all character columns to factor\n",
    "                       stringsAsFactors = TRUE)\n",
    "str(df)"
   ]
  },
  {
   "cell_type": "code",
   "execution_count": 7,
   "metadata": {},
   "outputs": [
    {
     "data": {
      "text/html": [
       "0"
      ],
      "text/latex": [
       "0"
      ],
      "text/markdown": [
       "0"
      ],
      "text/plain": [
       "[1] 0"
      ]
     },
     "metadata": {},
     "output_type": "display_data"
    },
    {
     "data": {
      "text/html": [
       "0"
      ],
      "text/latex": [
       "0"
      ],
      "text/markdown": [
       "0"
      ],
      "text/plain": [
       "[1] 0"
      ]
     },
     "metadata": {},
     "output_type": "display_data"
    },
    {
     "data": {
      "text/html": [
       "102"
      ],
      "text/latex": [
       "102"
      ],
      "text/markdown": [
       "102"
      ],
      "text/plain": [
       "[1] 102"
      ]
     },
     "metadata": {},
     "output_type": "display_data"
    },
    {
     "data": {
      "text/html": [
       "102"
      ],
      "text/latex": [
       "102"
      ],
      "text/markdown": [
       "102"
      ],
      "text/plain": [
       "[1] 102"
      ]
     },
     "metadata": {},
     "output_type": "display_data"
    },
    {
     "data": {
      "text/html": [
       "102"
      ],
      "text/latex": [
       "102"
      ],
      "text/markdown": [
       "102"
      ],
      "text/plain": [
       "[1] 102"
      ]
     },
     "metadata": {},
     "output_type": "display_data"
    },
    {
     "data": {
      "text/html": [
       "22304"
      ],
      "text/latex": [
       "22304"
      ],
      "text/markdown": [
       "22304"
      ],
      "text/plain": [
       "[1] 22304"
      ]
     },
     "metadata": {},
     "output_type": "display_data"
    },
    {
     "data": {
      "text/html": [
       "0"
      ],
      "text/latex": [
       "0"
      ],
      "text/markdown": [
       "0"
      ],
      "text/plain": [
       "[1] 0"
      ]
     },
     "metadata": {},
     "output_type": "display_data"
    }
   ],
   "source": [
    "# imputation for missing values\n",
    "\n",
    "sum(is.na(df$returned))\n",
    "sum(is.na(df$item))\n",
    "sum(is.na(df$class_desc))\n",
    "sum(is.na(df$group_desc))\n",
    "sum(is.na(df$division_desc))\n",
    "sum(is.na(df$sustainability_id_desc))\n",
    "sum(is.na(df$purchase_date))\n",
    "\n",
    "df <- df %>% mutate(sustainability_id_desc\t = ifelse(is.na(sustainability_id_desc\t), \"Sustainable\", sustainability_id_desc\t))\n",
    "\n",
    "df = na.omit(df)"
   ]
  },
  {
   "cell_type": "code",
   "execution_count": 8,
   "metadata": {},
   "outputs": [
    {
     "data": {
      "text/html": [
       "<table>\n",
       "<thead><tr><th scope=col>item</th><th scope=col>prop_returned</th><th scope=col>class_desc</th><th scope=col>group_desc</th><th scope=col>division_desc</th><th scope=col>sustainability_id_desc</th><th scope=col>purchase_date</th></tr></thead>\n",
       "<tbody>\n",
       "\t<tr><td>16976458                       </td><td>0.0374                         </td><td>Eye Colour B                   </td><td>Makeup                         </td><td>Beauty                         </td><td>Sustainable                    </td><td>2017-03-18 07:49:00            </td></tr>\n",
       "\t<tr><td>43708023                       </td><td>0.0000                         </td><td>Receipt texts                  </td><td>Services                       </td><td>Service                        </td><td>Sustainable                    </td><td>2017-03-18 07:49:00            </td></tr>\n",
       "\t<tr><td>42641555                       </td><td>0.0216                         </td><td>Face Makeup B                  </td><td>Makeup                         </td><td>Beauty                         </td><td>Sustainable                    </td><td>2017-03-18 07:49:00            </td></tr>\n",
       "\t<tr><td>43573146                       </td><td>0.0000                         </td><td>Hair Care B                    </td><td>Hair                           </td><td>Beauty                         </td><td>3                              </td><td>2017-03-18 07:49:00            </td></tr>\n",
       "\t<tr><td>40832065                       </td><td>0.0000                         </td><td>Receipt texts                  </td><td>Services                       </td><td>Service                        </td><td>Sustainable                    </td><td>2017-03-18 09:34:00            </td></tr>\n",
       "\t<tr><td>44338259                       </td><td>0.0000                         </td><td>GWP                            </td><td>Product related Non Merchandise</td><td>Beauty                         </td><td>Sustainable                    </td><td>2017-03-18 09:34:00            </td></tr>\n",
       "\t<tr><td>44240984                       </td><td>0.0154                         </td><td>Face Makeup B                  </td><td>Makeup                         </td><td>Beauty                         </td><td>Sustainable                    </td><td>2017-03-18 09:34:00            </td></tr>\n",
       "\t<tr><td>43272798                       </td><td>0.0000                         </td><td>Receipt texts                  </td><td>Services                       </td><td>Service                        </td><td>Sustainable                    </td><td>2017-03-18 09:34:00            </td></tr>\n",
       "\t<tr><td>21601695                       </td><td>0.0083                         </td><td>Face Cleansing B               </td><td>Face                           </td><td>Beauty                         </td><td>Sustainable                    </td><td>2017-03-18 09:34:00            </td></tr>\n",
       "\t<tr><td>43650480                       </td><td>0.0000                         </td><td>Eye Colour B                   </td><td>Makeup                         </td><td>Beauty                         </td><td>Sustainable                    </td><td>2017-03-18 09:34:00            </td></tr>\n",
       "</tbody>\n",
       "</table>\n"
      ],
      "text/latex": [
       "\\begin{tabular}{r|lllllll}\n",
       " item & prop\\_returned & class\\_desc & group\\_desc & division\\_desc & sustainability\\_id\\_desc & purchase\\_date\\\\\n",
       "\\hline\n",
       "\t 16976458                        & 0.0374                          & Eye Colour B                    & Makeup                          & Beauty                          & Sustainable                     & 2017-03-18 07:49:00            \\\\\n",
       "\t 43708023                        & 0.0000                          & Receipt texts                   & Services                        & Service                         & Sustainable                     & 2017-03-18 07:49:00            \\\\\n",
       "\t 42641555                        & 0.0216                          & Face Makeup B                   & Makeup                          & Beauty                          & Sustainable                     & 2017-03-18 07:49:00            \\\\\n",
       "\t 43573146                        & 0.0000                          & Hair Care B                     & Hair                            & Beauty                          & 3                               & 2017-03-18 07:49:00            \\\\\n",
       "\t 40832065                        & 0.0000                          & Receipt texts                   & Services                        & Service                         & Sustainable                     & 2017-03-18 09:34:00            \\\\\n",
       "\t 44338259                        & 0.0000                          & GWP                             & Product related Non Merchandise & Beauty                          & Sustainable                     & 2017-03-18 09:34:00            \\\\\n",
       "\t 44240984                        & 0.0154                          & Face Makeup B                   & Makeup                          & Beauty                          & Sustainable                     & 2017-03-18 09:34:00            \\\\\n",
       "\t 43272798                        & 0.0000                          & Receipt texts                   & Services                        & Service                         & Sustainable                     & 2017-03-18 09:34:00            \\\\\n",
       "\t 21601695                        & 0.0083                          & Face Cleansing B                & Face                            & Beauty                          & Sustainable                     & 2017-03-18 09:34:00            \\\\\n",
       "\t 43650480                        & 0.0000                          & Eye Colour B                    & Makeup                          & Beauty                          & Sustainable                     & 2017-03-18 09:34:00            \\\\\n",
       "\\end{tabular}\n"
      ],
      "text/markdown": [
       "\n",
       "| item | prop_returned | class_desc | group_desc | division_desc | sustainability_id_desc | purchase_date |\n",
       "|---|---|---|---|---|---|---|\n",
       "| 16976458                        | 0.0374                          | Eye Colour B                    | Makeup                          | Beauty                          | Sustainable                     | 2017-03-18 07:49:00             |\n",
       "| 43708023                        | 0.0000                          | Receipt texts                   | Services                        | Service                         | Sustainable                     | 2017-03-18 07:49:00             |\n",
       "| 42641555                        | 0.0216                          | Face Makeup B                   | Makeup                          | Beauty                          | Sustainable                     | 2017-03-18 07:49:00             |\n",
       "| 43573146                        | 0.0000                          | Hair Care B                     | Hair                            | Beauty                          | 3                               | 2017-03-18 07:49:00             |\n",
       "| 40832065                        | 0.0000                          | Receipt texts                   | Services                        | Service                         | Sustainable                     | 2017-03-18 09:34:00             |\n",
       "| 44338259                        | 0.0000                          | GWP                             | Product related Non Merchandise | Beauty                          | Sustainable                     | 2017-03-18 09:34:00             |\n",
       "| 44240984                        | 0.0154                          | Face Makeup B                   | Makeup                          | Beauty                          | Sustainable                     | 2017-03-18 09:34:00             |\n",
       "| 43272798                        | 0.0000                          | Receipt texts                   | Services                        | Service                         | Sustainable                     | 2017-03-18 09:34:00             |\n",
       "| 21601695                        | 0.0083                          | Face Cleansing B                | Face                            | Beauty                          | Sustainable                     | 2017-03-18 09:34:00             |\n",
       "| 43650480                        | 0.0000                          | Eye Colour B                    | Makeup                          | Beauty                          | Sustainable                     | 2017-03-18 09:34:00             |\n",
       "\n"
      ],
      "text/plain": [
       "   item     prop_returned class_desc       group_desc                     \n",
       "1  16976458 0.0374        Eye Colour B     Makeup                         \n",
       "2  43708023 0.0000        Receipt texts    Services                       \n",
       "3  42641555 0.0216        Face Makeup B    Makeup                         \n",
       "4  43573146 0.0000        Hair Care B      Hair                           \n",
       "5  40832065 0.0000        Receipt texts    Services                       \n",
       "6  44338259 0.0000        GWP              Product related Non Merchandise\n",
       "7  44240984 0.0154        Face Makeup B    Makeup                         \n",
       "8  43272798 0.0000        Receipt texts    Services                       \n",
       "9  21601695 0.0083        Face Cleansing B Face                           \n",
       "10 43650480 0.0000        Eye Colour B     Makeup                         \n",
       "   division_desc sustainability_id_desc purchase_date      \n",
       "1  Beauty        Sustainable            2017-03-18 07:49:00\n",
       "2  Service       Sustainable            2017-03-18 07:49:00\n",
       "3  Beauty        Sustainable            2017-03-18 07:49:00\n",
       "4  Beauty        3                      2017-03-18 07:49:00\n",
       "5  Service       Sustainable            2017-03-18 09:34:00\n",
       "6  Beauty        Sustainable            2017-03-18 09:34:00\n",
       "7  Beauty        Sustainable            2017-03-18 09:34:00\n",
       "8  Service       Sustainable            2017-03-18 09:34:00\n",
       "9  Beauty        Sustainable            2017-03-18 09:34:00\n",
       "10 Beauty        Sustainable            2017-03-18 09:34:00"
      ]
     },
     "metadata": {},
     "output_type": "display_data"
    }
   ],
   "source": [
    "head(df,10)"
   ]
  },
  {
   "cell_type": "code",
   "execution_count": 9,
   "metadata": {},
   "outputs": [
    {
     "data": {
      "text/plain": [
       "      item          prop_returned                  class_desc  \n",
       " Min.   :  275040   Min.   :0.00000   Lips B            :4172  \n",
       " 1st Qu.:42955134   1st Qu.:0.00000   Face Makeup B     :3927  \n",
       " Median :44697898   Median :0.00000   Eye Colour B      :3369  \n",
       " Mean   :59348261   Mean   :0.01266   Nails B           :3071  \n",
       " 3rd Qu.:88134193   3rd Qu.:0.00000   Face Care B       :2405  \n",
       " Max.   :89378150   Max.   :1.00000   Fragrance Female B:1864  \n",
       "                                      (Other)           :9124  \n",
       "              group_desc           division_desc   sustainability_id_desc\n",
       " Makeup            :16663   Beauty        :26603   Length:27932          \n",
       " Face              : 3072   Children      :   12   Class :character      \n",
       " Fragrance         : 2785   Home          :   14   Mode  :character      \n",
       " Body              : 2195   Service       :  120                         \n",
       " Hair              : 1244   Womens Fashion: 1183                         \n",
       " Womens Accessories: 1141                                                \n",
       " (Other)           :  832                                                \n",
       "             purchase_date  \n",
       " 2017-12-28 06:42:00:   95  \n",
       " 2018-01-24 04:13:00:   82  \n",
       " 2018-03-12 22:39:00:   45  \n",
       " 2018-02-03 07:31:00:   32  \n",
       " 2018-02-05 05:49:00:   21  \n",
       " 2020-11-16 08:37:00:   14  \n",
       " (Other)            :27643  "
      ]
     },
     "metadata": {},
     "output_type": "display_data"
    }
   ],
   "source": [
    "summary(df)"
   ]
  },
  {
   "cell_type": "code",
   "execution_count": 10,
   "metadata": {},
   "outputs": [],
   "source": [
    "#First, we split the dataset into a training set and a test set.\n",
    "\n",
    "set.seed(7313)   # set seed to ensure you always have same random numbers generated\n",
    "n = nrow(df)\n",
    "p = 0.7\n",
    "train = sample(n, p*n)"
   ]
  },
  {
   "cell_type": "code",
   "execution_count": 11,
   "metadata": {},
   "outputs": [
    {
     "data": {
      "text/html": [
       "27932"
      ],
      "text/latex": [
       "27932"
      ],
      "text/markdown": [
       "27932"
      ],
      "text/plain": [
       "[1] 27932"
      ]
     },
     "metadata": {},
     "output_type": "display_data"
    },
    {
     "data": {
      "text/html": [
       "19552.4"
      ],
      "text/latex": [
       "19552.4"
      ],
      "text/markdown": [
       "19552.4"
      ],
      "text/plain": [
       "[1] 19552.4"
      ]
     },
     "metadata": {},
     "output_type": "display_data"
    }
   ],
   "source": [
    "#Splitting by time\n",
    "\n",
    "nrow(df)\n",
    "27932 * .7\n",
    "\n",
    "train_time  <- df[1:19552, ]\n",
    "test_time   <- df[19553:28034, ]"
   ]
  },
  {
   "cell_type": "code",
   "execution_count": 12,
   "metadata": {},
   "outputs": [
    {
     "data": {
      "text/html": [
       "<table>\n",
       "<thead><tr><th scope=col>item</th><th scope=col>prop_returned</th><th scope=col>class_desc</th><th scope=col>group_desc</th><th scope=col>division_desc</th><th scope=col>sustainability_id_desc</th><th scope=col>purchase_date</th></tr></thead>\n",
       "<tbody>\n",
       "\t<tr><td>16976458                       </td><td>0.0374                         </td><td>Eye Colour B                   </td><td>Makeup                         </td><td>Beauty                         </td><td>Sustainable                    </td><td>2017-03-18 07:49:00            </td></tr>\n",
       "\t<tr><td>43708023                       </td><td>0.0000                         </td><td>Receipt texts                  </td><td>Services                       </td><td>Service                        </td><td>Sustainable                    </td><td>2017-03-18 07:49:00            </td></tr>\n",
       "\t<tr><td>42641555                       </td><td>0.0216                         </td><td>Face Makeup B                  </td><td>Makeup                         </td><td>Beauty                         </td><td>Sustainable                    </td><td>2017-03-18 07:49:00            </td></tr>\n",
       "\t<tr><td>43573146                       </td><td>0.0000                         </td><td>Hair Care B                    </td><td>Hair                           </td><td>Beauty                         </td><td>3                              </td><td>2017-03-18 07:49:00            </td></tr>\n",
       "\t<tr><td>40832065                       </td><td>0.0000                         </td><td>Receipt texts                  </td><td>Services                       </td><td>Service                        </td><td>Sustainable                    </td><td>2017-03-18 09:34:00            </td></tr>\n",
       "\t<tr><td>44338259                       </td><td>0.0000                         </td><td>GWP                            </td><td>Product related Non Merchandise</td><td>Beauty                         </td><td>Sustainable                    </td><td>2017-03-18 09:34:00            </td></tr>\n",
       "\t<tr><td>44240984                       </td><td>0.0154                         </td><td>Face Makeup B                  </td><td>Makeup                         </td><td>Beauty                         </td><td>Sustainable                    </td><td>2017-03-18 09:34:00            </td></tr>\n",
       "\t<tr><td>43272798                       </td><td>0.0000                         </td><td>Receipt texts                  </td><td>Services                       </td><td>Service                        </td><td>Sustainable                    </td><td>2017-03-18 09:34:00            </td></tr>\n",
       "\t<tr><td>21601695                       </td><td>0.0083                         </td><td>Face Cleansing B               </td><td>Face                           </td><td>Beauty                         </td><td>Sustainable                    </td><td>2017-03-18 09:34:00            </td></tr>\n",
       "\t<tr><td>43650480                       </td><td>0.0000                         </td><td>Eye Colour B                   </td><td>Makeup                         </td><td>Beauty                         </td><td>Sustainable                    </td><td>2017-03-18 09:34:00            </td></tr>\n",
       "</tbody>\n",
       "</table>\n"
      ],
      "text/latex": [
       "\\begin{tabular}{r|lllllll}\n",
       " item & prop\\_returned & class\\_desc & group\\_desc & division\\_desc & sustainability\\_id\\_desc & purchase\\_date\\\\\n",
       "\\hline\n",
       "\t 16976458                        & 0.0374                          & Eye Colour B                    & Makeup                          & Beauty                          & Sustainable                     & 2017-03-18 07:49:00            \\\\\n",
       "\t 43708023                        & 0.0000                          & Receipt texts                   & Services                        & Service                         & Sustainable                     & 2017-03-18 07:49:00            \\\\\n",
       "\t 42641555                        & 0.0216                          & Face Makeup B                   & Makeup                          & Beauty                          & Sustainable                     & 2017-03-18 07:49:00            \\\\\n",
       "\t 43573146                        & 0.0000                          & Hair Care B                     & Hair                            & Beauty                          & 3                               & 2017-03-18 07:49:00            \\\\\n",
       "\t 40832065                        & 0.0000                          & Receipt texts                   & Services                        & Service                         & Sustainable                     & 2017-03-18 09:34:00            \\\\\n",
       "\t 44338259                        & 0.0000                          & GWP                             & Product related Non Merchandise & Beauty                          & Sustainable                     & 2017-03-18 09:34:00            \\\\\n",
       "\t 44240984                        & 0.0154                          & Face Makeup B                   & Makeup                          & Beauty                          & Sustainable                     & 2017-03-18 09:34:00            \\\\\n",
       "\t 43272798                        & 0.0000                          & Receipt texts                   & Services                        & Service                         & Sustainable                     & 2017-03-18 09:34:00            \\\\\n",
       "\t 21601695                        & 0.0083                          & Face Cleansing B                & Face                            & Beauty                          & Sustainable                     & 2017-03-18 09:34:00            \\\\\n",
       "\t 43650480                        & 0.0000                          & Eye Colour B                    & Makeup                          & Beauty                          & Sustainable                     & 2017-03-18 09:34:00            \\\\\n",
       "\\end{tabular}\n"
      ],
      "text/markdown": [
       "\n",
       "| item | prop_returned | class_desc | group_desc | division_desc | sustainability_id_desc | purchase_date |\n",
       "|---|---|---|---|---|---|---|\n",
       "| 16976458                        | 0.0374                          | Eye Colour B                    | Makeup                          | Beauty                          | Sustainable                     | 2017-03-18 07:49:00             |\n",
       "| 43708023                        | 0.0000                          | Receipt texts                   | Services                        | Service                         | Sustainable                     | 2017-03-18 07:49:00             |\n",
       "| 42641555                        | 0.0216                          | Face Makeup B                   | Makeup                          | Beauty                          | Sustainable                     | 2017-03-18 07:49:00             |\n",
       "| 43573146                        | 0.0000                          | Hair Care B                     | Hair                            | Beauty                          | 3                               | 2017-03-18 07:49:00             |\n",
       "| 40832065                        | 0.0000                          | Receipt texts                   | Services                        | Service                         | Sustainable                     | 2017-03-18 09:34:00             |\n",
       "| 44338259                        | 0.0000                          | GWP                             | Product related Non Merchandise | Beauty                          | Sustainable                     | 2017-03-18 09:34:00             |\n",
       "| 44240984                        | 0.0154                          | Face Makeup B                   | Makeup                          | Beauty                          | Sustainable                     | 2017-03-18 09:34:00             |\n",
       "| 43272798                        | 0.0000                          | Receipt texts                   | Services                        | Service                         | Sustainable                     | 2017-03-18 09:34:00             |\n",
       "| 21601695                        | 0.0083                          | Face Cleansing B                | Face                            | Beauty                          | Sustainable                     | 2017-03-18 09:34:00             |\n",
       "| 43650480                        | 0.0000                          | Eye Colour B                    | Makeup                          | Beauty                          | Sustainable                     | 2017-03-18 09:34:00             |\n",
       "\n"
      ],
      "text/plain": [
       "   item     prop_returned class_desc       group_desc                     \n",
       "1  16976458 0.0374        Eye Colour B     Makeup                         \n",
       "2  43708023 0.0000        Receipt texts    Services                       \n",
       "3  42641555 0.0216        Face Makeup B    Makeup                         \n",
       "4  43573146 0.0000        Hair Care B      Hair                           \n",
       "5  40832065 0.0000        Receipt texts    Services                       \n",
       "6  44338259 0.0000        GWP              Product related Non Merchandise\n",
       "7  44240984 0.0154        Face Makeup B    Makeup                         \n",
       "8  43272798 0.0000        Receipt texts    Services                       \n",
       "9  21601695 0.0083        Face Cleansing B Face                           \n",
       "10 43650480 0.0000        Eye Colour B     Makeup                         \n",
       "   division_desc sustainability_id_desc purchase_date      \n",
       "1  Beauty        Sustainable            2017-03-18 07:49:00\n",
       "2  Service       Sustainable            2017-03-18 07:49:00\n",
       "3  Beauty        Sustainable            2017-03-18 07:49:00\n",
       "4  Beauty        3                      2017-03-18 07:49:00\n",
       "5  Service       Sustainable            2017-03-18 09:34:00\n",
       "6  Beauty        Sustainable            2017-03-18 09:34:00\n",
       "7  Beauty        Sustainable            2017-03-18 09:34:00\n",
       "8  Service       Sustainable            2017-03-18 09:34:00\n",
       "9  Beauty        Sustainable            2017-03-18 09:34:00\n",
       "10 Beauty        Sustainable            2017-03-18 09:34:00"
      ]
     },
     "metadata": {},
     "output_type": "display_data"
    }
   ],
   "source": [
    "#Preview of train set split by time\n",
    "\n",
    "head(train_time,10)"
   ]
  },
  {
   "cell_type": "code",
   "execution_count": 13,
   "metadata": {},
   "outputs": [
    {
     "data": {
      "text/plain": [
       "   Min. 1st Qu.  Median    Mean 3rd Qu.    Max. \n",
       "      1    6994   13930   13944   20930   27931 "
      ]
     },
     "metadata": {},
     "output_type": "display_data"
    },
    {
     "data": {
      "text/plain": [
       "      item          prop_returned                  class_desc  \n",
       " Min.   :  275040   Min.   :0.00000   Lips B            :2768  \n",
       " 1st Qu.:40894226   1st Qu.:0.00000   Face Makeup B     :2677  \n",
       " Median :44042856   Median :0.00000   Eye Colour B      :2286  \n",
       " Mean   :50416012   Mean   :0.01272   Nails B           :2246  \n",
       " 3rd Qu.:75253584   3rd Qu.:0.00000   Face Care B       :1762  \n",
       " Max.   :88343530   Max.   :1.00000   Fragrance Female B:1323  \n",
       "                                      (Other)           :6490  \n",
       "              group_desc           division_desc   sustainability_id_desc\n",
       " Makeup            :11570   Beauty        :18623   Length:19552          \n",
       " Face              : 2270   Children      :    8   Class :character      \n",
       " Fragrance         : 1986   Home          :    9   Mode  :character      \n",
       " Body              : 1654   Service       :  112                         \n",
       " Hair              :  992   Womens Fashion:  800                         \n",
       " Womens Accessories:  772                                                \n",
       " (Other)           :  308                                                \n",
       "             purchase_date  \n",
       " 2017-12-28 06:42:00:   95  \n",
       " 2018-01-24 04:13:00:   82  \n",
       " 2018-03-12 22:39:00:   45  \n",
       " 2018-02-03 07:31:00:   32  \n",
       " 2018-02-05 05:49:00:   21  \n",
       " 2017-03-26 09:20:00:   13  \n",
       " (Other)            :19264  "
      ]
     },
     "metadata": {},
     "output_type": "display_data"
    }
   ],
   "source": [
    "#After splitting data, we provide a glimpse of the training set\n",
    "\n",
    "summary(train)\n",
    "summary(train_time)"
   ]
  },
  {
   "cell_type": "code",
   "execution_count": null,
   "metadata": {},
   "outputs": [],
   "source": []
  }
 ],
 "metadata": {
  "kernelspec": {
   "display_name": "R",
   "language": "R",
   "name": "ir"
  },
  "language_info": {
   "codemirror_mode": "r",
   "file_extension": ".r",
   "mimetype": "text/x-r-source",
   "name": "R",
   "pygments_lexer": "r",
   "version": "3.6.1"
  }
 },
 "nbformat": 4,
 "nbformat_minor": 4
}
