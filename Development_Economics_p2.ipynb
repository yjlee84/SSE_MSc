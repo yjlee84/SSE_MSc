{
 "cells": [
  {
   "cell_type": "code",
   "execution_count": 1,
   "metadata": {},
   "outputs": [],
   "source": [
    "%matplotlib inline\n",
    "import matplotlib.pyplot as plt\n",
    "plt.rcParams[\"figure.figsize\"] = (11, 5)  #set default figure size\n",
    "import numpy as np\n",
    "import pandas as pd\n",
    "import statsmodels.api as sm\n",
    "import seaborn as sb\n",
    "from statsmodels.iolib.summary2 import summary_col"
   ]
  },
  {
   "cell_type": "code",
   "execution_count": 2,
   "metadata": {},
   "outputs": [
    {
     "data": {
      "text/html": [
       "<div>\n",
       "<style scoped>\n",
       "    .dataframe tbody tr th:only-of-type {\n",
       "        vertical-align: middle;\n",
       "    }\n",
       "\n",
       "    .dataframe tbody tr th {\n",
       "        vertical-align: top;\n",
       "    }\n",
       "\n",
       "    .dataframe thead th {\n",
       "        text-align: right;\n",
       "    }\n",
       "</style>\n",
       "<table border=\"1\" class=\"dataframe\">\n",
       "  <thead>\n",
       "    <tr style=\"text-align: right;\">\n",
       "      <th></th>\n",
       "      <th>female</th>\n",
       "      <th>black</th>\n",
       "      <th>hispanic</th>\n",
       "      <th>bytest</th>\n",
       "      <th>dadcoll</th>\n",
       "      <th>momcoll</th>\n",
       "      <th>ownhome</th>\n",
       "      <th>urban</th>\n",
       "      <th>cue80</th>\n",
       "      <th>stwmfg80</th>\n",
       "      <th>dist</th>\n",
       "      <th>tuition</th>\n",
       "      <th>incomehi</th>\n",
       "      <th>ed</th>\n",
       "    </tr>\n",
       "  </thead>\n",
       "  <tbody>\n",
       "    <tr>\n",
       "      <th>0</th>\n",
       "      <td>0.0</td>\n",
       "      <td>0.0</td>\n",
       "      <td>0.0</td>\n",
       "      <td>39.150002</td>\n",
       "      <td>1.0</td>\n",
       "      <td>0.0</td>\n",
       "      <td>1.0</td>\n",
       "      <td>1.0</td>\n",
       "      <td>6.2</td>\n",
       "      <td>8.09</td>\n",
       "      <td>0.2</td>\n",
       "      <td>0.88915</td>\n",
       "      <td>1.0</td>\n",
       "      <td>12.0</td>\n",
       "    </tr>\n",
       "    <tr>\n",
       "      <th>1</th>\n",
       "      <td>1.0</td>\n",
       "      <td>0.0</td>\n",
       "      <td>0.0</td>\n",
       "      <td>48.869999</td>\n",
       "      <td>0.0</td>\n",
       "      <td>0.0</td>\n",
       "      <td>1.0</td>\n",
       "      <td>1.0</td>\n",
       "      <td>6.2</td>\n",
       "      <td>8.09</td>\n",
       "      <td>0.2</td>\n",
       "      <td>0.88915</td>\n",
       "      <td>0.0</td>\n",
       "      <td>12.0</td>\n",
       "    </tr>\n",
       "    <tr>\n",
       "      <th>2</th>\n",
       "      <td>0.0</td>\n",
       "      <td>0.0</td>\n",
       "      <td>0.0</td>\n",
       "      <td>48.740002</td>\n",
       "      <td>0.0</td>\n",
       "      <td>0.0</td>\n",
       "      <td>1.0</td>\n",
       "      <td>1.0</td>\n",
       "      <td>6.2</td>\n",
       "      <td>8.09</td>\n",
       "      <td>0.2</td>\n",
       "      <td>0.88915</td>\n",
       "      <td>0.0</td>\n",
       "      <td>12.0</td>\n",
       "    </tr>\n",
       "    <tr>\n",
       "      <th>3</th>\n",
       "      <td>0.0</td>\n",
       "      <td>1.0</td>\n",
       "      <td>0.0</td>\n",
       "      <td>40.400002</td>\n",
       "      <td>0.0</td>\n",
       "      <td>0.0</td>\n",
       "      <td>1.0</td>\n",
       "      <td>1.0</td>\n",
       "      <td>6.2</td>\n",
       "      <td>8.09</td>\n",
       "      <td>0.2</td>\n",
       "      <td>0.88915</td>\n",
       "      <td>0.0</td>\n",
       "      <td>12.0</td>\n",
       "    </tr>\n",
       "    <tr>\n",
       "      <th>4</th>\n",
       "      <td>1.0</td>\n",
       "      <td>0.0</td>\n",
       "      <td>0.0</td>\n",
       "      <td>40.480000</td>\n",
       "      <td>0.0</td>\n",
       "      <td>0.0</td>\n",
       "      <td>0.0</td>\n",
       "      <td>1.0</td>\n",
       "      <td>5.6</td>\n",
       "      <td>8.09</td>\n",
       "      <td>0.4</td>\n",
       "      <td>0.88915</td>\n",
       "      <td>0.0</td>\n",
       "      <td>13.0</td>\n",
       "    </tr>\n",
       "  </tbody>\n",
       "</table>\n",
       "</div>"
      ],
      "text/plain": [
       "   female  black  hispanic     bytest  dadcoll  momcoll  ownhome  urban  \\\n",
       "0     0.0    0.0       0.0  39.150002      1.0      0.0      1.0    1.0   \n",
       "1     1.0    0.0       0.0  48.869999      0.0      0.0      1.0    1.0   \n",
       "2     0.0    0.0       0.0  48.740002      0.0      0.0      1.0    1.0   \n",
       "3     0.0    1.0       0.0  40.400002      0.0      0.0      1.0    1.0   \n",
       "4     1.0    0.0       0.0  40.480000      0.0      0.0      0.0    1.0   \n",
       "\n",
       "   cue80  stwmfg80  dist  tuition  incomehi    ed  \n",
       "0    6.2      8.09   0.2  0.88915       1.0  12.0  \n",
       "1    6.2      8.09   0.2  0.88915       0.0  12.0  \n",
       "2    6.2      8.09   0.2  0.88915       0.0  12.0  \n",
       "3    6.2      8.09   0.2  0.88915       0.0  12.0  \n",
       "4    5.6      8.09   0.4  0.88915       0.0  13.0  "
      ]
     },
     "execution_count": 2,
     "metadata": {},
     "output_type": "execute_result"
    }
   ],
   "source": [
    "df1 = pd.read_stata('CollegeDistance.dta')\n",
    "df1.head()"
   ]
  },
  {
   "cell_type": "code",
   "execution_count": 3,
   "metadata": {},
   "outputs": [
    {
     "data": {
      "image/png": "[encoded data removed]",
      "text/plain": [
       "<Figure size 576x396 with 1 Axes>"
      ]
     },
     "metadata": {},
     "output_type": "display_data"
    }
   ],
   "source": [
    "plt.style.use('seaborn')\n",
    "df1.plot(x='dist', y='ed', kind='scatter')\n",
    "plt.show()"
   ]
  },
  {
   "cell_type": "code",
   "execution_count": 4,
   "metadata": {},
   "outputs": [
    {
     "name": "stdout",
     "output_type": "stream",
     "text": [
      "                            OLS Regression Results                            \n",
      "==============================================================================\n",
      "Dep. Variable:                     ed   R-squared:                       0.284\n",
      "Model:                            OLS   Adj. R-squared:                  0.281\n",
      "Method:                 Least Squares   F-statistic:                     124.8\n",
      "Date:                Mon, 12 Apr 2021   Prob (F-statistic):          3.85e-263\n",
      "Time:                        22:57:32   Log-Likelihood:                -7013.3\n",
      "No. Observations:                3796   AIC:                         1.405e+04\n",
      "Df Residuals:                    3783   BIC:                         1.413e+04\n",
      "Df Model:                          12                                         \n",
      "Covariance Type:            nonrobust                                         \n",
      "==============================================================================\n",
      "                 coef    std err          t      P>|t|      [0.025      0.975]\n",
      "------------------------------------------------------------------------------\n",
      "const          8.9208      0.252     35.458      0.000       8.428       9.414\n",
      "dist          -0.0367      0.013     -2.883      0.004      -0.062      -0.012\n",
      "female         0.1430      0.050      2.835      0.005       0.044       0.242\n",
      "bytest         0.0930      0.003     29.242      0.000       0.087       0.099\n",
      "tuition       -0.1911      0.101     -1.894      0.058      -0.389       0.007\n",
      "black          0.3506      0.071      4.922      0.000       0.211       0.490\n",
      "hispanic       0.3618      0.077      4.682      0.000       0.210       0.513\n",
      "incomehi       0.3718      0.061      6.124      0.000       0.253       0.491\n",
      "ownhome        0.1385      0.067      2.076      0.038       0.008       0.269\n",
      "dadcoll        0.5710      0.074      7.748      0.000       0.426       0.715\n",
      "momcoll        0.3778      0.082      4.634      0.000       0.218       0.538\n",
      "cue80          0.0287      0.010      2.907      0.004       0.009       0.048\n",
      "stwmfg80      -0.0425      0.020     -2.103      0.036      -0.082      -0.003\n",
      "==============================================================================\n",
      "Omnibus:                      116.747   Durbin-Watson:                   1.928\n",
      "Prob(Omnibus):                  0.000   Jarque-Bera (JB):               98.323\n",
      "Skew:                           0.325   Prob(JB):                     4.46e-22\n",
      "Kurtosis:                       2.553   Cond. No.                         545.\n",
      "==============================================================================\n",
      "\n",
      "Warnings:\n",
      "[1] Standard Errors assume that the covariance matrix of the errors is correctly specified.\n"
     ]
    }
   ],
   "source": [
    "df1['const'] = 1\n",
    "reg1 = sm.OLS(endog=df1['ed'], exog=df1[['const', 'dist', 'female', 'bytest', 'tuition', 'black', 'hispanic', 'incomehi', 'ownhome', 'dadcoll', 'momcoll', 'cue80', 'stwmfg80']])\n",
    "\n",
    "results1 = reg1.fit()\n",
    "\n",
    "print(results1.summary())"
   ]
  },
  {
   "cell_type": "markdown",
   "metadata": {},
   "source": [
    "a. If Dist increases from 2 to 3, years of education decreases 0.0367 years. The years of education is expected to increase 0.0367 years if Dist increases from 6 to 7."
   ]
  },
  {
   "cell_type": "code",
   "execution_count": 5,
   "metadata": {},
   "outputs": [
    {
     "name": "stdout",
     "output_type": "stream",
     "text": [
      "                            OLS Regression Results                            \n",
      "==============================================================================\n",
      "Dep. Variable:                 log_ed   R-squared:                       0.285\n",
      "Model:                            OLS   Adj. R-squared:                  0.283\n",
      "Method:                 Least Squares   F-statistic:                     125.9\n",
      "Date:                Mon, 12 Apr 2021   Prob (F-statistic):          4.44e-265\n",
      "Time:                        22:57:32   Log-Likelihood:                 3027.6\n",
      "No. Observations:                3796   AIC:                            -6029.\n",
      "Df Residuals:                    3783   BIC:                            -5948.\n",
      "Df Model:                          12                                         \n",
      "Covariance Type:            nonrobust                                         \n",
      "==============================================================================\n",
      "                 coef    std err          t      P>|t|      [0.025      0.975]\n",
      "------------------------------------------------------------------------------\n",
      "const          2.2658      0.018    126.854      0.000       2.231       2.301\n",
      "dist          -0.0026      0.001     -2.888      0.004      -0.004      -0.001\n",
      "female         0.0103      0.004      2.878      0.004       0.003       0.017\n",
      "bytest         0.0067      0.000     29.467      0.000       0.006       0.007\n",
      "tuition       -0.0139      0.007     -1.946      0.052      -0.028       0.000\n",
      "black          0.0262      0.005      5.174      0.000       0.016       0.036\n",
      "hispanic       0.0260      0.005      4.739      0.000       0.015       0.037\n",
      "incomehi       0.0265      0.004      6.152      0.000       0.018       0.035\n",
      "ownhome        0.0098      0.005      2.076      0.038       0.001       0.019\n",
      "dadcoll        0.0405      0.005      7.748      0.000       0.030       0.051\n",
      "momcoll        0.0266      0.006      4.596      0.000       0.015       0.038\n",
      "cue80          0.0020      0.001      2.906      0.004       0.001       0.003\n",
      "stwmfg80      -0.0029      0.001     -1.996      0.046      -0.006   -5.13e-05\n",
      "==============================================================================\n",
      "Omnibus:                      146.274   Durbin-Watson:                   1.930\n",
      "Prob(Omnibus):                  0.000   Jarque-Bera (JB):               89.357\n",
      "Skew:                           0.237   Prob(JB):                     3.95e-20\n",
      "Kurtosis:                       2.417   Cond. No.                         545.\n",
      "==============================================================================\n",
      "\n",
      "Warnings:\n",
      "[1] Standard Errors assume that the covariance matrix of the errors is correctly specified.\n"
     ]
    }
   ],
   "source": [
    "df1['log_ed'] = np.log(df1['ed'])\n",
    "reg2 = sm.OLS(endog=df1['log_ed'], exog=df1[['const', 'dist', 'female', 'bytest', 'tuition', 'black', 'hispanic', 'incomehi', 'ownhome', 'dadcoll', 'momcoll', 'cue80', 'stwmfg80']])\n",
    "\n",
    "results2 = reg2.fit()\n",
    "\n",
    "print(results2.summary())"
   ]
  },
  {
   "cell_type": "markdown",
   "metadata": {},
   "source": [
    "b. If Dist increases from 2 to 3, 0.0026 years of education is expected to decrease. If Dist increases from 6 to 7, 0.0026 years of education is expected to increase."
   ]
  },
  {
   "cell_type": "code",
   "execution_count": 6,
   "metadata": {},
   "outputs": [
    {
     "name": "stdout",
     "output_type": "stream",
     "text": [
      "                            OLS Regression Results                            \n",
      "==============================================================================\n",
      "Dep. Variable:                     ed   R-squared:                       0.284\n",
      "Model:                            OLS   Adj. R-squared:                  0.282\n",
      "Method:                 Least Squares   F-statistic:                     115.6\n",
      "Date:                Mon, 12 Apr 2021   Prob (F-statistic):          5.95e-263\n",
      "Time:                        22:57:32   Log-Likelihood:                -7011.3\n",
      "No. Observations:                3796   AIC:                         1.405e+04\n",
      "Df Residuals:                    3782   BIC:                         1.414e+04\n",
      "Df Model:                          13                                         \n",
      "Covariance Type:            nonrobust                                         \n",
      "==============================================================================\n",
      "                 coef    std err          t      P>|t|      [0.025      0.975]\n",
      "------------------------------------------------------------------------------\n",
      "const          9.0122      0.256     35.264      0.000       8.511       9.513\n",
      "dist          -0.0812      0.026     -3.177      0.001      -0.131      -0.031\n",
      "sq_dist        0.0046      0.002      2.008      0.045       0.000       0.009\n",
      "female         0.1433      0.050      2.843      0.004       0.044       0.242\n",
      "bytest         0.0926      0.003     29.071      0.000       0.086       0.099\n",
      "tuition       -0.1928      0.101     -1.912      0.056      -0.391       0.005\n",
      "black          0.3339      0.072      4.658      0.000       0.193       0.474\n",
      "hispanic       0.3333      0.079      4.244      0.000       0.179       0.487\n",
      "incomehi       0.3695      0.061      6.086      0.000       0.250       0.489\n",
      "ownhome        0.1433      0.067      2.147      0.032       0.012       0.274\n",
      "dadcoll        0.5612      0.074      7.601      0.000       0.416       0.706\n",
      "momcoll        0.3777      0.081      4.635      0.000       0.218       0.537\n",
      "cue80          0.0260      0.010      2.607      0.009       0.006       0.045\n",
      "stwmfg80      -0.0426      0.020     -2.107      0.035      -0.082      -0.003\n",
      "==============================================================================\n",
      "Omnibus:                      114.316   Durbin-Watson:                   1.929\n",
      "Prob(Omnibus):                  0.000   Jarque-Bera (JB):               98.023\n",
      "Skew:                           0.328   Prob(JB):                     5.18e-22\n",
      "Kurtosis:                       2.565   Cond. No.                         560.\n",
      "==============================================================================\n",
      "\n",
      "Warnings:\n",
      "[1] Standard Errors assume that the covariance matrix of the errors is correctly specified.\n"
     ]
    }
   ],
   "source": [
    "df1['sq_dist'] = df1[\"dist\"]**2\n",
    "reg3 = sm.OLS(endog=df1['ed'], exog=df1[['const', 'dist', 'sq_dist', 'female', 'bytest', 'tuition', 'black', 'hispanic', 'incomehi', 'ownhome', 'dadcoll', 'momcoll', 'cue80', 'stwmfg80']])\n",
    "\n",
    "results3 = reg3.fit()\n",
    "\n",
    "print(results3.summary())"
   ]
  },
  {
   "cell_type": "markdown",
   "metadata": {},
   "source": [
    "c. If Dist increases from 2 to 3, 0.0582 years of education is expected to decrease. \n",
    "change in ed = (3* - 0.0812 + 9*0.0046) - (2* - 0.0812 + 4*0.0046) = -0.0812 + 5*0.0046 = -0.0582\n",
    "\n",
    "If Dist increases from 6 to 7, 0.0214 years of education is expected to decrease.\n",
    "change in ed = (7* - 0.0812 + 49*0.0046) - (6* - 0.0812 + 36*0.0046) = -0.0812 + 13*0.0046 = -0.0214"
   ]
  },
  {
   "cell_type": "markdown",
   "metadata": {},
   "source": [
    "d. I prefer the regression in c because the model specification is more detailed. We're able to see more concrete relationship between distance from school and years of education."
   ]
  },
  {
   "cell_type": "code",
   "execution_count": 7,
   "metadata": {},
   "outputs": [
    {
     "data": {
      "image/png": "[encoded data removed]",
      "text/plain": [
       "<Figure size 576x396 with 1 Axes>"
      ]
     },
     "metadata": {},
     "output_type": "display_data"
    }
   ],
   "source": [
    "a_plot = sb.regplot(x = \"dist\",\n",
    "            y = \"ed\", \n",
    "            ci = None,\n",
    "            data = df1)\n",
    "\n",
    "a_plot.set(xlim=(0, 10))\n",
    "\n",
    "plt.show()"
   ]
  },
  {
   "cell_type": "code",
   "execution_count": 8,
   "metadata": {},
   "outputs": [
    {
     "data": {
      "image/png": "[encoded data removed]",
      "text/plain": [
       "<Figure size 576x396 with 1 Axes>"
      ]
     },
     "metadata": {},
     "output_type": "display_data"
    }
   ],
   "source": [
    "x = df1['dist']\n",
    "y = df1['ed']\n",
    "\n",
    "plt.scatter(x,y)\n",
    "plt.xlim(0, 10)\n",
    "plt.xlabel(\"dist\")\n",
    "plt.ylabel(\"ed\")\n",
    "\n",
    "model = np.poly1d(np.polyfit(x, y, 2))\n",
    "\n",
    "polyline = np.linspace(0, 10)\n",
    "plt.scatter(x, y)\n",
    "plt.plot(polyline, model(polyline))\n",
    "plt.show()"
   ]
  },
  {
   "cell_type": "code",
   "execution_count": 9,
   "metadata": {},
   "outputs": [
    {
     "data": {
      "text/plain": [
       "44"
      ]
     },
     "execution_count": 9,
     "metadata": {},
     "output_type": "execute_result"
    }
   ],
   "source": [
    "sum(i > 10 for i in df1['dist'])"
   ]
  },
  {
   "cell_type": "markdown",
   "metadata": {},
   "source": [
    "e. i. Both the linear regression function and the quadratic function are downwards sloped. More distance leads to less education. The quadratic function's negative effect from distance is gradual. The negative effect is large when distance is small in this function whereas the linear function has linear relationship. The answers would not change if I plotted the regression function for a white male with the same characterisrics. This is because we're holding other variables constant.\n",
    "\n",
    "ii. Distance has positive effect on education for dist>10 for the (c) function. More education the further you're from school. There are 44 observations with Dist >10"
   ]
  },
  {
   "cell_type": "code",
   "execution_count": 11,
   "metadata": {},
   "outputs": [
    {
     "name": "stdout",
     "output_type": "stream",
     "text": [
      "                            OLS Regression Results                            \n",
      "==============================================================================\n",
      "Dep. Variable:                     ed   R-squared:                       0.285\n",
      "Model:                            OLS   Adj. R-squared:                  0.283\n",
      "Method:                 Least Squares   F-statistic:                     107.8\n",
      "Date:                Mon, 12 Apr 2021   Prob (F-statistic):          5.05e-263\n",
      "Time:                        22:57:38   Log-Likelihood:                -7008.7\n",
      "No. Observations:                3796   AIC:                         1.405e+04\n",
      "Df Residuals:                    3781   BIC:                         1.414e+04\n",
      "Df Model:                          14                                         \n",
      "Covariance Type:            nonrobust                                         \n",
      "===================================================================================\n",
      "                      coef    std err          t      P>|t|      [0.025      0.975]\n",
      "-----------------------------------------------------------------------------------\n",
      "const               9.0020      0.255     35.238      0.000       8.501       9.503\n",
      "dist               -0.0810      0.026     -3.172      0.002      -0.131      -0.031\n",
      "sq_dist             0.0047      0.002      2.025      0.043       0.000       0.009\n",
      "female              0.1406      0.050      2.790      0.005       0.042       0.239\n",
      "bytest              0.0926      0.003     29.063      0.000       0.086       0.099\n",
      "tuition            -0.1940      0.101     -1.925      0.054      -0.392       0.004\n",
      "black               0.3306      0.072      4.613      0.000       0.190       0.471\n",
      "hispanic            0.3297      0.079      4.201      0.000       0.176       0.484\n",
      "incomehi            0.3623      0.061      5.963      0.000       0.243       0.481\n",
      "ownhome             0.1412      0.067      2.117      0.034       0.010       0.272\n",
      "dadcoll             0.6538      0.084      7.755      0.000       0.489       0.819\n",
      "momcoll             0.5694      0.117      4.855      0.000       0.339       0.799\n",
      "dadcoll_momcoll    -0.3665      0.161     -2.271      0.023      -0.683      -0.050\n",
      "cue80               0.0258      0.010      2.590      0.010       0.006       0.045\n",
      "stwmfg80           -0.0415      0.020     -2.057      0.040      -0.081      -0.002\n",
      "==============================================================================\n",
      "Omnibus:                      110.465   Durbin-Watson:                   1.929\n",
      "Prob(Omnibus):                  0.000   Jarque-Bera (JB):               95.612\n",
      "Skew:                           0.325   Prob(JB):                     1.73e-21\n",
      "Kurtosis:                       2.575   Cond. No.                         560.\n",
      "==============================================================================\n",
      "\n",
      "Warnings:\n",
      "[1] Standard Errors assume that the covariance matrix of the errors is correctly specified.\n"
     ]
    }
   ],
   "source": [
    "df1['dadcoll_momcoll'] = df1[\"dadcoll\"]*df1[\"momcoll\"]\n",
    "\n",
    "reg4 = sm.OLS(endog=df1['ed'], exog=df1[['const', 'dist', 'sq_dist', 'female', 'bytest', 'tuition', 'black', 'hispanic', 'incomehi', 'ownhome', 'dadcoll', 'momcoll', 'dadcoll_momcoll', 'cue80', 'stwmfg80']])\n",
    "\n",
    "results4 = reg4.fit()\n",
    "\n",
    "print(results4.summary())"
   ]
  },
  {
   "cell_type": "markdown",
   "metadata": {},
   "source": [
    "f. The coefficient on the interaction term measures the joint effect of mom and dad's college graduate on education level. Both parents graduating from college is correlated with 0.3665 less years of education."
   ]
  },
  {
   "cell_type": "markdown",
   "metadata": {},
   "source": [
    "g. i. momcoll, dadcoll, and dadcoll_momcoll has zero effect on Mary's education.\n",
    "dadcoll has effect on Jane's education positively of 0.6538 years.\n",
    "Thus, Jane is predicted to be 0.6538 years more educated Mary.\n",
    "\n",
    "ii. momcoll has effect on Alexis's education positively of 0.5694 years.\n",
    "Alexis is predicted to be 0.5694 years more educated than Mary.\n",
    "\n",
    "iii. momcoll, dadcoll, and dadcoll_momcoll has effect on Bonie collectively of 0.8567 years.\n",
    "Bonie is predicted to be 0.5694 years more educated than Mary."
   ]
  },
  {
   "cell_type": "markdown",
   "metadata": {},
   "source": [
    "h. Yes, family income over \n",
    "25,000 is associated with 0.3623 more education compared to family income less than $25,000."
   ]
  },
  {
   "cell_type": "markdown",
   "metadata": {},
   "source": [
    "i. In summary, distance has slightly negative effect on years of education. It is hard to say distance has a causal effect on students' education level. students who live far have less years of education but this is probably not because they don't want to go to school because it is far away. One possible explanation is less education in rural areas where people are less densley populated. (which is hard to say causal relationship)"
   ]
  }
 ],
 "metadata": {
  "kernelspec": {
   "display_name": "Python 3",
   "language": "python",
   "name": "python3"
  },
  "language_info": {
   "codemirror_mode": {
    "name": "ipython",
    "version": 3
   },
   "file_extension": ".py",
   "mimetype": "text/x-python",
   "name": "python",
   "nbconvert_exporter": "python",
   "pygments_lexer": "ipython3",
   "version": "3.7.6"
  }
 },
 "nbformat": 4,
 "nbformat_minor": 4
}
