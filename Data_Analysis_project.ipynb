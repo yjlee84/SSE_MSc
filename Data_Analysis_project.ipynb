{
 "cells": [
  {
   "cell_type": "markdown",
   "metadata": {},
   "source": [
    "### Exercise 1: Replicate Figure 4"
   ]
  },
  {
   "cell_type": "code",
   "execution_count": 59,
   "metadata": {},
   "outputs": [],
   "source": [
    "library(ggplot2)\n",
    "library(openair)\n",
    "library(tidyr)\n",
    "library(lfe)\n",
    "library(stargazer)"
   ]
  },
  {
   "cell_type": "code",
   "execution_count": null,
   "metadata": {},
   "outputs": [],
   "source": [
    "df1 <- rio::import(\"data/pub_pvt_scatters.dta\")\n",
    "\n",
    "df2 <- rio::import(\"data/univ_names.xlsx\")"
   ]
  },
  {
   "cell_type": "code",
   "execution_count": null,
   "metadata": {},
   "outputs": [],
   "source": [
    "head(df1, 5)"
   ]
  },
  {
   "cell_type": "code",
   "execution_count": null,
   "metadata": {},
   "outputs": [],
   "source": [
    "head(df2, 5)"
   ]
  },
  {
   "cell_type": "code",
   "execution_count": null,
   "metadata": {},
   "outputs": [],
   "source": [
    "df_merge <- merge(df1, df2, by = c(\"unitid\"))       # Applying merge() function\n",
    "head(df_merge, 5)"
   ]
  },
  {
   "cell_type": "code",
   "execution_count": null,
   "metadata": {},
   "outputs": [],
   "source": [
    "df_merge$cpi_all <- mean(df_merge$cpi,na.rm=T)\n",
    "\n",
    "head(df_merge, 5)"
   ]
  },
  {
   "cell_type": "code",
   "execution_count": null,
   "metadata": {},
   "outputs": [],
   "source": [
    "df_merge$real_approp <- df_merge$nominal_approp/df_merge$cpi_all\n",
    "\n",
    "head(df_merge, 5)"
   ]
  },
  {
   "cell_type": "code",
   "execution_count": null,
   "metadata": {},
   "outputs": [],
   "source": [
    "df_merge$Private_Categorical <- as.factor(ifelse(df_merge$Private >0, 'Private', 'Public'))\n",
    "\n",
    "head(df_merge, 5)"
   ]
  },
  {
   "cell_type": "code",
   "execution_count": null,
   "metadata": {},
   "outputs": [],
   "source": [
    "df_merge <- df_merge[order(df_merge$unitid, df_merge$year),]\n",
    "\n",
    "head(df_merge, 5)"
   ]
  },
  {
   "cell_type": "code",
   "execution_count": null,
   "metadata": {},
   "outputs": [],
   "source": [
    "df_merge$log_real_approp <- log(df_merge$real_approp)\n",
    "\n",
    "df_merge$log_enroll_fresh_non_res_alien_deg <- log(df_merge$ENROLL_FRESH_NON_RES_ALIEN_DEG)"
   ]
  },
  {
   "cell_type": "code",
   "execution_count": null,
   "metadata": {},
   "outputs": [],
   "source": [
    "data.frame. <- subset(df_merge, year == 2012, select=c(unitid, year, name, log_real_approp, log_enroll_fresh_non_res_alien_deg, Private_Categorical))\n",
    "newdata2 <- subset(df_merge, year == 2005, select=c(unitid, year, name, log_real_approp, log_enroll_fresh_non_res_alien_deg, Private_Categorical))"
   ]
  },
  {
   "cell_type": "code",
   "execution_count": null,
   "metadata": {},
   "outputs": [],
   "source": [
    "data.frame.$diff_log_real_approp <- data.frame.$log_real_approp - newdata2$log_real_approp\n",
    "data.frame.$diff_log_enroll_fresh_non_res_alien_deg <- data.frame.$log_enroll_fresh_non_res_alien_deg - newdata2$log_enroll_fresh_non_res_alien_deg\n",
    "\n",
    "data.frame. <- subset(data.frame., select=c(unitid, year, name, diff_log_real_approp, diff_log_enroll_fresh_non_res_alien_deg, Private_Categorical))"
   ]
  },
  {
   "cell_type": "code",
   "execution_count": null,
   "metadata": {},
   "outputs": [],
   "source": [
    "head(data.frame.,5)"
   ]
  },
  {
   "cell_type": "code",
   "execution_count": null,
   "metadata": {},
   "outputs": [],
   "source": [
    "ggplot(data.frame., aes(x=diff_log_real_approp, y=diff_log_enroll_fresh_non_res_alien_deg, shape=Private_Categorical, color=Private_Categorical)) +\n",
    "  geom_point() + geom_smooth(method=lm)"
   ]
  },
  {
   "cell_type": "markdown",
   "metadata": {},
   "source": [
    "### Exercise 2: Replicate Table 2"
   ]
  },
  {
   "cell_type": "code",
   "execution_count": 17,
   "metadata": {},
   "outputs": [
    {
     "data": {
      "text/html": [
       "<table>\n",
       "<thead><tr><th scope=col>unitid</th><th scope=col>hepi_index</th><th scope=col>total03_revenue</th><th scope=col>unrestricted_revenue</th><th scope=col>instruction01</th><th scope=col>instruction02</th><th scope=col>research01</th><th scope=col>instsupp01</th><th scope=col>eandg01</th><th scope=col>AAU</th><th scope=col>...</th><th scope=col>tuition_fee_instate</th><th scope=col>tuition_fee_oos</th><th scope=col>l_disposible_grevenue</th><th scope=col>share_approp</th><th scope=col>l_out_of_state_tuition</th><th scope=col>l_in_state_tuition</th><th scope=col>out_of_state_tuition</th><th scope=col>in_state_tuition</th><th scope=col>l_tuition_fee_instate</th><th scope=col>l_tuition_fee_oos</th></tr></thead>\n",
       "<tbody>\n",
       "\t<tr><td>100654    </td><td>56.40691  </td><td>67350729  </td><td>48640486  </td><td>15659694  </td><td>13161901  </td><td> 8815611  </td><td>12120165  </td><td>59746060  </td><td>NA        </td><td>...       </td><td>2312      </td><td>4152      </td><td>15.84119  </td><td>0.03812668</td><td>8.259459  </td><td>7.566311  </td><td>3864      </td><td>1932      </td><td>7.745868  </td><td>8.331346  </td></tr>\n",
       "\t<tr><td>100654    </td><td>58.16759  </td><td>      NA  </td><td>      NA  </td><td>16597394  </td><td>14033527  </td><td> 9497682  </td><td>13087880  </td><td>65267080  </td><td>NA        </td><td>...       </td><td>2420      </td><td>4352      </td><td>15.87159  </td><td>0.03730490</td><td>8.259459  </td><td>7.566311  </td><td>3864      </td><td>1932      </td><td>7.791523  </td><td>8.378390  </td></tr>\n",
       "\t<tr><td>100654    </td><td>60.22171  </td><td>      NA  </td><td>      NA  </td><td>15093458  </td><td>13130137  </td><td>10223604  </td><td>14730140  </td><td>67996184  </td><td>NA        </td><td>...       </td><td>2332      </td><td>4664      </td><td>15.93107  </td><td>0.03754789</td><td>8.357963  </td><td>7.754481  </td><td>4264      </td><td>2332      </td><td>7.754481  </td><td>8.447629  </td></tr>\n",
       "\t<tr><td>100654    </td><td>61.65634  </td><td>      NA  </td><td>      NA  </td><td>13098304  </td><td>11250628  </td><td> 8177795  </td><td>11130602  </td><td>66427888  </td><td>NA        </td><td>...       </td><td>2332      </td><td>4264      </td><td>15.97041  </td><td>0.03622695</td><td>8.556414  </td><td>7.937375  </td><td>5200      </td><td>2800      </td><td>7.754481  </td><td>8.357963  </td></tr>\n",
       "\t<tr><td>100654    </td><td>64.19955  </td><td>      NA  </td><td>      NA  </td><td>14948569  </td><td>      NA  </td><td> 7823920  </td><td>11388795  </td><td>69049056  </td><td>NA        </td><td>...       </td><td>2800      </td><td>5200      </td><td>16.04659  </td><td>0.03869729</td><td>8.699514  </td><td>8.070906  </td><td>6000      </td><td>3200      </td><td>7.937375  </td><td>8.556414  </td></tr>\n",
       "</tbody>\n",
       "</table>\n"
      ],
      "text/latex": [
       "\\begin{tabular}{r|llllllllllllllllllllllllllllllllllllllllllllllllllllllllllllllllllllllllllllllllllllllllllll}\n",
       " unitid & hepi\\_index & total03\\_revenue & unrestricted\\_revenue & instruction01 & instruction02 & research01 & instsupp01 & eandg01 & AAU & ... & tuition\\_fee\\_instate & tuition\\_fee\\_oos & l\\_disposible\\_grevenue & share\\_approp & l\\_out\\_of\\_state\\_tuition & l\\_in\\_state\\_tuition & out\\_of\\_state\\_tuition & in\\_state\\_tuition & l\\_tuition\\_fee\\_instate & l\\_tuition\\_fee\\_oos\\\\\n",
       "\\hline\n",
       "\t 100654     & 56.40691   & 67350729   & 48640486   & 15659694   & 13161901   &  8815611   & 12120165   & 59746060   & NA         & ...        & 2312       & 4152       & 15.84119   & 0.03812668 & 8.259459   & 7.566311   & 3864       & 1932       & 7.745868   & 8.331346  \\\\\n",
       "\t 100654     & 58.16759   &       NA   &       NA   & 16597394   & 14033527   &  9497682   & 13087880   & 65267080   & NA         & ...        & 2420       & 4352       & 15.87159   & 0.03730490 & 8.259459   & 7.566311   & 3864       & 1932       & 7.791523   & 8.378390  \\\\\n",
       "\t 100654     & 60.22171   &       NA   &       NA   & 15093458   & 13130137   & 10223604   & 14730140   & 67996184   & NA         & ...        & 2332       & 4664       & 15.93107   & 0.03754789 & 8.357963   & 7.754481   & 4264       & 2332       & 7.754481   & 8.447629  \\\\\n",
       "\t 100654     & 61.65634   &       NA   &       NA   & 13098304   & 11250628   &  8177795   & 11130602   & 66427888   & NA         & ...        & 2332       & 4264       & 15.97041   & 0.03622695 & 8.556414   & 7.937375   & 5200       & 2800       & 7.754481   & 8.357963  \\\\\n",
       "\t 100654     & 64.19955   &       NA   &       NA   & 14948569   &       NA   &  7823920   & 11388795   & 69049056   & NA         & ...        & 2800       & 5200       & 16.04659   & 0.03869729 & 8.699514   & 8.070906   & 6000       & 3200       & 7.937375   & 8.556414  \\\\\n",
       "\\end{tabular}\n"
      ],
      "text/markdown": [
       "\n",
       "| unitid | hepi_index | total03_revenue | unrestricted_revenue | instruction01 | instruction02 | research01 | instsupp01 | eandg01 | AAU | ... | tuition_fee_instate | tuition_fee_oos | l_disposible_grevenue | share_approp | l_out_of_state_tuition | l_in_state_tuition | out_of_state_tuition | in_state_tuition | l_tuition_fee_instate | l_tuition_fee_oos |\n",
       "|---|---|---|---|---|---|---|---|---|---|---|---|---|---|---|---|---|---|---|---|---|\n",
       "| 100654     | 56.40691   | 67350729   | 48640486   | 15659694   | 13161901   |  8815611   | 12120165   | 59746060   | NA         | ...        | 2312       | 4152       | 15.84119   | 0.03812668 | 8.259459   | 7.566311   | 3864       | 1932       | 7.745868   | 8.331346   |\n",
       "| 100654     | 58.16759   |       NA   |       NA   | 16597394   | 14033527   |  9497682   | 13087880   | 65267080   | NA         | ...        | 2420       | 4352       | 15.87159   | 0.03730490 | 8.259459   | 7.566311   | 3864       | 1932       | 7.791523   | 8.378390   |\n",
       "| 100654     | 60.22171   |       NA   |       NA   | 15093458   | 13130137   | 10223604   | 14730140   | 67996184   | NA         | ...        | 2332       | 4664       | 15.93107   | 0.03754789 | 8.357963   | 7.754481   | 4264       | 2332       | 7.754481   | 8.447629   |\n",
       "| 100654     | 61.65634   |       NA   |       NA   | 13098304   | 11250628   |  8177795   | 11130602   | 66427888   | NA         | ...        | 2332       | 4264       | 15.97041   | 0.03622695 | 8.556414   | 7.937375   | 5200       | 2800       | 7.754481   | 8.357963   |\n",
       "| 100654     | 64.19955   |       NA   |       NA   | 14948569   |       NA   |  7823920   | 11388795   | 69049056   | NA         | ...        | 2800       | 5200       | 16.04659   | 0.03869729 | 8.699514   | 8.070906   | 6000       | 3200       | 7.937375   | 8.556414   |\n",
       "\n"
      ],
      "text/plain": [
       "  unitid hepi_index total03_revenue unrestricted_revenue instruction01\n",
       "1 100654 56.40691   67350729        48640486             15659694     \n",
       "2 100654 58.16759         NA              NA             16597394     \n",
       "3 100654 60.22171         NA              NA             15093458     \n",
       "4 100654 61.65634         NA              NA             13098304     \n",
       "5 100654 64.19955         NA              NA             14948569     \n",
       "  instruction02 research01 instsupp01 eandg01  AAU ... tuition_fee_instate\n",
       "1 13161901       8815611   12120165   59746060 NA  ... 2312               \n",
       "2 14033527       9497682   13087880   65267080 NA  ... 2420               \n",
       "3 13130137      10223604   14730140   67996184 NA  ... 2332               \n",
       "4 11250628       8177795   11130602   66427888 NA  ... 2332               \n",
       "5       NA       7823920   11388795   69049056 NA  ... 2800               \n",
       "  tuition_fee_oos l_disposible_grevenue share_approp l_out_of_state_tuition\n",
       "1 4152            15.84119              0.03812668   8.259459              \n",
       "2 4352            15.87159              0.03730490   8.259459              \n",
       "3 4664            15.93107              0.03754789   8.357963              \n",
       "4 4264            15.97041              0.03622695   8.556414              \n",
       "5 5200            16.04659              0.03869729   8.699514              \n",
       "  l_in_state_tuition out_of_state_tuition in_state_tuition\n",
       "1 7.566311           3864                 1932            \n",
       "2 7.566311           3864                 1932            \n",
       "3 7.754481           4264                 2332            \n",
       "4 7.937375           5200                 2800            \n",
       "5 8.070906           6000                 3200            \n",
       "  l_tuition_fee_instate l_tuition_fee_oos\n",
       "1 7.745868              8.331346         \n",
       "2 7.791523              8.378390         \n",
       "3 7.754481              8.447629         \n",
       "4 7.754481              8.357963         \n",
       "5 7.937375              8.556414         "
      ]
     },
     "metadata": {},
     "output_type": "display_data"
    }
   ],
   "source": [
    "df3 <- rio::import(\"data/univ_data.dta\")\n",
    "\n",
    "head(df3,5)"
   ]
  },
  {
   "cell_type": "code",
   "execution_count": 19,
   "metadata": {},
   "outputs": [],
   "source": [
    "df3$tot_state_app <- df3$nominal_approp - df3$state_ap*100000\n",
    "df3$l_tot_state_app <- log(df3$nominal_approp)"
   ]
  },
  {
   "cell_type": "code",
   "execution_count": 20,
   "metadata": {},
   "outputs": [
    {
     "data": {
      "text/html": [
       "<table>\n",
       "<thead><tr><th scope=col>unitid</th><th scope=col>hepi_index</th><th scope=col>total03_revenue</th><th scope=col>unrestricted_revenue</th><th scope=col>instruction01</th><th scope=col>instruction02</th><th scope=col>research01</th><th scope=col>instsupp01</th><th scope=col>eandg01</th><th scope=col>AAU</th><th scope=col>...</th><th scope=col>l_disposible_grevenue</th><th scope=col>share_approp</th><th scope=col>l_out_of_state_tuition</th><th scope=col>l_in_state_tuition</th><th scope=col>out_of_state_tuition</th><th scope=col>in_state_tuition</th><th scope=col>l_tuition_fee_instate</th><th scope=col>l_tuition_fee_oos</th><th scope=col>tot_state_app</th><th scope=col>l_tot_state_app</th></tr></thead>\n",
       "<tbody>\n",
       "\t<tr><td>100654    </td><td>56.40691  </td><td>67350729  </td><td>48640486  </td><td>15659694  </td><td>13161901  </td><td> 8815611  </td><td>12120165  </td><td> 59746060 </td><td>NA        </td><td>...       </td><td>15.84119  </td><td>0.03812668</td><td>8.259459  </td><td>7.566311  </td><td>3864      </td><td>1932      </td><td>7.745868  </td><td>8.331346  </td><td>653447974 </td><td>20.33665  </td></tr>\n",
       "\t<tr><td>100654    </td><td>58.16759  </td><td>      NA  </td><td>      NA  </td><td>16597394  </td><td>14033527  </td><td> 9497682  </td><td>13087880  </td><td> 65267080 </td><td>NA        </td><td>...       </td><td>15.87159  </td><td>0.03730490</td><td>8.259459  </td><td>7.566311  </td><td>3864      </td><td>1932      </td><td>7.791523  </td><td>8.378390  </td><td>684358410 </td><td>20.38201  </td></tr>\n",
       "\t<tr><td>100654    </td><td>72.87251  </td><td>      NA  </td><td>      NA  </td><td>20976050  </td><td>17228140  </td><td>10679847  </td><td>15705559  </td><td> 90514032 </td><td>NA        </td><td>...       </td><td>16.19086  </td><td>0.03945206</td><td>8.961879  </td><td>8.268732  </td><td>7800      </td><td>3900      </td><td>8.117312  </td><td>8.729720  </td><td>818813236 </td><td>20.56362  </td></tr>\n",
       "\t<tr><td>100654    </td><td>75.54613  </td><td>      NA  </td><td>      NA  </td><td>21317976  </td><td>17280432  </td><td>10664248  </td><td>17568800  </td><td> 93791560 </td><td>NA        </td><td>...       </td><td>16.22568  </td><td>0.03965382</td><td>9.026418  </td><td>8.393895  </td><td>8320      </td><td>4420      </td><td>8.199739  </td><td>8.818778  </td><td>821633903 </td><td>20.56727  </td></tr>\n",
       "\t<tr><td>100654    </td><td>82.52364  </td><td>      NA  </td><td>      NA  </td><td>25467610  </td><td>19924012  </td><td>15256037  </td><td>19360488  </td><td>106958256 </td><td>NA        </td><td>...       </td><td>16.44110  </td><td>0.03948618</td><td>9.057189  </td><td>8.364042  </td><td>8580      </td><td>4290      </td><td>8.202482  </td><td>8.820256  </td><td>973892225 </td><td>20.73710  </td></tr>\n",
       "</tbody>\n",
       "</table>\n"
      ],
      "text/latex": [
       "\\begin{tabular}{r|llllllllllllllllllllllllllllllllllllllllllllllllllllllllllllllllllllllllllllllllllllllllllllll}\n",
       " unitid & hepi\\_index & total03\\_revenue & unrestricted\\_revenue & instruction01 & instruction02 & research01 & instsupp01 & eandg01 & AAU & ... & l\\_disposible\\_grevenue & share\\_approp & l\\_out\\_of\\_state\\_tuition & l\\_in\\_state\\_tuition & out\\_of\\_state\\_tuition & in\\_state\\_tuition & l\\_tuition\\_fee\\_instate & l\\_tuition\\_fee\\_oos & tot\\_state\\_app & l\\_tot\\_state\\_app\\\\\n",
       "\\hline\n",
       "\t 100654     & 56.40691   & 67350729   & 48640486   & 15659694   & 13161901   &  8815611   & 12120165   &  59746060  & NA         & ...        & 15.84119   & 0.03812668 & 8.259459   & 7.566311   & 3864       & 1932       & 7.745868   & 8.331346   & 653447974  & 20.33665  \\\\\n",
       "\t 100654     & 58.16759   &       NA   &       NA   & 16597394   & 14033527   &  9497682   & 13087880   &  65267080  & NA         & ...        & 15.87159   & 0.03730490 & 8.259459   & 7.566311   & 3864       & 1932       & 7.791523   & 8.378390   & 684358410  & 20.38201  \\\\\n",
       "\t 100654     & 72.87251   &       NA   &       NA   & 20976050   & 17228140   & 10679847   & 15705559   &  90514032  & NA         & ...        & 16.19086   & 0.03945206 & 8.961879   & 8.268732   & 7800       & 3900       & 8.117312   & 8.729720   & 818813236  & 20.56362  \\\\\n",
       "\t 100654     & 75.54613   &       NA   &       NA   & 21317976   & 17280432   & 10664248   & 17568800   &  93791560  & NA         & ...        & 16.22568   & 0.03965382 & 9.026418   & 8.393895   & 8320       & 4420       & 8.199739   & 8.818778   & 821633903  & 20.56727  \\\\\n",
       "\t 100654     & 82.52364   &       NA   &       NA   & 25467610   & 19924012   & 15256037   & 19360488   & 106958256  & NA         & ...        & 16.44110   & 0.03948618 & 9.057189   & 8.364042   & 8580       & 4290       & 8.202482   & 8.820256   & 973892225  & 20.73710  \\\\\n",
       "\\end{tabular}\n"
      ],
      "text/markdown": [
       "\n",
       "| unitid | hepi_index | total03_revenue | unrestricted_revenue | instruction01 | instruction02 | research01 | instsupp01 | eandg01 | AAU | ... | l_disposible_grevenue | share_approp | l_out_of_state_tuition | l_in_state_tuition | out_of_state_tuition | in_state_tuition | l_tuition_fee_instate | l_tuition_fee_oos | tot_state_app | l_tot_state_app |\n",
       "|---|---|---|---|---|---|---|---|---|---|---|---|---|---|---|---|---|---|---|---|---|\n",
       "| 100654     | 56.40691   | 67350729   | 48640486   | 15659694   | 13161901   |  8815611   | 12120165   |  59746060  | NA         | ...        | 15.84119   | 0.03812668 | 8.259459   | 7.566311   | 3864       | 1932       | 7.745868   | 8.331346   | 653447974  | 20.33665   |\n",
       "| 100654     | 58.16759   |       NA   |       NA   | 16597394   | 14033527   |  9497682   | 13087880   |  65267080  | NA         | ...        | 15.87159   | 0.03730490 | 8.259459   | 7.566311   | 3864       | 1932       | 7.791523   | 8.378390   | 684358410  | 20.38201   |\n",
       "| 100654     | 72.87251   |       NA   |       NA   | 20976050   | 17228140   | 10679847   | 15705559   |  90514032  | NA         | ...        | 16.19086   | 0.03945206 | 8.961879   | 8.268732   | 7800       | 3900       | 8.117312   | 8.729720   | 818813236  | 20.56362   |\n",
       "| 100654     | 75.54613   |       NA   |       NA   | 21317976   | 17280432   | 10664248   | 17568800   |  93791560  | NA         | ...        | 16.22568   | 0.03965382 | 9.026418   | 8.393895   | 8320       | 4420       | 8.199739   | 8.818778   | 821633903  | 20.56727   |\n",
       "| 100654     | 82.52364   |       NA   |       NA   | 25467610   | 19924012   | 15256037   | 19360488   | 106958256  | NA         | ...        | 16.44110   | 0.03948618 | 9.057189   | 8.364042   | 8580       | 4290       | 8.202482   | 8.820256   | 973892225  | 20.73710   |\n",
       "\n"
      ],
      "text/plain": [
       "  unitid hepi_index total03_revenue unrestricted_revenue instruction01\n",
       "1 100654 56.40691   67350729        48640486             15659694     \n",
       "2 100654 58.16759         NA              NA             16597394     \n",
       "3 100654 72.87251         NA              NA             20976050     \n",
       "4 100654 75.54613         NA              NA             21317976     \n",
       "5 100654 82.52364         NA              NA             25467610     \n",
       "  instruction02 research01 instsupp01 eandg01   AAU ... l_disposible_grevenue\n",
       "1 13161901       8815611   12120165    59746060 NA  ... 15.84119             \n",
       "2 14033527       9497682   13087880    65267080 NA  ... 15.87159             \n",
       "3 17228140      10679847   15705559    90514032 NA  ... 16.19086             \n",
       "4 17280432      10664248   17568800    93791560 NA  ... 16.22568             \n",
       "5 19924012      15256037   19360488   106958256 NA  ... 16.44110             \n",
       "  share_approp l_out_of_state_tuition l_in_state_tuition out_of_state_tuition\n",
       "1 0.03812668   8.259459               7.566311           3864                \n",
       "2 0.03730490   8.259459               7.566311           3864                \n",
       "3 0.03945206   8.961879               8.268732           7800                \n",
       "4 0.03965382   9.026418               8.393895           8320                \n",
       "5 0.03948618   9.057189               8.364042           8580                \n",
       "  in_state_tuition l_tuition_fee_instate l_tuition_fee_oos tot_state_app\n",
       "1 1932             7.745868              8.331346          653447974    \n",
       "2 1932             7.791523              8.378390          684358410    \n",
       "3 3900             8.117312              8.729720          818813236    \n",
       "4 4420             8.199739              8.818778          821633903    \n",
       "5 4290             8.202482              8.820256          973892225    \n",
       "  l_tot_state_app\n",
       "1 20.33665       \n",
       "2 20.38201       \n",
       "3 20.56362       \n",
       "4 20.56727       \n",
       "5 20.73710       "
      ]
     },
     "metadata": {},
     "output_type": "display_data"
    }
   ],
   "source": [
    "df4 <- df3 %>% drop_na(l_ENROLL_FRESH_NON_RES_ALIEN_DEG,l_AMERICAN_OOS,l_IN_STATE_FRESHMEN)\n",
    "\n",
    "head(df4,5)"
   ]
  },
  {
   "cell_type": "code",
   "execution_count": 21,
   "metadata": {},
   "outputs": [
    {
     "data": {
      "text/html": [
       "<ol class=list-inline>\n",
       "\t<li>5414</li>\n",
       "\t<li>94</li>\n",
       "</ol>\n"
      ],
      "text/latex": [
       "\\begin{enumerate*}\n",
       "\\item 5414\n",
       "\\item 94\n",
       "\\end{enumerate*}\n"
      ],
      "text/markdown": [
       "1. 5414\n",
       "2. 94\n",
       "\n",
       "\n"
      ],
      "text/plain": [
       "[1] 5414   94"
      ]
     },
     "metadata": {},
     "output_type": "display_data"
    }
   ],
   "source": [
    "dim(df4)"
   ]
  },
  {
   "cell_type": "code",
   "execution_count": 22,
   "metadata": {},
   "outputs": [
    {
     "data": {
      "text/plain": [
       "\n",
       "Call:\n",
       "   felm(formula = l_ENROLL_FRESH_NON_RES_ALIEN_DEG ~ l_state_ap +      l_population, data = subset(df4, Research == 1), weights = NULL) \n",
       "\n",
       "Residuals:\n",
       "    Min      1Q  Median      3Q     Max \n",
       "-3.2644 -0.5511 -0.0265  0.5322  3.0816 \n",
       "\n",
       "Coefficients:\n",
       "             Estimate Std. Error t value Pr(>|t|)    \n",
       "(Intercept)  -2.65576    0.25476 -10.424   <2e-16 ***\n",
       "l_state_ap    0.61934    0.02831  21.876   <2e-16 ***\n",
       "l_population  0.17105    0.02021   8.462   <2e-16 ***\n",
       "---\n",
       "Signif. codes:  0 ‘***’ 0.001 ‘**’ 0.01 ‘*’ 0.05 ‘.’ 0.1 ‘ ’ 1\n",
       "\n",
       "Residual standard error: 0.8672 on 2118 degrees of freedom\n",
       "  (65 observations deleted due to missingness)\n",
       "Multiple R-squared(full model): 0.2617   Adjusted R-squared: 0.261 \n",
       "Multiple R-squared(proj model): 0.2617   Adjusted R-squared: 0.261 \n",
       "F-statistic(full model):375.3 on 2 and 2118 DF, p-value: < 2.2e-16 \n",
       "F-statistic(proj model): 375.3 on 2 and 2118 DF, p-value: < 2.2e-16 \n",
       "\n"
      ]
     },
     "metadata": {},
     "output_type": "display_data"
    }
   ],
   "source": [
    "est <- felm(l_ENROLL_FRESH_NON_RES_ALIEN_DEG ~ l_state_ap + l_population, data = subset(df4, Research == 1), weights = NULL)\n",
    "\n",
    "est2 <- felm(l_ENROLL_FRESH_NON_RES_ALIEN_DEG ~ l_state_ap + l_population, data = subset(df4, AAU == 1), weights = NULL)\n",
    "\n",
    "est3 <- felm(l_ENROLL_FRESH_NON_RES_ALIEN_DEG ~ l_state_ap + l_population, data = subset(df4, nonResearch == 1), weights = NULL)\n",
    "\n"
   ]
  },
  {
   "cell_type": "code",
   "execution_count": 42,
   "metadata": {},
   "outputs": [
    {
     "ename": "ERROR",
     "evalue": "Error in ivreg(l_ENROLL_FRESH_NON_RES_ALIEN_DEG ~ l_population + l_state_ap | : could not find function \"ivreg\"\n",
     "output_type": "error",
     "traceback": [
      "Error in ivreg(l_ENROLL_FRESH_NON_RES_ALIEN_DEG ~ l_population + l_state_ap | : could not find function \"ivreg\"\nTraceback:\n"
     ]
    }
   ],
   "source": [
    "est_iv_1 <- ivreg(l_ENROLL_FRESH_NON_RES_ALIEN_DEG ~ l_population + l_state_ap | l_population + l_tot_state_app, data = subset(df4, nonResearch == 1), weights = NULL)"
   ]
  },
  {
   "cell_type": "code",
   "execution_count": 29,
   "metadata": {
    "scrolled": true
   },
   "outputs": [
    {
     "data": {
      "text/plain": [
       "\n",
       "Call:\n",
       "   felm(formula = l_state_ap ~ l_tot_state_app, data = subset(df4,      nonResearch == 1), weights = NULL) \n",
       "\n",
       "Residuals:\n",
       "     Min       1Q   Median       3Q      Max \n",
       "-2.00940 -0.38782 -0.00498  0.38343  1.70483 \n",
       "\n",
       "Coefficients:\n",
       "                Estimate Std. Error t value Pr(>|t|)    \n",
       "(Intercept)     -1.35253    0.22144  -6.108 1.13e-09 ***\n",
       "l_tot_state_app  0.34646    0.01048  33.074  < 2e-16 ***\n",
       "---\n",
       "Signif. codes:  0 ‘***’ 0.001 ‘**’ 0.01 ‘*’ 0.05 ‘.’ 0.1 ‘ ’ 1\n",
       "\n",
       "Residual standard error: 0.547 on 3163 degrees of freedom\n",
       "  (63 observations deleted due to missingness)\n",
       "Multiple R-squared(full model): 0.257   Adjusted R-squared: 0.2567 \n",
       "Multiple R-squared(proj model): 0.257   Adjusted R-squared: 0.2567 \n",
       "F-statistic(full model): 1094 on 1 and 3163 DF, p-value: < 2.2e-16 \n",
       "F-statistic(proj model):  1094 on 1 and 3163 DF, p-value: < 2.2e-16 \n",
       "\n"
      ]
     },
     "metadata": {},
     "output_type": "display_data"
    }
   ],
   "source": [
    "est5 <- felm(l_state_ap ~ l_tot_state_app, data = subset(df4, Research == 1), weights = NULL)\n",
    "\n",
    "est6 <- felm(l_state_ap ~ l_tot_state_app, data = subset(df4, AAU == 1), weights = NULL)\n",
    "\n",
    "est7 <- felm(l_state_ap ~ l_tot_state_app, data = subset(df4, nonResearch == 1), weights = NULL)\n",
    "summary(est7)"
   ]
  },
  {
   "cell_type": "code",
   "execution_count": 67,
   "metadata": {},
   "outputs": [
    {
     "name": "stdout",
     "output_type": "stream",
     "text": [
      "\n",
      "Results\n",
      "==============================================================================================================================\n",
      "                                                               Dependent variable:                                            \n",
      "                    ----------------------------------------------------------------------------------------------------------\n",
      "                              l_ENROLL_FRESH_NON_RES_ALIEN_DEG                                l_state_ap                      \n",
      "                           (1)              (2)               (3)               (4)               (5)               (6)       \n",
      "------------------------------------------------------------------------------------------------------------------------------\n",
      "l_state_ap              0.619***          0.224***         0.592***                                                           \n",
      "                         (0.028)          (0.079)           (0.032)                                                           \n",
      "                                                                                                                              \n",
      "l_population            0.171***           -0.079          0.100***                                                           \n",
      "                         (0.020)          (0.052)           (0.024)                                                           \n",
      "                                                                                                                              \n",
      "l_tot_state_app                                                              0.346***          0.346***          0.346***     \n",
      "                                                                              (0.010)           (0.010)           (0.010)     \n",
      "                                                                                                                              \n",
      "Constant                -2.656***         3.864***         -2.090***         -1.353***         -1.353***         -1.353***    \n",
      "                         (0.255)          (0.687)           (0.257)           (0.221)           (0.221)           (0.221)     \n",
      "                                                                                                                              \n",
      "------------------------------------------------------------------------------------------------------------------------------\n",
      "Observations              2,121             547              3,162             3,165             3,165             3,165      \n",
      "R2                        0.262            0.015             0.144             0.257             0.257             0.257      \n",
      "Adjusted R2               0.261            0.011             0.143             0.257             0.257             0.257      \n",
      "Residual Std. Error 0.867 (df = 2118) 0.906 (df = 544) 1.028 (df = 3159) 0.547 (df = 3163) 0.547 (df = 3163) 0.547 (df = 3163)\n",
      "==============================================================================================================================\n",
      "Note:                                                                                              *p<0.1; **p<0.05; ***p<0.01\n"
     ]
    }
   ],
   "source": [
    "stargazer(est, est2, est3, est5, est6, est7, type=\"text\", title=\"Results\", align=TRUE, out=\"models.htm\")"
   ]
  },
  {
   "cell_type": "code",
   "execution_count": 65,
   "metadata": {},
   "outputs": [
    {
     "name": "stdout",
     "output_type": "stream",
     "text": [
      "\n",
      "<table style=\"text-align:center\"><tr><td colspan=\"7\" style=\"border-bottom: 1px solid black\"></td></tr><tr><td style=\"text-align:left\"></td><td colspan=\"6\"><em>Dependent variable:</em></td></tr>\n",
      "<tr><td></td><td colspan=\"6\" style=\"border-bottom: 1px solid black\"></td></tr>\n",
      "<tr><td style=\"text-align:left\"></td><td colspan=\"3\">Miles/(US) gallon</td><td colspan=\"3\">Fast car (=1)</td></tr>\n",
      "<tr><td style=\"text-align:left\"></td><td>(1)</td><td>(2)</td><td>(3)</td><td>(4)</td><td>(5)</td><td>(6)</td></tr>\n",
      "<tr><td colspan=\"7\" style=\"border-bottom: 1px solid black\"></td></tr><tr><td style=\"text-align:left\">Gross horsepower</td><td>0.619<sup>***</sup></td><td>0.224<sup>***</sup></td><td>0.592<sup>***</sup></td><td></td><td></td><td></td></tr>\n",
      "<tr><td style=\"text-align:left\"></td><td>(0.028)</td><td>(0.079)</td><td>(0.032)</td><td></td><td></td><td></td></tr>\n",
      "<tr><td style=\"text-align:left\"></td><td></td><td></td><td></td><td></td><td></td><td></td></tr>\n",
      "<tr><td style=\"text-align:left\">Rear axle ratio</td><td>0.171<sup>***</sup></td><td>-0.079</td><td>0.100<sup>***</sup></td><td></td><td></td><td></td></tr>\n",
      "<tr><td style=\"text-align:left\"></td><td>(0.020)</td><td>(0.052)</td><td>(0.024)</td><td></td><td></td><td></td></tr>\n",
      "<tr><td style=\"text-align:left\"></td><td></td><td></td><td></td><td></td><td></td><td></td></tr>\n",
      "<tr><td style=\"text-align:left\">Four foward gears</td><td></td><td></td><td></td><td>0.346<sup>***</sup></td><td>0.346<sup>***</sup></td><td>0.346<sup>***</sup></td></tr>\n",
      "<tr><td style=\"text-align:left\"></td><td></td><td></td><td></td><td>(0.010)</td><td>(0.010)</td><td>(0.010)</td></tr>\n",
      "<tr><td style=\"text-align:left\"></td><td></td><td></td><td></td><td></td><td></td><td></td></tr>\n",
      "<tr><td style=\"text-align:left\">Five forward gears</td><td>-2.656<sup>***</sup></td><td>3.864<sup>***</sup></td><td>-2.090<sup>***</sup></td><td>-1.353<sup>***</sup></td><td>-1.353<sup>***</sup></td><td>-1.353<sup>***</sup></td></tr>\n",
      "<tr><td style=\"text-align:left\"></td><td>(0.255)</td><td>(0.687)</td><td>(0.257)</td><td>(0.221)</td><td>(0.221)</td><td>(0.221)</td></tr>\n",
      "<tr><td style=\"text-align:left\"></td><td></td><td></td><td></td><td></td><td></td><td></td></tr>\n",
      "<tr><td colspan=\"7\" style=\"border-bottom: 1px solid black\"></td></tr><tr><td style=\"text-align:left\">Observations</td><td>2,121</td><td>547</td><td>3,162</td><td>3,165</td><td>3,165</td><td>3,165</td></tr>\n",
      "<tr><td style=\"text-align:left\">R<sup>2</sup></td><td>0.262</td><td>0.015</td><td>0.144</td><td>0.257</td><td>0.257</td><td>0.257</td></tr>\n",
      "<tr><td style=\"text-align:left\">Adjusted R<sup>2</sup></td><td>0.261</td><td>0.011</td><td>0.143</td><td>0.257</td><td>0.257</td><td>0.257</td></tr>\n",
      "<tr><td style=\"text-align:left\">Residual Std. Error</td><td>0.867 (df = 2118)</td><td>0.906 (df = 544)</td><td>1.028 (df = 3159)</td><td>0.547 (df = 3163)</td><td>0.547 (df = 3163)</td><td>0.547 (df = 3163)</td></tr>\n",
      "<tr><td colspan=\"7\" style=\"border-bottom: 1px solid black\"></td></tr><tr><td style=\"text-align:left\"><em>Note:</em></td><td colspan=\"6\" style=\"text-align:right\"><sup>*</sup>p<0.1; <sup>**</sup>p<0.05; <sup>***</sup>p<0.01</td></tr>\n",
      "</table>\n"
     ]
    }
   ],
   "source": [
    "stargazer(est, est2, est3, est5, est6, est7, type=\"html\", dep.var.labels=c(\"Miles/(US) gallon\",\"Fast car (=1)\"), covariate.labels=c(\"Gross horsepower\",\"Rear axle ratio\",\"Four foward gears\", \"Five forward gears\",\"Type of transmission (manual=1)\"), out=\"models.htm\")"
   ]
  },
  {
   "cell_type": "code",
   "execution_count": null,
   "metadata": {},
   "outputs": [],
   "source": []
  }
 ],
 "metadata": {
  "kernelspec": {
   "display_name": "R",
   "language": "R",
   "name": "ir"
  },
  "language_info": {
   "codemirror_mode": "r",
   "file_extension": ".r",
   "mimetype": "text/x-r-source",
   "name": "R",
   "pygments_lexer": "r",
   "version": "3.6.1"
  }
 },
 "nbformat": 4,
 "nbformat_minor": 4
}
