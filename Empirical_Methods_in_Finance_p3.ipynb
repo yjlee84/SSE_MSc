{
 "cells": [
  {
   "cell_type": "markdown",
   "metadata": {},
   "source": [
    "### Problem Set 3\n",
    "\n",
    "1. a) predictive regression with Fama-Macbeth\n",
    "\n",
    "$ret_{i,t+1} = α + β_1city_returns_{i,t} + β_2indret_{i,t} + ε_{it}$"
   ]
  },
  {
   "cell_type": "code",
   "execution_count": 1,
   "metadata": {},
   "outputs": [
    {
     "name": "stderr",
     "output_type": "stream",
     "text": [
      "\n",
      "Attaching package: ‘dplyr’\n",
      "\n",
      "\n",
      "The following objects are masked from ‘package:stats’:\n",
      "\n",
      "    filter, lag\n",
      "\n",
      "\n",
      "The following objects are masked from ‘package:base’:\n",
      "\n",
      "    intersect, setdiff, setequal, union\n",
      "\n",
      "\n",
      "── \u001b[1mAttaching packages\u001b[22m ─────────────────────────────────────── tidyverse 1.3.1 ──\n",
      "\n",
      "\u001b[32m✔\u001b[39m \u001b[34mggplot2\u001b[39m 3.3.5     \u001b[32m✔\u001b[39m \u001b[34mpurrr  \u001b[39m 0.3.4\n",
      "\u001b[32m✔\u001b[39m \u001b[34mtibble \u001b[39m 3.1.8     \u001b[32m✔\u001b[39m \u001b[34mstringr\u001b[39m 1.4.0\n",
      "\u001b[32m✔\u001b[39m \u001b[34mtidyr  \u001b[39m 1.2.0     \u001b[32m✔\u001b[39m \u001b[34mforcats\u001b[39m 0.5.1\n",
      "\u001b[32m✔\u001b[39m \u001b[34mreadr  \u001b[39m 2.1.2     \n",
      "\n",
      "── \u001b[1mConflicts\u001b[22m ────────────────────────────────────────── tidyverse_conflicts() ──\n",
      "\u001b[31m✖\u001b[39m \u001b[34mggplot2\u001b[39m::\u001b[32m%+%()\u001b[39m   masks \u001b[34mpsych\u001b[39m::%+%()\n",
      "\u001b[31m✖\u001b[39m \u001b[34mggplot2\u001b[39m::\u001b[32malpha()\u001b[39m masks \u001b[34mpsych\u001b[39m::alpha()\n",
      "\u001b[31m✖\u001b[39m \u001b[34mdplyr\u001b[39m::\u001b[32mfilter()\u001b[39m  masks \u001b[34mstats\u001b[39m::filter()\n",
      "\u001b[31m✖\u001b[39m \u001b[34mdplyr\u001b[39m::\u001b[32mlag()\u001b[39m     masks \u001b[34mstats\u001b[39m::lag()\n",
      "\n",
      "\n",
      "Attaching package: ‘lubridate’\n",
      "\n",
      "\n",
      "The following objects are masked from ‘package:base’:\n",
      "\n",
      "    date, intersect, setdiff, union\n",
      "\n",
      "\n"
     ]
    },
    {
     "data": {
      "text/html": [
       "<table>\n",
       "<thead><tr><th scope=col>permno</th><th scope=col>year</th><th scope=col>ret</th><th scope=col>city</th><th scope=col>ind</th><th scope=col>date</th><th scope=col>city_returns</th><th scope=col>MRP</th><th scope=col>HML</th><th scope=col>RF</th><th scope=col>MOM</th><th scope=col>indret</th></tr></thead>\n",
       "<tbody>\n",
       "\t<tr><td>10001       </td><td>2000        </td><td>-0.04411765 </td><td>4           </td><td>8           </td><td>480         </td><td>-0.024553183</td><td>-0.0474     </td><td> 0.0026     </td><td>0.0041      </td><td> 0.0188     </td><td> 0.06220017 </td></tr>\n",
       "\t<tr><td>10001       </td><td>2000        </td><td> 0.01538462 </td><td>4           </td><td>8           </td><td>481         </td><td> 0.045873884</td><td> 0.0245     </td><td>-0.1261     </td><td>0.0043      </td><td> 0.1838     </td><td>-0.04722921 </td></tr>\n",
       "\t<tr><td>10001       </td><td>2000        </td><td>-0.01575758 </td><td>4           </td><td>8           </td><td>482         </td><td> 0.039057303</td><td> 0.0520     </td><td> 0.0765     </td><td>0.0047      </td><td>-0.0680     </td><td> 0.04546719 </td></tr>\n",
       "\t<tr><td>10001       </td><td>2000        </td><td> 0.01171875 </td><td>4           </td><td>8           </td><td>483         </td><td>-0.009810019</td><td>-0.0640     </td><td> 0.0909     </td><td>0.0046      </td><td>-0.0852     </td><td> 0.06599442 </td></tr>\n",
       "\t<tr><td>10001       </td><td>2000        </td><td>-0.02316602 </td><td>4           </td><td>8           </td><td>484         </td><td>-0.014000371</td><td>-0.0442     </td><td> 0.0372     </td><td>0.0050      </td><td>-0.0906     </td><td> 0.01546620 </td></tr>\n",
       "\t<tr><td>10001       </td><td>2000        </td><td> 0.02766798 </td><td>4           </td><td>8           </td><td>485         </td><td> 0.017856063</td><td> 0.0464     </td><td>-0.1002     </td><td>0.0040      </td><td> 0.1649     </td><td>-0.04741758 </td></tr>\n",
       "\t<tr><td>10001       </td><td>2000        </td><td>-0.01562500 </td><td>4           </td><td>8           </td><td>486         </td><td>-0.024038998</td><td>-0.0251     </td><td> 0.0849     </td><td>0.0048      </td><td>-0.0012     </td><td> 0.05848411 </td></tr>\n",
       "\t<tr><td>10001       </td><td>2000        </td><td> 0.04761905 </td><td>4           </td><td>8           </td><td>487         </td><td> 0.046162717</td><td> 0.0703     </td><td>-0.0123     </td><td>0.0050      </td><td> 0.0570     </td><td> 0.08447938 </td></tr>\n",
       "\t<tr><td>10001       </td><td>2000        </td><td> 0.07575758 </td><td>4           </td><td>8           </td><td>488         </td><td>-0.056319110</td><td>-0.0545     </td><td> 0.0680     </td><td>0.0051      </td><td> 0.0215     </td><td> 0.08525627 </td></tr>\n",
       "\t<tr><td>10001       </td><td>2000        </td><td> 0.02857143 </td><td>4           </td><td>8           </td><td>489         </td><td>-0.038856588</td><td>-0.0276     </td><td> 0.0481     </td><td>0.0056      </td><td>-0.0463     </td><td>-0.01193680 </td></tr>\n",
       "</tbody>\n",
       "</table>\n"
      ],
      "text/latex": [
       "\\begin{tabular}{r|llllllllllll}\n",
       " permno & year & ret & city & ind & date & city\\_returns & MRP & HML & RF & MOM & indret\\\\\n",
       "\\hline\n",
       "\t 10001        & 2000         & -0.04411765  & 4            & 8            & 480          & -0.024553183 & -0.0474      &  0.0026      & 0.0041       &  0.0188      &  0.06220017 \\\\\n",
       "\t 10001        & 2000         &  0.01538462  & 4            & 8            & 481          &  0.045873884 &  0.0245      & -0.1261      & 0.0043       &  0.1838      & -0.04722921 \\\\\n",
       "\t 10001        & 2000         & -0.01575758  & 4            & 8            & 482          &  0.039057303 &  0.0520      &  0.0765      & 0.0047       & -0.0680      &  0.04546719 \\\\\n",
       "\t 10001        & 2000         &  0.01171875  & 4            & 8            & 483          & -0.009810019 & -0.0640      &  0.0909      & 0.0046       & -0.0852      &  0.06599442 \\\\\n",
       "\t 10001        & 2000         & -0.02316602  & 4            & 8            & 484          & -0.014000371 & -0.0442      &  0.0372      & 0.0050       & -0.0906      &  0.01546620 \\\\\n",
       "\t 10001        & 2000         &  0.02766798  & 4            & 8            & 485          &  0.017856063 &  0.0464      & -0.1002      & 0.0040       &  0.1649      & -0.04741758 \\\\\n",
       "\t 10001        & 2000         & -0.01562500  & 4            & 8            & 486          & -0.024038998 & -0.0251      &  0.0849      & 0.0048       & -0.0012      &  0.05848411 \\\\\n",
       "\t 10001        & 2000         &  0.04761905  & 4            & 8            & 487          &  0.046162717 &  0.0703      & -0.0123      & 0.0050       &  0.0570      &  0.08447938 \\\\\n",
       "\t 10001        & 2000         &  0.07575758  & 4            & 8            & 488          & -0.056319110 & -0.0545      &  0.0680      & 0.0051       &  0.0215      &  0.08525627 \\\\\n",
       "\t 10001        & 2000         &  0.02857143  & 4            & 8            & 489          & -0.038856588 & -0.0276      &  0.0481      & 0.0056       & -0.0463      & -0.01193680 \\\\\n",
       "\\end{tabular}\n"
      ],
      "text/markdown": [
       "\n",
       "| permno | year | ret | city | ind | date | city_returns | MRP | HML | RF | MOM | indret |\n",
       "|---|---|---|---|---|---|---|---|---|---|---|---|\n",
       "| 10001        | 2000         | -0.04411765  | 4            | 8            | 480          | -0.024553183 | -0.0474      |  0.0026      | 0.0041       |  0.0188      |  0.06220017  |\n",
       "| 10001        | 2000         |  0.01538462  | 4            | 8            | 481          |  0.045873884 |  0.0245      | -0.1261      | 0.0043       |  0.1838      | -0.04722921  |\n",
       "| 10001        | 2000         | -0.01575758  | 4            | 8            | 482          |  0.039057303 |  0.0520      |  0.0765      | 0.0047       | -0.0680      |  0.04546719  |\n",
       "| 10001        | 2000         |  0.01171875  | 4            | 8            | 483          | -0.009810019 | -0.0640      |  0.0909      | 0.0046       | -0.0852      |  0.06599442  |\n",
       "| 10001        | 2000         | -0.02316602  | 4            | 8            | 484          | -0.014000371 | -0.0442      |  0.0372      | 0.0050       | -0.0906      |  0.01546620  |\n",
       "| 10001        | 2000         |  0.02766798  | 4            | 8            | 485          |  0.017856063 |  0.0464      | -0.1002      | 0.0040       |  0.1649      | -0.04741758  |\n",
       "| 10001        | 2000         | -0.01562500  | 4            | 8            | 486          | -0.024038998 | -0.0251      |  0.0849      | 0.0048       | -0.0012      |  0.05848411  |\n",
       "| 10001        | 2000         |  0.04761905  | 4            | 8            | 487          |  0.046162717 |  0.0703      | -0.0123      | 0.0050       |  0.0570      |  0.08447938  |\n",
       "| 10001        | 2000         |  0.07575758  | 4            | 8            | 488          | -0.056319110 | -0.0545      |  0.0680      | 0.0051       |  0.0215      |  0.08525627  |\n",
       "| 10001        | 2000         |  0.02857143  | 4            | 8            | 489          | -0.038856588 | -0.0276      |  0.0481      | 0.0056       | -0.0463      | -0.01193680  |\n",
       "\n"
      ],
      "text/plain": [
       "   permno year ret         city ind date city_returns MRP     HML     RF    \n",
       "1  10001  2000 -0.04411765 4    8   480  -0.024553183 -0.0474  0.0026 0.0041\n",
       "2  10001  2000  0.01538462 4    8   481   0.045873884  0.0245 -0.1261 0.0043\n",
       "3  10001  2000 -0.01575758 4    8   482   0.039057303  0.0520  0.0765 0.0047\n",
       "4  10001  2000  0.01171875 4    8   483  -0.009810019 -0.0640  0.0909 0.0046\n",
       "5  10001  2000 -0.02316602 4    8   484  -0.014000371 -0.0442  0.0372 0.0050\n",
       "6  10001  2000  0.02766798 4    8   485   0.017856063  0.0464 -0.1002 0.0040\n",
       "7  10001  2000 -0.01562500 4    8   486  -0.024038998 -0.0251  0.0849 0.0048\n",
       "8  10001  2000  0.04761905 4    8   487   0.046162717  0.0703 -0.0123 0.0050\n",
       "9  10001  2000  0.07575758 4    8   488  -0.056319110 -0.0545  0.0680 0.0051\n",
       "10 10001  2000  0.02857143 4    8   489  -0.038856588 -0.0276  0.0481 0.0056\n",
       "   MOM     indret     \n",
       "1   0.0188  0.06220017\n",
       "2   0.1838 -0.04722921\n",
       "3  -0.0680  0.04546719\n",
       "4  -0.0852  0.06599442\n",
       "5  -0.0906  0.01546620\n",
       "6   0.1649 -0.04741758\n",
       "7  -0.0012  0.05848411\n",
       "8   0.0570  0.08447938\n",
       "9   0.0215  0.08525627\n",
       "10 -0.0463 -0.01193680"
      ]
     },
     "metadata": {},
     "output_type": "display_data"
    },
    {
     "data": {
      "text/html": [
       "FALSE"
      ],
      "text/latex": [
       "FALSE"
      ],
      "text/markdown": [
       "FALSE"
      ],
      "text/plain": [
       "[1] FALSE"
      ]
     },
     "metadata": {},
     "output_type": "display_data"
    }
   ],
   "source": [
    "#libraries\n",
    "\n",
    "library(\"readxl\")\n",
    "library(\"SciViews\")\n",
    "library(\"dplyr\")\n",
    "library(\"psych\")\n",
    "library(\"haven\")\n",
    "library(\"tidyverse\")\n",
    "library(\"ggplot2\")\n",
    "library(\"lubridate\")\n",
    "library(\"broom\")\n",
    "\n",
    "\n",
    "df = read_dta('HW3data/local_returns.dta')\n",
    "\n",
    "head(df, n=10)\n",
    "\n",
    "any(is.na(df))\n",
    "#No NA"
   ]
  },
  {
   "cell_type": "code",
   "execution_count": 2,
   "metadata": {},
   "outputs": [],
   "source": [
    "cs_reg_models = df %>% filter(n() >= 1) %>% \n",
    "  group_by(date) %>%                            \n",
    "  do(reg_yearly = lm(lead(ret,1) ~ city_returns + indret, data=.)) %>% \n",
    "  summarise(tidy(reg_yearly))\n",
    "# step2 take the average of the lambda across time for each factor\n",
    "\n",
    "coefs_avg = cs_reg_models %>%\n",
    "    group_by(term) %>%\n",
    "    summarize(Mean.Estimators = mean(estimate), \n",
    "              Std.Estimators = sd(estimate), \n",
    "              Mean.Std.Err = mean(std.error),\n",
    "              Mean.P.value = mean(p.value))"
   ]
  },
  {
   "cell_type": "code",
   "execution_count": 3,
   "metadata": {
    "scrolled": true
   },
   "outputs": [
    {
     "data": {
      "text/html": [
       "<table>\n",
       "<thead><tr><th scope=col>term</th><th scope=col>Mean.Estimators</th><th scope=col>Std.Estimators</th><th scope=col>Mean.Std.Err</th><th scope=col>Mean.P.value</th></tr></thead>\n",
       "<tbody>\n",
       "\t<tr><td>(Intercept) </td><td>0.008739222 </td><td>0.05351087  </td><td>0.009289458 </td><td>0.0227638   </td></tr>\n",
       "\t<tr><td>city_returns</td><td>0.032575106 </td><td>0.15025792  </td><td>0.133935921 </td><td>0.4440151   </td></tr>\n",
       "\t<tr><td>indret      </td><td>0.135908774 </td><td>0.17990936  </td><td>0.097176501 </td><td>0.2984646   </td></tr>\n",
       "</tbody>\n",
       "</table>\n"
      ],
      "text/latex": [
       "\\begin{tabular}{r|lllll}\n",
       " term & Mean.Estimators & Std.Estimators & Mean.Std.Err & Mean.P.value\\\\\n",
       "\\hline\n",
       "\t (Intercept)  & 0.008739222  & 0.05351087   & 0.009289458  & 0.0227638   \\\\\n",
       "\t city\\_returns & 0.032575106    & 0.15025792     & 0.133935921    & 0.4440151     \\\\\n",
       "\t indret       & 0.135908774  & 0.17990936   & 0.097176501  & 0.2984646   \\\\\n",
       "\\end{tabular}\n"
      ],
      "text/markdown": [
       "\n",
       "| term | Mean.Estimators | Std.Estimators | Mean.Std.Err | Mean.P.value |\n",
       "|---|---|---|---|---|\n",
       "| (Intercept)  | 0.008739222  | 0.05351087   | 0.009289458  | 0.0227638    |\n",
       "| city_returns | 0.032575106  | 0.15025792   | 0.133935921  | 0.4440151    |\n",
       "| indret       | 0.135908774  | 0.17990936   | 0.097176501  | 0.2984646    |\n",
       "\n"
      ],
      "text/plain": [
       "  term         Mean.Estimators Std.Estimators Mean.Std.Err Mean.P.value\n",
       "1 (Intercept)  0.008739222     0.05351087     0.009289458  0.0227638   \n",
       "2 city_returns 0.032575106     0.15025792     0.133935921  0.4440151   \n",
       "3 indret       0.135908774     0.17990936     0.097176501  0.2984646   "
      ]
     },
     "metadata": {},
     "output_type": "display_data"
    }
   ],
   "source": [
    "coefs_avg"
   ]
  },
  {
   "cell_type": "markdown",
   "metadata": {},
   "source": [
    "(b) What is the magnitude of the coefficients?\n",
    "\n",
    "α = 0.00874,  β1 = 0.136, β2 = 0.0326"
   ]
  },
  {
   "cell_type": "markdown",
   "metadata": {},
   "source": [
    "c)"
   ]
  },
  {
   "cell_type": "code",
   "execution_count": 4,
   "metadata": {},
   "outputs": [
    {
     "data": {
      "text/html": [
       "<table>\n",
       "<thead><tr><th scope=col>permno</th><th scope=col>year</th><th scope=col>ret</th><th scope=col>city</th><th scope=col>ind</th><th scope=col>date</th><th scope=col>city_returns</th><th scope=col>MRP</th><th scope=col>HML</th><th scope=col>RF</th><th scope=col>MOM</th><th scope=col>indret</th></tr></thead>\n",
       "<tbody>\n",
       "\t<tr><td>33823      </td><td>2008       </td><td>-0.18138731</td><td>6          </td><td>3          </td><td>585        </td><td>-0.2995035 </td><td>-0.1723    </td><td>-0.0299    </td><td>8e-04      </td><td>0.0783     </td><td>-0.2622783 </td></tr>\n",
       "\t<tr><td>57568      </td><td>2008       </td><td>-0.13395798</td><td>6          </td><td>3          </td><td>585        </td><td>-0.2995035 </td><td>-0.1723    </td><td>-0.0299    </td><td>8e-04      </td><td>0.0783     </td><td>-0.2622783 </td></tr>\n",
       "\t<tr><td>77486      </td><td>2008       </td><td>-0.20863307</td><td>6          </td><td>3          </td><td>585        </td><td>-0.2995035 </td><td>-0.1723    </td><td>-0.0299    </td><td>8e-04      </td><td>0.0783     </td><td>-0.2622783 </td></tr>\n",
       "\t<tr><td>84403      </td><td>2008       </td><td>-0.08987814</td><td>6          </td><td>3          </td><td>585        </td><td>-0.2995035 </td><td>-0.1723    </td><td>-0.0299    </td><td>8e-04      </td><td>0.0783     </td><td>-0.2622783 </td></tr>\n",
       "\t<tr><td>91090      </td><td>2008       </td><td>-0.29888266</td><td>6          </td><td>3          </td><td>585        </td><td>-0.2995035 </td><td>-0.1723    </td><td>-0.0299    </td><td>8e-04      </td><td>0.0783     </td><td>-0.2622783 </td></tr>\n",
       "\t<tr><td>92687      </td><td>2008       </td><td>-0.23671493</td><td>6          </td><td>3          </td><td>585        </td><td>-0.2995035 </td><td>-0.1723    </td><td>-0.0299    </td><td>8e-04      </td><td>0.0783     </td><td>-0.2622783 </td></tr>\n",
       "</tbody>\n",
       "</table>\n"
      ],
      "text/latex": [
       "\\begin{tabular}{r|llllllllllll}\n",
       " permno & year & ret & city & ind & date & city\\_returns & MRP & HML & RF & MOM & indret\\\\\n",
       "\\hline\n",
       "\t 33823       & 2008        & -0.18138731 & 6           & 3           & 585         & -0.2995035  & -0.1723     & -0.0299     & 8e-04       & 0.0783      & -0.2622783 \\\\\n",
       "\t 57568       & 2008        & -0.13395798 & 6           & 3           & 585         & -0.2995035  & -0.1723     & -0.0299     & 8e-04       & 0.0783      & -0.2622783 \\\\\n",
       "\t 77486       & 2008        & -0.20863307 & 6           & 3           & 585         & -0.2995035  & -0.1723     & -0.0299     & 8e-04       & 0.0783      & -0.2622783 \\\\\n",
       "\t 84403       & 2008        & -0.08987814 & 6           & 3           & 585         & -0.2995035  & -0.1723     & -0.0299     & 8e-04       & 0.0783      & -0.2622783 \\\\\n",
       "\t 91090       & 2008        & -0.29888266 & 6           & 3           & 585         & -0.2995035  & -0.1723     & -0.0299     & 8e-04       & 0.0783      & -0.2622783 \\\\\n",
       "\t 92687       & 2008        & -0.23671493 & 6           & 3           & 585         & -0.2995035  & -0.1723     & -0.0299     & 8e-04       & 0.0783      & -0.2622783 \\\\\n",
       "\\end{tabular}\n"
      ],
      "text/markdown": [
       "\n",
       "| permno | year | ret | city | ind | date | city_returns | MRP | HML | RF | MOM | indret |\n",
       "|---|---|---|---|---|---|---|---|---|---|---|---|\n",
       "| 33823       | 2008        | -0.18138731 | 6           | 3           | 585         | -0.2995035  | -0.1723     | -0.0299     | 8e-04       | 0.0783      | -0.2622783  |\n",
       "| 57568       | 2008        | -0.13395798 | 6           | 3           | 585         | -0.2995035  | -0.1723     | -0.0299     | 8e-04       | 0.0783      | -0.2622783  |\n",
       "| 77486       | 2008        | -0.20863307 | 6           | 3           | 585         | -0.2995035  | -0.1723     | -0.0299     | 8e-04       | 0.0783      | -0.2622783  |\n",
       "| 84403       | 2008        | -0.08987814 | 6           | 3           | 585         | -0.2995035  | -0.1723     | -0.0299     | 8e-04       | 0.0783      | -0.2622783  |\n",
       "| 91090       | 2008        | -0.29888266 | 6           | 3           | 585         | -0.2995035  | -0.1723     | -0.0299     | 8e-04       | 0.0783      | -0.2622783  |\n",
       "| 92687       | 2008        | -0.23671493 | 6           | 3           | 585         | -0.2995035  | -0.1723     | -0.0299     | 8e-04       | 0.0783      | -0.2622783  |\n",
       "\n"
      ],
      "text/plain": [
       "  permno year ret         city ind date city_returns MRP     HML     RF   \n",
       "1 33823  2008 -0.18138731 6    3   585  -0.2995035   -0.1723 -0.0299 8e-04\n",
       "2 57568  2008 -0.13395798 6    3   585  -0.2995035   -0.1723 -0.0299 8e-04\n",
       "3 77486  2008 -0.20863307 6    3   585  -0.2995035   -0.1723 -0.0299 8e-04\n",
       "4 84403  2008 -0.08987814 6    3   585  -0.2995035   -0.1723 -0.0299 8e-04\n",
       "5 91090  2008 -0.29888266 6    3   585  -0.2995035   -0.1723 -0.0299 8e-04\n",
       "6 92687  2008 -0.23671493 6    3   585  -0.2995035   -0.1723 -0.0299 8e-04\n",
       "  MOM    indret    \n",
       "1 0.0783 -0.2622783\n",
       "2 0.0783 -0.2622783\n",
       "3 0.0783 -0.2622783\n",
       "4 0.0783 -0.2622783\n",
       "5 0.0783 -0.2622783\n",
       "6 0.0783 -0.2622783"
      ]
     },
     "metadata": {},
     "output_type": "display_data"
    }
   ],
   "source": [
    "df = df[order(df$city_returns),]\n",
    "head(df)"
   ]
  },
  {
   "cell_type": "code",
   "execution_count": 5,
   "metadata": {},
   "outputs": [],
   "source": [
    "#for(i in 1:length(df$date)){\n",
    "#  df[order(df$city_returns),]\n",
    "#}"
   ]
  },
  {
   "cell_type": "markdown",
   "metadata": {},
   "source": [
    "2. Difference-in-difference model\n",
    "\n",
    "a) Load the data."
   ]
  },
  {
   "cell_type": "code",
   "execution_count": 6,
   "metadata": {},
   "outputs": [
    {
     "data": {
      "text/html": [
       "<ol class=list-inline>\n",
       "\t<li>'TDummy'</li>\n",
       "\t<li>'y_post'</li>\n",
       "\t<li>'y_pre'</li>\n",
       "\t<li>'.Random.seed'</li>\n",
       "</ol>\n"
      ],
      "text/latex": [
       "\\begin{enumerate*}\n",
       "\\item 'TDummy'\n",
       "\\item 'y\\_post'\n",
       "\\item 'y\\_pre'\n",
       "\\item '.Random.seed'\n",
       "\\end{enumerate*}\n"
      ],
      "text/markdown": [
       "1. 'TDummy'\n",
       "2. 'y_post'\n",
       "3. 'y_pre'\n",
       "4. '.Random.seed'\n",
       "\n",
       "\n"
      ],
      "text/plain": [
       "[1] \"TDummy\"       \"y_post\"       \"y_pre\"        \".Random.seed\""
      ]
     },
     "metadata": {},
     "output_type": "display_data"
    }
   ],
   "source": [
    "df = load(\"HW3data/diff_in_diff.RData\")\n",
    "\n",
    "head(df, n=10)\n",
    "\n",
    "#any(is.na(df))"
   ]
  },
  {
   "cell_type": "code",
   "execution_count": 7,
   "metadata": {},
   "outputs": [
    {
     "data": {
      "text/html": [
       "<ol class=list-inline>\n",
       "\t<li>'TDummy'</li>\n",
       "\t<li>'y_post'</li>\n",
       "\t<li>'y_pre'</li>\n",
       "\t<li>'.Random.seed'</li>\n",
       "</ol>\n"
      ],
      "text/latex": [
       "\\begin{enumerate*}\n",
       "\\item 'TDummy'\n",
       "\\item 'y\\_post'\n",
       "\\item 'y\\_pre'\n",
       "\\item '.Random.seed'\n",
       "\\end{enumerate*}\n"
      ],
      "text/markdown": [
       "1. 'TDummy'\n",
       "2. 'y_post'\n",
       "3. 'y_pre'\n",
       "4. '.Random.seed'\n",
       "\n",
       "\n"
      ],
      "text/plain": [
       "[1] \"TDummy\"       \"y_post\"       \"y_pre\"        \".Random.seed\""
      ]
     },
     "metadata": {},
     "output_type": "display_data"
    }
   ],
   "source": [
    "df"
   ]
  },
  {
   "cell_type": "markdown",
   "metadata": {},
   "source": [
    "(b) Plot the data"
   ]
  },
  {
   "cell_type": "code",
   "execution_count": 8,
   "metadata": {},
   "outputs": [
    {
     "data": {
      "image/png": "[encoded data removed]",
      "text/plain": [
       "Plot with title “Overlaying Graphs”"
      ]
     },
     "metadata": {
      "image/png": {
       "height": 420,
       "width": 420
      }
     },
     "output_type": "display_data"
    }
   ],
   "source": [
    "plot(TDummy, y_pre,\n",
    "main=\"Overlaying Graphs\",\n",
    "ylab=\"y\",\n",
    "type=\"p\",\n",
    "col=\"blue\",\n",
    "ylim=c(4,16))\n",
    "points(TDummy, y_post, col=\"red\")\n",
    "legend(\"topleft\",\n",
    "c(\"pre\",\"post\"),\n",
    "fill=c(\"blue\",\"red\")\n",
    ")\n",
    "\n",
    "abline(h=6.55, col=\"blue\")  #means\n",
    "abline(h=10.50, col=\"red\")\n",
    "abline(lm(y_pre ~ TDummy))  #slopes\n",
    "abline(lm(y_post ~ TDummy))"
   ]
  },
  {
   "cell_type": "code",
   "execution_count": 9,
   "metadata": {},
   "outputs": [
    {
     "data": {
      "text/html": [
       "6.5526308147841"
      ],
      "text/latex": [
       "6.5526308147841"
      ],
      "text/markdown": [
       "6.5526308147841"
      ],
      "text/plain": [
       "[1] 6.552631"
      ]
     },
     "metadata": {},
     "output_type": "display_data"
    },
    {
     "data": {
      "text/html": [
       "10.4982179406264"
      ],
      "text/latex": [
       "10.4982179406264"
      ],
      "text/markdown": [
       "10.4982179406264"
      ],
      "text/plain": [
       "[1] 10.49822"
      ]
     },
     "metadata": {},
     "output_type": "display_data"
    },
    {
     "name": "stdout",
     "output_type": "stream",
     "text": [
      "[1] 1.115127\n",
      "[1] 1.637592\n",
      "[1] 4.362197\n"
     ]
    }
   ],
   "source": [
    "#if TDummy == 0 \n",
    "mean(y_pre, na.rm=TRUE)\n",
    "mean(y_post, na.rm=TRUE)\n",
    "\n",
    "pafeb = mean(y_pre[TDummy == 0])  \n",
    "panov = mean(y_pre[TDummy == 1]) \n",
    "njfeb = mean(y_post[TDummy == 0]) \n",
    "njnov = mean(y_post[TDummy == 1]) \n",
    "\n",
    "print(mean(y_pre[TDummy == 1])/mean(y_pre[TDummy == 0]))\n",
    "print(mean(y_post[TDummy == 1])/mean(y_post[TDummy == 0]))\n",
    "\n",
    "print((njnov-njfeb)-(panov-pafeb))"
   ]
  },
  {
   "cell_type": "markdown",
   "metadata": {},
   "source": [
    "(c) Compute the DiD estimator"
   ]
  },
  {
   "cell_type": "code",
   "execution_count": 10,
   "metadata": {},
   "outputs": [
    {
     "data": {
      "text/plain": [
       "\n",
       "Call:\n",
       "lm(formula = y_post ~ TDummy + TDummy:y_pre)\n",
       "\n",
       "Residuals:\n",
       "     Min       1Q   Median       3Q      Max \n",
       "-2.29956 -0.61712  0.02763  0.56981  2.24813 \n",
       "\n",
       "Coefficients:\n",
       "             Estimate Std. Error t value Pr(>|t|)    \n",
       "(Intercept)   7.96046    0.09002  88.427  < 2e-16 ***\n",
       "TDummy        5.46643    0.68281   8.006 1.01e-13 ***\n",
       "TDummy:y_pre -0.05658    0.09709  -0.583    0.561    \n",
       "---\n",
       "Signif. codes:  0 ‘***’ 0.001 ‘**’ 0.01 ‘*’ 0.05 ‘.’ 0.1 ‘ ’ 1\n",
       "\n",
       "Residual standard error: 0.9002 on 197 degrees of freedom\n",
       "Multiple R-squared:  0.8897,\tAdjusted R-squared:  0.8886 \n",
       "F-statistic: 794.8 on 2 and 197 DF,  p-value: < 2.2e-16\n"
      ]
     },
     "metadata": {},
     "output_type": "display_data"
    }
   ],
   "source": [
    "didreg = lm(formula = y_post ~ TDummy + TDummy:y_pre)\n",
    "summary(didreg)"
   ]
  },
  {
   "cell_type": "markdown",
   "metadata": {},
   "source": [
    "d) Interpret findings\n",
    "\n",
    "The DiD estimator is positive and significant. The treatment has positive and significant effect on outcome. However, one should check parallel trend assumption to validate."
   ]
  },
  {
   "cell_type": "markdown",
   "metadata": {},
   "source": [
    "3. a) Convert raw return to actual percentage points."
   ]
  },
  {
   "cell_type": "code",
   "execution_count": 11,
   "metadata": {},
   "outputs": [
    {
     "name": "stderr",
     "output_type": "stream",
     "text": [
      "\u001b[1mRows: \u001b[22m\u001b[34m132\u001b[39m \u001b[1mColumns: \u001b[22m\u001b[34m11\u001b[39m\n",
      "\u001b[36m──\u001b[39m \u001b[1mColumn specification\u001b[22m \u001b[36m────────────────────────────────────────────────────────\u001b[39m\n",
      "\u001b[1mDelimiter:\u001b[22m \",\"\n",
      "\u001b[32mdbl\u001b[39m (11): date, NoDur, Durbl, Manuf, Enrgy, HiTec, Telcm, Shops, Hlth, Utils...\n",
      "\n",
      "\u001b[36mℹ\u001b[39m Use `spec()` to retrieve the full column specification for this data.\n",
      "\u001b[36mℹ\u001b[39m Specify the column types or set `show_col_types = FALSE` to quiet this message.\n"
     ]
    },
    {
     "data": {
      "text/html": [
       "<table>\n",
       "<thead><tr><th scope=col>date</th><th scope=col>NoDur</th><th scope=col>Durbl</th><th scope=col>Manuf</th><th scope=col>Enrgy</th><th scope=col>HiTec</th><th scope=col>Telcm</th><th scope=col>Shops</th><th scope=col>Hlth</th><th scope=col>Utils</th><th scope=col>Other</th></tr></thead>\n",
       "<tbody>\n",
       "\t<tr><td>200701</td><td> 1.35 </td><td> 2.71 </td><td> 3.23 </td><td>-1.31 </td><td> 2.18 </td><td> 2.88 </td><td> 3.55 </td><td> 3.50 </td><td> 0.38 </td><td> 1.09 </td></tr>\n",
       "\t<tr><td>200702</td><td>-1.79 </td><td>-0.43 </td><td> 0.80 </td><td>-2.17 </td><td>-2.49 </td><td>-2.50 </td><td>-0.63 </td><td>-2.80 </td><td> 4.25 </td><td>-2.31 </td></tr>\n",
       "\t<tr><td>200703</td><td> 2.47 </td><td>-1.07 </td><td> 1.58 </td><td> 5.99 </td><td> 0.91 </td><td> 2.32 </td><td> 0.73 </td><td>-0.22 </td><td> 4.34 </td><td>-0.27 </td></tr>\n",
       "\t<tr><td>200704</td><td> 3.74 </td><td> 6.26 </td><td> 4.40 </td><td> 5.39 </td><td> 4.91 </td><td> 2.11 </td><td> 2.23 </td><td> 6.84 </td><td> 3.92 </td><td> 3.39 </td></tr>\n",
       "\t<tr><td>200705</td><td> 2.81 </td><td> 3.42 </td><td> 4.84 </td><td> 7.19 </td><td> 3.90 </td><td> 6.68 </td><td> 2.51 </td><td> 1.11 </td><td> 1.20 </td><td> 3.35 </td></tr>\n",
       "\t<tr><td>200706</td><td>-0.86 </td><td> 2.12 </td><td>-0.60 </td><td> 1.04 </td><td> 0.61 </td><td>-1.73 </td><td>-1.95 </td><td>-3.40 </td><td>-4.78 </td><td>-2.68 </td></tr>\n",
       "\t<tr><td>200707</td><td>-4.26 </td><td>-5.90 </td><td>-0.10 </td><td>-1.02 </td><td>-1.26 </td><td>-3.15 </td><td>-5.36 </td><td>-4.04 </td><td>-3.82 </td><td>-5.46 </td></tr>\n",
       "\t<tr><td>200708</td><td> 1.83 </td><td>-1.78 </td><td> 0.74 </td><td> 0.30 </td><td> 2.69 </td><td>-0.80 </td><td> 1.40 </td><td> 2.30 </td><td> 1.93 </td><td> 0.89 </td></tr>\n",
       "\t<tr><td>200709</td><td> 3.76 </td><td> 1.60 </td><td> 5.40 </td><td> 7.80 </td><td> 4.19 </td><td> 1.97 </td><td>-0.72 </td><td> 3.58 </td><td> 3.57 </td><td> 2.68 </td></tr>\n",
       "\t<tr><td>200710</td><td> 2.20 </td><td> 1.04 </td><td> 0.96 </td><td> 2.74 </td><td> 6.84 </td><td>-2.29 </td><td> 1.07 </td><td> 1.44 </td><td> 6.69 </td><td>-0.12 </td></tr>\n",
       "</tbody>\n",
       "</table>\n"
      ],
      "text/latex": [
       "\\begin{tabular}{r|lllllllllll}\n",
       " date & NoDur & Durbl & Manuf & Enrgy & HiTec & Telcm & Shops & Hlth & Utils & Other\\\\\n",
       "\\hline\n",
       "\t 200701 &  1.35  &  2.71  &  3.23  & -1.31  &  2.18  &  2.88  &  3.55  &  3.50  &  0.38  &  1.09 \\\\\n",
       "\t 200702 & -1.79  & -0.43  &  0.80  & -2.17  & -2.49  & -2.50  & -0.63  & -2.80  &  4.25  & -2.31 \\\\\n",
       "\t 200703 &  2.47  & -1.07  &  1.58  &  5.99  &  0.91  &  2.32  &  0.73  & -0.22  &  4.34  & -0.27 \\\\\n",
       "\t 200704 &  3.74  &  6.26  &  4.40  &  5.39  &  4.91  &  2.11  &  2.23  &  6.84  &  3.92  &  3.39 \\\\\n",
       "\t 200705 &  2.81  &  3.42  &  4.84  &  7.19  &  3.90  &  6.68  &  2.51  &  1.11  &  1.20  &  3.35 \\\\\n",
       "\t 200706 & -0.86  &  2.12  & -0.60  &  1.04  &  0.61  & -1.73  & -1.95  & -3.40  & -4.78  & -2.68 \\\\\n",
       "\t 200707 & -4.26  & -5.90  & -0.10  & -1.02  & -1.26  & -3.15  & -5.36  & -4.04  & -3.82  & -5.46 \\\\\n",
       "\t 200708 &  1.83  & -1.78  &  0.74  &  0.30  &  2.69  & -0.80  &  1.40  &  2.30  &  1.93  &  0.89 \\\\\n",
       "\t 200709 &  3.76  &  1.60  &  5.40  &  7.80  &  4.19  &  1.97  & -0.72  &  3.58  &  3.57  &  2.68 \\\\\n",
       "\t 200710 &  2.20  &  1.04  &  0.96  &  2.74  &  6.84  & -2.29  &  1.07  &  1.44  &  6.69  & -0.12 \\\\\n",
       "\\end{tabular}\n"
      ],
      "text/markdown": [
       "\n",
       "| date | NoDur | Durbl | Manuf | Enrgy | HiTec | Telcm | Shops | Hlth | Utils | Other |\n",
       "|---|---|---|---|---|---|---|---|---|---|---|\n",
       "| 200701 |  1.35  |  2.71  |  3.23  | -1.31  |  2.18  |  2.88  |  3.55  |  3.50  |  0.38  |  1.09  |\n",
       "| 200702 | -1.79  | -0.43  |  0.80  | -2.17  | -2.49  | -2.50  | -0.63  | -2.80  |  4.25  | -2.31  |\n",
       "| 200703 |  2.47  | -1.07  |  1.58  |  5.99  |  0.91  |  2.32  |  0.73  | -0.22  |  4.34  | -0.27  |\n",
       "| 200704 |  3.74  |  6.26  |  4.40  |  5.39  |  4.91  |  2.11  |  2.23  |  6.84  |  3.92  |  3.39  |\n",
       "| 200705 |  2.81  |  3.42  |  4.84  |  7.19  |  3.90  |  6.68  |  2.51  |  1.11  |  1.20  |  3.35  |\n",
       "| 200706 | -0.86  |  2.12  | -0.60  |  1.04  |  0.61  | -1.73  | -1.95  | -3.40  | -4.78  | -2.68  |\n",
       "| 200707 | -4.26  | -5.90  | -0.10  | -1.02  | -1.26  | -3.15  | -5.36  | -4.04  | -3.82  | -5.46  |\n",
       "| 200708 |  1.83  | -1.78  |  0.74  |  0.30  |  2.69  | -0.80  |  1.40  |  2.30  |  1.93  |  0.89  |\n",
       "| 200709 |  3.76  |  1.60  |  5.40  |  7.80  |  4.19  |  1.97  | -0.72  |  3.58  |  3.57  |  2.68  |\n",
       "| 200710 |  2.20  |  1.04  |  0.96  |  2.74  |  6.84  | -2.29  |  1.07  |  1.44  |  6.69  | -0.12  |\n",
       "\n"
      ],
      "text/plain": [
       "   date   NoDur Durbl Manuf Enrgy HiTec Telcm Shops Hlth  Utils Other\n",
       "1  200701  1.35  2.71  3.23 -1.31  2.18  2.88  3.55  3.50  0.38  1.09\n",
       "2  200702 -1.79 -0.43  0.80 -2.17 -2.49 -2.50 -0.63 -2.80  4.25 -2.31\n",
       "3  200703  2.47 -1.07  1.58  5.99  0.91  2.32  0.73 -0.22  4.34 -0.27\n",
       "4  200704  3.74  6.26  4.40  5.39  4.91  2.11  2.23  6.84  3.92  3.39\n",
       "5  200705  2.81  3.42  4.84  7.19  3.90  6.68  2.51  1.11  1.20  3.35\n",
       "6  200706 -0.86  2.12 -0.60  1.04  0.61 -1.73 -1.95 -3.40 -4.78 -2.68\n",
       "7  200707 -4.26 -5.90 -0.10 -1.02 -1.26 -3.15 -5.36 -4.04 -3.82 -5.46\n",
       "8  200708  1.83 -1.78  0.74  0.30  2.69 -0.80  1.40  2.30  1.93  0.89\n",
       "9  200709  3.76  1.60  5.40  7.80  4.19  1.97 -0.72  3.58  3.57  2.68\n",
       "10 200710  2.20  1.04  0.96  2.74  6.84 -2.29  1.07  1.44  6.69 -0.12"
      ]
     },
     "metadata": {},
     "output_type": "display_data"
    },
    {
     "data": {
      "text/html": [
       "FALSE"
      ],
      "text/latex": [
       "FALSE"
      ],
      "text/markdown": [
       "FALSE"
      ],
      "text/plain": [
       "[1] FALSE"
      ]
     },
     "metadata": {},
     "output_type": "display_data"
    }
   ],
   "source": [
    "df = read_csv('HW3data/industryreturns.csv')\n",
    "\n",
    "head(df, n=10)\n",
    "\n",
    "any(is.na(df))\n",
    "#No NA"
   ]
  },
  {
   "cell_type": "code",
   "execution_count": 12,
   "metadata": {},
   "outputs": [],
   "source": [
    "df$di = 100"
   ]
  },
  {
   "cell_type": "code",
   "execution_count": 13,
   "metadata": {},
   "outputs": [
    {
     "data": {
      "text/html": [
       "<table>\n",
       "<thead><tr><th scope=col>date</th><th scope=col>NoDur</th><th scope=col>Durbl</th><th scope=col>Manuf</th><th scope=col>Enrgy</th><th scope=col>HiTec</th><th scope=col>Telcm</th><th scope=col>Shops</th><th scope=col>Hlth</th><th scope=col>Utils</th><th scope=col>Other</th><th scope=col>di</th></tr></thead>\n",
       "<tbody>\n",
       "\t<tr><td>200701</td><td> 1.35 </td><td> 2.71 </td><td> 3.23 </td><td>-1.31 </td><td> 2.18 </td><td> 2.88 </td><td> 3.55 </td><td> 3.50 </td><td> 0.38 </td><td> 1.09 </td><td>100   </td></tr>\n",
       "\t<tr><td>200702</td><td>-1.79 </td><td>-0.43 </td><td> 0.80 </td><td>-2.17 </td><td>-2.49 </td><td>-2.50 </td><td>-0.63 </td><td>-2.80 </td><td> 4.25 </td><td>-2.31 </td><td>100   </td></tr>\n",
       "\t<tr><td>200703</td><td> 2.47 </td><td>-1.07 </td><td> 1.58 </td><td> 5.99 </td><td> 0.91 </td><td> 2.32 </td><td> 0.73 </td><td>-0.22 </td><td> 4.34 </td><td>-0.27 </td><td>100   </td></tr>\n",
       "\t<tr><td>200704</td><td> 3.74 </td><td> 6.26 </td><td> 4.40 </td><td> 5.39 </td><td> 4.91 </td><td> 2.11 </td><td> 2.23 </td><td> 6.84 </td><td> 3.92 </td><td> 3.39 </td><td>100   </td></tr>\n",
       "\t<tr><td>200705</td><td> 2.81 </td><td> 3.42 </td><td> 4.84 </td><td> 7.19 </td><td> 3.90 </td><td> 6.68 </td><td> 2.51 </td><td> 1.11 </td><td> 1.20 </td><td> 3.35 </td><td>100   </td></tr>\n",
       "\t<tr><td>200706</td><td>-0.86 </td><td> 2.12 </td><td>-0.60 </td><td> 1.04 </td><td> 0.61 </td><td>-1.73 </td><td>-1.95 </td><td>-3.40 </td><td>-4.78 </td><td>-2.68 </td><td>100   </td></tr>\n",
       "</tbody>\n",
       "</table>\n"
      ],
      "text/latex": [
       "\\begin{tabular}{r|llllllllllll}\n",
       " date & NoDur & Durbl & Manuf & Enrgy & HiTec & Telcm & Shops & Hlth & Utils & Other & di\\\\\n",
       "\\hline\n",
       "\t 200701 &  1.35  &  2.71  &  3.23  & -1.31  &  2.18  &  2.88  &  3.55  &  3.50  &  0.38  &  1.09  & 100   \\\\\n",
       "\t 200702 & -1.79  & -0.43  &  0.80  & -2.17  & -2.49  & -2.50  & -0.63  & -2.80  &  4.25  & -2.31  & 100   \\\\\n",
       "\t 200703 &  2.47  & -1.07  &  1.58  &  5.99  &  0.91  &  2.32  &  0.73  & -0.22  &  4.34  & -0.27  & 100   \\\\\n",
       "\t 200704 &  3.74  &  6.26  &  4.40  &  5.39  &  4.91  &  2.11  &  2.23  &  6.84  &  3.92  &  3.39  & 100   \\\\\n",
       "\t 200705 &  2.81  &  3.42  &  4.84  &  7.19  &  3.90  &  6.68  &  2.51  &  1.11  &  1.20  &  3.35  & 100   \\\\\n",
       "\t 200706 & -0.86  &  2.12  & -0.60  &  1.04  &  0.61  & -1.73  & -1.95  & -3.40  & -4.78  & -2.68  & 100   \\\\\n",
       "\\end{tabular}\n"
      ],
      "text/markdown": [
       "\n",
       "| date | NoDur | Durbl | Manuf | Enrgy | HiTec | Telcm | Shops | Hlth | Utils | Other | di |\n",
       "|---|---|---|---|---|---|---|---|---|---|---|---|\n",
       "| 200701 |  1.35  |  2.71  |  3.23  | -1.31  |  2.18  |  2.88  |  3.55  |  3.50  |  0.38  |  1.09  | 100    |\n",
       "| 200702 | -1.79  | -0.43  |  0.80  | -2.17  | -2.49  | -2.50  | -0.63  | -2.80  |  4.25  | -2.31  | 100    |\n",
       "| 200703 |  2.47  | -1.07  |  1.58  |  5.99  |  0.91  |  2.32  |  0.73  | -0.22  |  4.34  | -0.27  | 100    |\n",
       "| 200704 |  3.74  |  6.26  |  4.40  |  5.39  |  4.91  |  2.11  |  2.23  |  6.84  |  3.92  |  3.39  | 100    |\n",
       "| 200705 |  2.81  |  3.42  |  4.84  |  7.19  |  3.90  |  6.68  |  2.51  |  1.11  |  1.20  |  3.35  | 100    |\n",
       "| 200706 | -0.86  |  2.12  | -0.60  |  1.04  |  0.61  | -1.73  | -1.95  | -3.40  | -4.78  | -2.68  | 100    |\n",
       "\n"
      ],
      "text/plain": [
       "  date   NoDur Durbl Manuf Enrgy HiTec Telcm Shops Hlth  Utils Other di \n",
       "1 200701  1.35  2.71  3.23 -1.31  2.18  2.88  3.55  3.50  0.38  1.09 100\n",
       "2 200702 -1.79 -0.43  0.80 -2.17 -2.49 -2.50 -0.63 -2.80  4.25 -2.31 100\n",
       "3 200703  2.47 -1.07  1.58  5.99  0.91  2.32  0.73 -0.22  4.34 -0.27 100\n",
       "4 200704  3.74  6.26  4.40  5.39  4.91  2.11  2.23  6.84  3.92  3.39 100\n",
       "5 200705  2.81  3.42  4.84  7.19  3.90  6.68  2.51  1.11  1.20  3.35 100\n",
       "6 200706 -0.86  2.12 -0.60  1.04  0.61 -1.73 -1.95 -3.40 -4.78 -2.68 100"
      ]
     },
     "metadata": {},
     "output_type": "display_data"
    }
   ],
   "source": [
    "head(df)"
   ]
  },
  {
   "cell_type": "code",
   "execution_count": 14,
   "metadata": {},
   "outputs": [],
   "source": [
    "#percent <- function(x, digits = 2, format = \"f\", ...) {      # Create user-defined function\n",
    "#  paste0(formatC(x, format = format, digits = digits, ...), \"%\")\n",
    "#}\n",
    "\n",
    "df1 = df[,-1]/df$di\n",
    "df <- merge(df1,df$date)\n",
    "colnames(df)[12] <- \"date\"\n",
    "df = df[,-11]"
   ]
  },
  {
   "cell_type": "markdown",
   "metadata": {},
   "source": [
    "b) Examine the data. Report means by industry. Comment on your findings."
   ]
  },
  {
   "cell_type": "code",
   "execution_count": 15,
   "metadata": {},
   "outputs": [
    {
     "data": {
      "text/html": [
       "<table>\n",
       "<thead><tr><th scope=col>NoDur</th><th scope=col>Durbl</th><th scope=col>Manuf</th><th scope=col>Enrgy</th><th scope=col>HiTec</th><th scope=col>Telcm</th><th scope=col>Shops</th><th scope=col>Hlth</th><th scope=col>Utils</th><th scope=col>Other</th><th scope=col>date</th></tr></thead>\n",
       "<tbody>\n",
       "\t<tr><td> 0.0135</td><td> 0.0271</td><td> 0.0323</td><td>-0.0131</td><td> 0.0218</td><td> 0.0288</td><td> 0.0355</td><td> 0.0350</td><td> 0.0038</td><td> 0.0109</td><td>200701 </td></tr>\n",
       "\t<tr><td>-0.0179</td><td>-0.0043</td><td> 0.0080</td><td>-0.0217</td><td>-0.0249</td><td>-0.0250</td><td>-0.0063</td><td>-0.0280</td><td> 0.0425</td><td>-0.0231</td><td>200701 </td></tr>\n",
       "\t<tr><td> 0.0247</td><td>-0.0107</td><td> 0.0158</td><td> 0.0599</td><td> 0.0091</td><td> 0.0232</td><td> 0.0073</td><td>-0.0022</td><td> 0.0434</td><td>-0.0027</td><td>200701 </td></tr>\n",
       "\t<tr><td> 0.0374</td><td> 0.0626</td><td> 0.0440</td><td> 0.0539</td><td> 0.0491</td><td> 0.0211</td><td> 0.0223</td><td> 0.0684</td><td> 0.0392</td><td> 0.0339</td><td>200701 </td></tr>\n",
       "\t<tr><td> 0.0281</td><td> 0.0342</td><td> 0.0484</td><td> 0.0719</td><td> 0.0390</td><td> 0.0668</td><td> 0.0251</td><td> 0.0111</td><td> 0.0120</td><td> 0.0335</td><td>200701 </td></tr>\n",
       "\t<tr><td>-0.0086</td><td> 0.0212</td><td>-0.0060</td><td> 0.0104</td><td> 0.0061</td><td>-0.0173</td><td>-0.0195</td><td>-0.0340</td><td>-0.0478</td><td>-0.0268</td><td>200701 </td></tr>\n",
       "</tbody>\n",
       "</table>\n"
      ],
      "text/latex": [
       "\\begin{tabular}{r|lllllllllll}\n",
       " NoDur & Durbl & Manuf & Enrgy & HiTec & Telcm & Shops & Hlth & Utils & Other & date\\\\\n",
       "\\hline\n",
       "\t  0.0135 &  0.0271 &  0.0323 & -0.0131 &  0.0218 &  0.0288 &  0.0355 &  0.0350 &  0.0038 &  0.0109 & 200701 \\\\\n",
       "\t -0.0179 & -0.0043 &  0.0080 & -0.0217 & -0.0249 & -0.0250 & -0.0063 & -0.0280 &  0.0425 & -0.0231 & 200701 \\\\\n",
       "\t  0.0247 & -0.0107 &  0.0158 &  0.0599 &  0.0091 &  0.0232 &  0.0073 & -0.0022 &  0.0434 & -0.0027 & 200701 \\\\\n",
       "\t  0.0374 &  0.0626 &  0.0440 &  0.0539 &  0.0491 &  0.0211 &  0.0223 &  0.0684 &  0.0392 &  0.0339 & 200701 \\\\\n",
       "\t  0.0281 &  0.0342 &  0.0484 &  0.0719 &  0.0390 &  0.0668 &  0.0251 &  0.0111 &  0.0120 &  0.0335 & 200701 \\\\\n",
       "\t -0.0086 &  0.0212 & -0.0060 &  0.0104 &  0.0061 & -0.0173 & -0.0195 & -0.0340 & -0.0478 & -0.0268 & 200701 \\\\\n",
       "\\end{tabular}\n"
      ],
      "text/markdown": [
       "\n",
       "| NoDur | Durbl | Manuf | Enrgy | HiTec | Telcm | Shops | Hlth | Utils | Other | date |\n",
       "|---|---|---|---|---|---|---|---|---|---|---|\n",
       "|  0.0135 |  0.0271 |  0.0323 | -0.0131 |  0.0218 |  0.0288 |  0.0355 |  0.0350 |  0.0038 |  0.0109 | 200701  |\n",
       "| -0.0179 | -0.0043 |  0.0080 | -0.0217 | -0.0249 | -0.0250 | -0.0063 | -0.0280 |  0.0425 | -0.0231 | 200701  |\n",
       "|  0.0247 | -0.0107 |  0.0158 |  0.0599 |  0.0091 |  0.0232 |  0.0073 | -0.0022 |  0.0434 | -0.0027 | 200701  |\n",
       "|  0.0374 |  0.0626 |  0.0440 |  0.0539 |  0.0491 |  0.0211 |  0.0223 |  0.0684 |  0.0392 |  0.0339 | 200701  |\n",
       "|  0.0281 |  0.0342 |  0.0484 |  0.0719 |  0.0390 |  0.0668 |  0.0251 |  0.0111 |  0.0120 |  0.0335 | 200701  |\n",
       "| -0.0086 |  0.0212 | -0.0060 |  0.0104 |  0.0061 | -0.0173 | -0.0195 | -0.0340 | -0.0478 | -0.0268 | 200701  |\n",
       "\n"
      ],
      "text/plain": [
       "  NoDur   Durbl   Manuf   Enrgy   HiTec   Telcm   Shops   Hlth    Utils  \n",
       "1  0.0135  0.0271  0.0323 -0.0131  0.0218  0.0288  0.0355  0.0350  0.0038\n",
       "2 -0.0179 -0.0043  0.0080 -0.0217 -0.0249 -0.0250 -0.0063 -0.0280  0.0425\n",
       "3  0.0247 -0.0107  0.0158  0.0599  0.0091  0.0232  0.0073 -0.0022  0.0434\n",
       "4  0.0374  0.0626  0.0440  0.0539  0.0491  0.0211  0.0223  0.0684  0.0392\n",
       "5  0.0281  0.0342  0.0484  0.0719  0.0390  0.0668  0.0251  0.0111  0.0120\n",
       "6 -0.0086  0.0212 -0.0060  0.0104  0.0061 -0.0173 -0.0195 -0.0340 -0.0478\n",
       "  Other   date  \n",
       "1  0.0109 200701\n",
       "2 -0.0231 200701\n",
       "3 -0.0027 200701\n",
       "4  0.0339 200701\n",
       "5  0.0335 200701\n",
       "6 -0.0268 200701"
      ]
     },
     "metadata": {},
     "output_type": "display_data"
    }
   ],
   "source": [
    "head(df)"
   ]
  },
  {
   "cell_type": "code",
   "execution_count": 16,
   "metadata": {},
   "outputs": [
    {
     "data": {
      "text/plain": [
       "     NoDur               Durbl               Manuf          \n",
       " Min.   :-0.122500   Min.   :-0.326300   Min.   :-0.207500  \n",
       " 1st Qu.:-0.009800   1st Qu.:-0.023325   1st Qu.:-0.010275  \n",
       " Median : 0.010250   Median : 0.007850   Median : 0.013600  \n",
       " Mean   : 0.009245   Mean   : 0.008011   Mean   : 0.009515  \n",
       " 3rd Qu.: 0.035075   3rd Qu.: 0.041775   3rd Qu.: 0.034525  \n",
       " Max.   : 0.074100   Max.   : 0.426300   Max.   : 0.175100  \n",
       "     Enrgy               HiTec              Telcm               Shops          \n",
       " Min.   :-0.172300   Min.   :-0.18230   Min.   :-0.163600   Min.   :-0.151200  \n",
       " 1st Qu.:-0.031150   1st Qu.:-0.01493   1st Qu.:-0.020050   1st Qu.:-0.009100  \n",
       " Median : 0.009850   Median : 0.01710   Median : 0.010550   Median : 0.010250  \n",
       " Mean   : 0.004593   Mean   : 0.01070   Mean   : 0.007653   Mean   : 0.009565  \n",
       " 3rd Qu.: 0.044800   3rd Qu.: 0.04258   3rd Qu.: 0.040100   3rd Qu.: 0.035050  \n",
       " Max.   : 0.163900   Max.   : 0.12430   Max.   : 0.104300   Max.   : 0.120800  \n",
       "      Hlth               Utils               Other               date       \n",
       " Min.   :-0.109500   Min.   :-0.126500   Min.   :-0.20040   Min.   :200701  \n",
       " 1st Qu.:-0.013675   1st Qu.:-0.008400   1st Qu.:-0.01932   1st Qu.:200910  \n",
       " Median : 0.013200   Median : 0.011350   Median : 0.01120   Median :201206  \n",
       " Mean   : 0.009475   Mean   : 0.006689   Mean   : 0.00554   Mean   :201206  \n",
       " 3rd Qu.: 0.035450   3rd Qu.: 0.031300   3rd Qu.: 0.03667   3rd Qu.:201503  \n",
       " Max.   : 0.090000   Max.   : 0.079200   Max.   : 0.16360   Max.   :201712  "
      ]
     },
     "metadata": {},
     "output_type": "display_data"
    }
   ],
   "source": [
    "summary(df)"
   ]
  },
  {
   "cell_type": "markdown",
   "metadata": {},
   "source": [
    "Hitech has the highest mean return of 1.07 (107%) while Energy has the lowest mean return of 0.459. (45.9%) Returns vary quite a lot among industries."
   ]
  },
  {
   "cell_type": "code",
   "execution_count": 17,
   "metadata": {},
   "outputs": [
    {
     "data": {
      "text/html": [
       "0.0339916478763761"
      ],
      "text/latex": [
       "0.0339916478763761"
      ],
      "text/markdown": [
       "0.0339916478763761"
      ],
      "text/plain": [
       "[1] 0.03399165"
      ]
     },
     "metadata": {},
     "output_type": "display_data"
    },
    {
     "data": {
      "text/html": [
       "0.080695394538751"
      ],
      "text/latex": [
       "0.080695394538751"
      ],
      "text/markdown": [
       "0.080695394538751"
      ],
      "text/plain": [
       "[1] 0.08069539"
      ]
     },
     "metadata": {},
     "output_type": "display_data"
    },
    {
     "data": {
      "text/html": [
       "0.0517749850126906"
      ],
      "text/latex": [
       "0.0517749850126906"
      ],
      "text/markdown": [
       "0.0517749850126906"
      ],
      "text/plain": [
       "[1] 0.05177499"
      ]
     },
     "metadata": {},
     "output_type": "display_data"
    },
    {
     "data": {
      "text/html": [
       "0.0593570178635123"
      ],
      "text/latex": [
       "0.0593570178635123"
      ],
      "text/markdown": [
       "0.0593570178635123"
      ],
      "text/plain": [
       "[1] 0.05935702"
      ]
     },
     "metadata": {},
     "output_type": "display_data"
    },
    {
     "data": {
      "text/html": [
       "0.0511052170145756"
      ],
      "text/latex": [
       "0.0511052170145756"
      ],
      "text/markdown": [
       "0.0511052170145756"
      ],
      "text/plain": [
       "[1] 0.05110522"
      ]
     },
     "metadata": {},
     "output_type": "display_data"
    },
    {
     "data": {
      "text/html": [
       "0.0464267684928902"
      ],
      "text/latex": [
       "0.0464267684928902"
      ],
      "text/markdown": [
       "0.0464267684928902"
      ],
      "text/plain": [
       "[1] 0.04642677"
      ]
     },
     "metadata": {},
     "output_type": "display_data"
    },
    {
     "data": {
      "text/html": [
       "0.0400214520046316"
      ],
      "text/latex": [
       "0.0400214520046316"
      ],
      "text/markdown": [
       "0.0400214520046316"
      ],
      "text/plain": [
       "[1] 0.04002145"
      ]
     },
     "metadata": {},
     "output_type": "display_data"
    },
    {
     "data": {
      "text/html": [
       "0.040121289815492"
      ],
      "text/latex": [
       "0.040121289815492"
      ],
      "text/markdown": [
       "0.040121289815492"
      ],
      "text/plain": [
       "[1] 0.04012129"
      ]
     },
     "metadata": {},
     "output_type": "display_data"
    },
    {
     "data": {
      "text/html": [
       "0.038036611712517"
      ],
      "text/latex": [
       "0.038036611712517"
      ],
      "text/markdown": [
       "0.038036611712517"
      ],
      "text/plain": [
       "[1] 0.03803661"
      ]
     },
     "metadata": {},
     "output_type": "display_data"
    },
    {
     "data": {
      "text/html": [
       "0.0565485740857474"
      ],
      "text/latex": [
       "0.0565485740857474"
      ],
      "text/markdown": [
       "0.0565485740857474"
      ],
      "text/plain": [
       "[1] 0.05654857"
      ]
     },
     "metadata": {},
     "output_type": "display_data"
    }
   ],
   "source": [
    "sd(df$NoDur)\n",
    "sd(df$Durbl)\n",
    "sd(df$Manuf)\n",
    "sd(df$Enrgy)\n",
    "sd(df$HiTec)\n",
    "sd(df$Telcm)\n",
    "sd(df$Shops)\n",
    "sd(df$Hlth)\n",
    "sd(df$Utils)\n",
    "sd(df$Other)"
   ]
  },
  {
   "cell_type": "markdown",
   "metadata": {},
   "source": [
    "The volatility of the returns of the 10 industries are above. (Std) Durables have the highst volatility of 8.10 while Nondurables the lowest of 3.41. It's surprising that Hitech despite its high returns, have quite average volatility."
   ]
  },
  {
   "cell_type": "markdown",
   "metadata": {},
   "source": [
    "c) Standardize the returns to have mean zero and standard deviation one. Perform principal components analysis."
   ]
  },
  {
   "cell_type": "code",
   "execution_count": 18,
   "metadata": {},
   "outputs": [],
   "source": [
    "#df1 = scale(df[,-1], scale=TRUE, center=TRUE)\n",
    "#df <- merge(df1,df$date)\n",
    "#colnames(df)[11] <- \"date\"\n",
    "\n",
    "#head(df)\n",
    "#summary(df)"
   ]
  },
  {
   "cell_type": "code",
   "execution_count": 19,
   "metadata": {},
   "outputs": [
    {
     "data": {
      "text/html": [
       "<ol class=list-inline>\n",
       "\t<li>'sdev'</li>\n",
       "\t<li>'rotation'</li>\n",
       "\t<li>'center'</li>\n",
       "\t<li>'scale'</li>\n",
       "\t<li>'x'</li>\n",
       "</ol>\n"
      ],
      "text/latex": [
       "\\begin{enumerate*}\n",
       "\\item 'sdev'\n",
       "\\item 'rotation'\n",
       "\\item 'center'\n",
       "\\item 'scale'\n",
       "\\item 'x'\n",
       "\\end{enumerate*}\n"
      ],
      "text/markdown": [
       "1. 'sdev'\n",
       "2. 'rotation'\n",
       "3. 'center'\n",
       "4. 'scale'\n",
       "5. 'x'\n",
       "\n",
       "\n"
      ],
      "text/plain": [
       "[1] \"sdev\"     \"rotation\" \"center\"   \"scale\"    \"x\"       "
      ]
     },
     "metadata": {},
     "output_type": "display_data"
    },
    {
     "data": {
      "text/plain": [
       "Importance of components:\n",
       "                          PC1     PC2     PC3     PC4     PC5     PC6     PC7\n",
       "Standard deviation     2.6792 0.90162 0.81438 0.60700 0.52282 0.45470 0.44152\n",
       "Proportion of Variance 0.7178 0.08129 0.06632 0.03684 0.02733 0.02068 0.01949\n",
       "Cumulative Proportion  0.7178 0.79909 0.86542 0.90226 0.92959 0.95027 0.96976\n",
       "                           PC8     PC9    PC10\n",
       "Standard deviation     0.39222 0.32220 0.21148\n",
       "Proportion of Variance 0.01538 0.01038 0.00447\n",
       "Cumulative Proportion  0.98515 0.99553 1.00000"
      ]
     },
     "metadata": {},
     "output_type": "display_data"
    },
    {
     "data": {
      "text/plain": [
       "Standard deviations (1, .., p=10):\n",
       " [1] 2.6791819 0.9016211 0.8143843 0.6069964 0.5228162 0.4546982 0.4415179\n",
       " [8] 0.3922153 0.3222024 0.2114820\n",
       "\n",
       "Rotation (n x k) = (10 x 10):\n",
       "             PC1         PC2          PC3          PC4         PC5         PC6\n",
       "NoDur -0.3209707 -0.20574793 -0.313269059  0.043979250 -0.51798115  0.03125387\n",
       "Durbl -0.3219955  0.36487568  0.188589419  0.341555339  0.31361722  0.25891008\n",
       "Manuf -0.3587469  0.09884357  0.178822209 -0.005370575  0.09624055  0.07049207\n",
       "Enrgy -0.2658328 -0.23437075  0.721504557 -0.486561281 -0.09990044  0.01174697\n",
       "HiTec -0.3359681  0.09660734  0.027975616  0.137663533  0.24267344 -0.85649182\n",
       "Telcm -0.3339348 -0.08376337  0.019180437  0.088319286 -0.53016512 -0.10330923\n",
       "Shops -0.3340327  0.22061754 -0.215733712  0.148908058 -0.14508703  0.05660649\n",
       "Hlth  -0.2921623 -0.05782621 -0.513920865 -0.670859032  0.34759767  0.02893193\n",
       "Utils -0.2379241 -0.77867458 -0.044035892  0.379831620  0.36143112  0.18041331\n",
       "Other -0.3405858  0.29177814  0.002223845 -0.037229004  0.04031291  0.38215218\n",
       "               PC7         PC8         PC9         PC10\n",
       "NoDur  0.603723263  0.29815408  0.10073455 -0.147538379\n",
       "Durbl  0.001336427  0.21025826  0.51186104 -0.373304683\n",
       "Manuf  0.108555648  0.20809688  0.09339897  0.866880048\n",
       "Enrgy  0.146878077 -0.20688723  0.05309196 -0.199449743\n",
       "HiTec  0.091076486  0.05309084 -0.20338652 -0.114500061\n",
       "Telcm -0.742929422  0.14504175  0.09113242 -0.016396190\n",
       "Shops  0.074743538 -0.85327259  0.08178294  0.080197853\n",
       "Hlth  -0.171256418  0.05283089  0.19749670 -0.065915170\n",
       "Utils -0.076732372 -0.09825651 -0.10981374 -0.008008018\n",
       "Other -0.033416631  0.12811581 -0.78031087 -0.152954535"
      ]
     },
     "metadata": {},
     "output_type": "display_data"
    }
   ],
   "source": [
    "#my_pca <- prcomp(df,\n",
    "#                center = TRUE, retx = T)\n",
    "\n",
    "my_pca <- prcomp(df[,-11], center = TRUE,scale. = TRUE) #date is removed from pca\n",
    "\n",
    "names(my_pca)\n",
    "\n",
    "# Summary\n",
    "summary(my_pca)\n",
    "my_pca"
   ]
  },
  {
   "cell_type": "markdown",
   "metadata": {},
   "source": [
    "(e) What are the principal components' loadings?"
   ]
  },
  {
   "cell_type": "code",
   "execution_count": 20,
   "metadata": {},
   "outputs": [
    {
     "data": {
      "text/html": [
       "<table>\n",
       "<thead><tr><th></th><th scope=col>PC1</th><th scope=col>PC2</th><th scope=col>PC3</th><th scope=col>PC4</th><th scope=col>PC5</th><th scope=col>PC6</th><th scope=col>PC7</th><th scope=col>PC8</th><th scope=col>PC9</th><th scope=col>PC10</th></tr></thead>\n",
       "<tbody>\n",
       "\t<tr><th scope=row>NoDur</th><td>-0.3209707  </td><td>-0.20574793 </td><td>-0.313269059</td><td> 0.043979250</td><td>-0.51798115 </td><td> 0.03125387 </td><td> 0.603723263</td><td> 0.29815408 </td><td> 0.10073455 </td><td>-0.147538379</td></tr>\n",
       "\t<tr><th scope=row>Durbl</th><td>-0.3219955  </td><td> 0.36487568 </td><td> 0.188589419</td><td> 0.341555339</td><td> 0.31361722 </td><td> 0.25891008 </td><td> 0.001336427</td><td> 0.21025826 </td><td> 0.51186104 </td><td>-0.373304683</td></tr>\n",
       "\t<tr><th scope=row>Manuf</th><td>-0.3587469  </td><td> 0.09884357 </td><td> 0.178822209</td><td>-0.005370575</td><td> 0.09624055 </td><td> 0.07049207 </td><td> 0.108555648</td><td> 0.20809688 </td><td> 0.09339897 </td><td> 0.866880048</td></tr>\n",
       "\t<tr><th scope=row>Enrgy</th><td>-0.2658328  </td><td>-0.23437075 </td><td> 0.721504557</td><td>-0.486561281</td><td>-0.09990044 </td><td> 0.01174697 </td><td> 0.146878077</td><td>-0.20688723 </td><td> 0.05309196 </td><td>-0.199449743</td></tr>\n",
       "\t<tr><th scope=row>HiTec</th><td>-0.3359681  </td><td> 0.09660734 </td><td> 0.027975616</td><td> 0.137663533</td><td> 0.24267344 </td><td>-0.85649182 </td><td> 0.091076486</td><td> 0.05309084 </td><td>-0.20338652 </td><td>-0.114500061</td></tr>\n",
       "\t<tr><th scope=row>Telcm</th><td>-0.3339348  </td><td>-0.08376337 </td><td> 0.019180437</td><td> 0.088319286</td><td>-0.53016512 </td><td>-0.10330923 </td><td>-0.742929422</td><td> 0.14504175 </td><td> 0.09113242 </td><td>-0.016396190</td></tr>\n",
       "\t<tr><th scope=row>Shops</th><td>-0.3340327  </td><td> 0.22061754 </td><td>-0.215733712</td><td> 0.148908058</td><td>-0.14508703 </td><td> 0.05660649 </td><td> 0.074743538</td><td>-0.85327259 </td><td> 0.08178294 </td><td> 0.080197853</td></tr>\n",
       "\t<tr><th scope=row>Hlth</th><td>-0.2921623  </td><td>-0.05782621 </td><td>-0.513920865</td><td>-0.670859032</td><td> 0.34759767 </td><td> 0.02893193 </td><td>-0.171256418</td><td> 0.05283089 </td><td> 0.19749670 </td><td>-0.065915170</td></tr>\n",
       "\t<tr><th scope=row>Utils</th><td>-0.2379241  </td><td>-0.77867458 </td><td>-0.044035892</td><td> 0.379831620</td><td> 0.36143112 </td><td> 0.18041331 </td><td>-0.076732372</td><td>-0.09825651 </td><td>-0.10981374 </td><td>-0.008008018</td></tr>\n",
       "\t<tr><th scope=row>Other</th><td>-0.3405858  </td><td> 0.29177814 </td><td> 0.002223845</td><td>-0.037229004</td><td> 0.04031291 </td><td> 0.38215218 </td><td>-0.033416631</td><td> 0.12811581 </td><td>-0.78031087 </td><td>-0.152954535</td></tr>\n",
       "</tbody>\n",
       "</table>\n"
      ],
      "text/latex": [
       "\\begin{tabular}{r|llllllllll}\n",
       "  & PC1 & PC2 & PC3 & PC4 & PC5 & PC6 & PC7 & PC8 & PC9 & PC10\\\\\n",
       "\\hline\n",
       "\tNoDur & -0.3209707   & -0.20574793  & -0.313269059 &  0.043979250 & -0.51798115  &  0.03125387  &  0.603723263 &  0.29815408  &  0.10073455  & -0.147538379\\\\\n",
       "\tDurbl & -0.3219955   &  0.36487568  &  0.188589419 &  0.341555339 &  0.31361722  &  0.25891008  &  0.001336427 &  0.21025826  &  0.51186104  & -0.373304683\\\\\n",
       "\tManuf & -0.3587469   &  0.09884357  &  0.178822209 & -0.005370575 &  0.09624055  &  0.07049207  &  0.108555648 &  0.20809688  &  0.09339897  &  0.866880048\\\\\n",
       "\tEnrgy & -0.2658328   & -0.23437075  &  0.721504557 & -0.486561281 & -0.09990044  &  0.01174697  &  0.146878077 & -0.20688723  &  0.05309196  & -0.199449743\\\\\n",
       "\tHiTec & -0.3359681   &  0.09660734  &  0.027975616 &  0.137663533 &  0.24267344  & -0.85649182  &  0.091076486 &  0.05309084  & -0.20338652  & -0.114500061\\\\\n",
       "\tTelcm & -0.3339348   & -0.08376337  &  0.019180437 &  0.088319286 & -0.53016512  & -0.10330923  & -0.742929422 &  0.14504175  &  0.09113242  & -0.016396190\\\\\n",
       "\tShops & -0.3340327   &  0.22061754  & -0.215733712 &  0.148908058 & -0.14508703  &  0.05660649  &  0.074743538 & -0.85327259  &  0.08178294  &  0.080197853\\\\\n",
       "\tHlth & -0.2921623   & -0.05782621  & -0.513920865 & -0.670859032 &  0.34759767  &  0.02893193  & -0.171256418 &  0.05283089  &  0.19749670  & -0.065915170\\\\\n",
       "\tUtils & -0.2379241   & -0.77867458  & -0.044035892 &  0.379831620 &  0.36143112  &  0.18041331  & -0.076732372 & -0.09825651  & -0.10981374  & -0.008008018\\\\\n",
       "\tOther & -0.3405858   &  0.29177814  &  0.002223845 & -0.037229004 &  0.04031291  &  0.38215218  & -0.033416631 &  0.12811581  & -0.78031087  & -0.152954535\\\\\n",
       "\\end{tabular}\n"
      ],
      "text/markdown": [
       "\n",
       "| <!--/--> | PC1 | PC2 | PC3 | PC4 | PC5 | PC6 | PC7 | PC8 | PC9 | PC10 |\n",
       "|---|---|---|---|---|---|---|---|---|---|---|\n",
       "| NoDur | -0.3209707   | -0.20574793  | -0.313269059 |  0.043979250 | -0.51798115  |  0.03125387  |  0.603723263 |  0.29815408  |  0.10073455  | -0.147538379 |\n",
       "| Durbl | -0.3219955   |  0.36487568  |  0.188589419 |  0.341555339 |  0.31361722  |  0.25891008  |  0.001336427 |  0.21025826  |  0.51186104  | -0.373304683 |\n",
       "| Manuf | -0.3587469   |  0.09884357  |  0.178822209 | -0.005370575 |  0.09624055  |  0.07049207  |  0.108555648 |  0.20809688  |  0.09339897  |  0.866880048 |\n",
       "| Enrgy | -0.2658328   | -0.23437075  |  0.721504557 | -0.486561281 | -0.09990044  |  0.01174697  |  0.146878077 | -0.20688723  |  0.05309196  | -0.199449743 |\n",
       "| HiTec | -0.3359681   |  0.09660734  |  0.027975616 |  0.137663533 |  0.24267344  | -0.85649182  |  0.091076486 |  0.05309084  | -0.20338652  | -0.114500061 |\n",
       "| Telcm | -0.3339348   | -0.08376337  |  0.019180437 |  0.088319286 | -0.53016512  | -0.10330923  | -0.742929422 |  0.14504175  |  0.09113242  | -0.016396190 |\n",
       "| Shops | -0.3340327   |  0.22061754  | -0.215733712 |  0.148908058 | -0.14508703  |  0.05660649  |  0.074743538 | -0.85327259  |  0.08178294  |  0.080197853 |\n",
       "| Hlth | -0.2921623   | -0.05782621  | -0.513920865 | -0.670859032 |  0.34759767  |  0.02893193  | -0.171256418 |  0.05283089  |  0.19749670  | -0.065915170 |\n",
       "| Utils | -0.2379241   | -0.77867458  | -0.044035892 |  0.379831620 |  0.36143112  |  0.18041331  | -0.076732372 | -0.09825651  | -0.10981374  | -0.008008018 |\n",
       "| Other | -0.3405858   |  0.29177814  |  0.002223845 | -0.037229004 |  0.04031291  |  0.38215218  | -0.033416631 |  0.12811581  | -0.78031087  | -0.152954535 |\n",
       "\n"
      ],
      "text/plain": [
       "      PC1        PC2         PC3          PC4          PC5         PC6        \n",
       "NoDur -0.3209707 -0.20574793 -0.313269059  0.043979250 -0.51798115  0.03125387\n",
       "Durbl -0.3219955  0.36487568  0.188589419  0.341555339  0.31361722  0.25891008\n",
       "Manuf -0.3587469  0.09884357  0.178822209 -0.005370575  0.09624055  0.07049207\n",
       "Enrgy -0.2658328 -0.23437075  0.721504557 -0.486561281 -0.09990044  0.01174697\n",
       "HiTec -0.3359681  0.09660734  0.027975616  0.137663533  0.24267344 -0.85649182\n",
       "Telcm -0.3339348 -0.08376337  0.019180437  0.088319286 -0.53016512 -0.10330923\n",
       "Shops -0.3340327  0.22061754 -0.215733712  0.148908058 -0.14508703  0.05660649\n",
       "Hlth  -0.2921623 -0.05782621 -0.513920865 -0.670859032  0.34759767  0.02893193\n",
       "Utils -0.2379241 -0.77867458 -0.044035892  0.379831620  0.36143112  0.18041331\n",
       "Other -0.3405858  0.29177814  0.002223845 -0.037229004  0.04031291  0.38215218\n",
       "      PC7          PC8         PC9         PC10        \n",
       "NoDur  0.603723263  0.29815408  0.10073455 -0.147538379\n",
       "Durbl  0.001336427  0.21025826  0.51186104 -0.373304683\n",
       "Manuf  0.108555648  0.20809688  0.09339897  0.866880048\n",
       "Enrgy  0.146878077 -0.20688723  0.05309196 -0.199449743\n",
       "HiTec  0.091076486  0.05309084 -0.20338652 -0.114500061\n",
       "Telcm -0.742929422  0.14504175  0.09113242 -0.016396190\n",
       "Shops  0.074743538 -0.85327259  0.08178294  0.080197853\n",
       "Hlth  -0.171256418  0.05283089  0.19749670 -0.065915170\n",
       "Utils -0.076732372 -0.09825651 -0.10981374 -0.008008018\n",
       "Other -0.033416631  0.12811581 -0.78031087 -0.152954535"
      ]
     },
     "metadata": {},
     "output_type": "display_data"
    }
   ],
   "source": [
    "# View the principal component loading\n",
    "# my_pca$rotation[1:5, 1:4]\n",
    "my_pca$rotation"
   ]
  },
  {
   "cell_type": "markdown",
   "metadata": {},
   "source": [
    "(f) Show a scree plot of the principal components"
   ]
  },
  {
   "cell_type": "code",
   "execution_count": 21,
   "metadata": {},
   "outputs": [
    {
     "data": {
      "text/html": [
       "<ol class=list-inline>\n",
       "\t<li>17424</li>\n",
       "\t<li>10</li>\n",
       "</ol>\n"
      ],
      "text/latex": [
       "\\begin{enumerate*}\n",
       "\\item 17424\n",
       "\\item 10\n",
       "\\end{enumerate*}\n"
      ],
      "text/markdown": [
       "1. 17424\n",
       "2. 10\n",
       "\n",
       "\n"
      ],
      "text/plain": [
       "[1] 17424    10"
      ]
     },
     "metadata": {},
     "output_type": "display_data"
    },
    {
     "data": {
      "text/html": [
       "<table>\n",
       "<thead><tr><th scope=col>PC1</th><th scope=col>PC2</th><th scope=col>PC3</th><th scope=col>PC4</th><th scope=col>PC5</th><th scope=col>PC6</th><th scope=col>PC7</th><th scope=col>PC8</th><th scope=col>PC9</th><th scope=col>PC10</th></tr></thead>\n",
       "<tbody>\n",
       "\t<tr><td>-0.8365665  </td><td> 0.3497236  </td><td>-0.57935919 </td><td>-0.06359585 </td><td>-0.003827467</td><td>-0.062726183</td><td>-0.296607618</td><td>-0.18182872 </td><td> 0.269344986</td><td> 0.297989991</td></tr>\n",
       "\t<tr><td> 1.2564382  </td><td>-0.7131513  </td><td> 0.38654514 </td><td> 0.91447015 </td><td> 0.663759205</td><td> 0.524486673</td><td>-0.016489844</td><td>-0.19211477 </td><td>-0.032261144</td><td> 0.428763935</td></tr>\n",
       "\t<tr><td>-0.5398639  </td><td>-1.2053200  </td><td> 0.63229758 </td><td> 0.07083948 </td><td>-0.324761481</td><td> 0.072787433</td><td> 0.148981566</td><td>-0.11438213 </td><td>-0.029557753</td><td>-0.033825074</td></tr>\n",
       "\t<tr><td>-2.2021228  </td><td>-0.5380630  </td><td>-0.24682857 </td><td>-0.64317632 </td><td> 0.586482638</td><td>-0.009302481</td><td> 0.238433369</td><td> 0.22418184 </td><td> 0.240485929</td><td>-0.208642167</td></tr>\n",
       "\t<tr><td>-1.8079573  </td><td>-0.1216161  </td><td> 0.77019991 </td><td>-0.16652815 </td><td>-0.739439649</td><td>-0.200920018</td><td>-0.317826449</td><td> 0.09004301 </td><td>-0.005570191</td><td> 0.089338707</td></tr>\n",
       "\t<tr><td> 1.5019218  </td><td> 1.0024809  </td><td> 0.97482018 </td><td> 0.02282710 </td><td>-0.264443879</td><td>-0.410836850</td><td> 0.316525988</td><td> 0.34241766 </td><td> 0.307496114</td><td>-0.131582834</td></tr>\n",
       "\t<tr><td> 2.8642765  </td><td> 0.4080763  </td><td> 1.10508644 </td><td>-0.17535945 </td><td> 0.198871231</td><td>-0.546872833</td><td>-0.174564699</td><td> 0.49414653 </td><td>-0.010131406</td><td> 0.602207988</td></tr>\n",
       "\t<tr><td>-0.1892161  </td><td>-0.3462778  </td><td>-0.37965948 </td><td>-0.15633842 </td><td> 0.239432609</td><td>-0.215734423</td><td> 0.354483903</td><td>-0.12456483 </td><td>-0.244442602</td><td>-0.005789456</td></tr>\n",
       "\t<tr><td>-1.5896198  </td><td>-0.9177503  </td><td> 0.54575421 </td><td>-0.65574701 </td><td> 0.148341418</td><td>-0.146282248</td><td> 0.426701902</td><td> 0.62783508 </td><td>-0.101687761</td><td> 0.123529239</td></tr>\n",
       "\t<tr><td>-0.7735960  </td><td>-1.2603372  </td><td> 0.04533917 </td><td> 0.46451532 </td><td> 1.005442368</td><td>-0.629738126</td><td> 0.738537016</td><td>-0.18508336 </td><td>-0.270347161</td><td>-0.260362202</td></tr>\n",
       "\t<tr><td> 2.8767515  </td><td>-0.6780489  </td><td>-0.59015140 </td><td>-0.51520191 </td><td>-0.011372472</td><td> 0.626168824</td><td> 0.903876362</td><td> 0.32522533 </td><td> 0.329342233</td><td> 0.309764887</td></tr>\n",
       "\t<tr><td> 0.9396083  </td><td>-0.6480942  </td><td> 1.82507103 </td><td> 0.01721209 </td><td>-0.099146491</td><td>-0.487958233</td><td> 0.139959784</td><td> 0.09126537 </td><td> 0.044998256</td><td> 0.079065493</td></tr>\n",
       "\t<tr><td> 4.4715904  </td><td> 1.6032706  </td><td>-0.33991396 </td><td> 0.05672642 </td><td>-0.196601128</td><td> 1.436376315</td><td> 0.023818274</td><td>-0.72892434 </td><td>-0.204950520</td><td>-0.032380615</td></tr>\n",
       "\t<tr><td> 2.1155057  </td><td>-0.5082316  </td><td> 1.30024804 </td><td>-1.27955908 </td><td>-0.269205125</td><td>-0.183536200</td><td> 0.701605046</td><td> 0.39863022 </td><td> 0.818043627</td><td> 0.387731123</td></tr>\n",
       "\t<tr><td> 0.7213319  </td><td>-0.1871258  </td><td>-0.27504654 </td><td> 0.56276266 </td><td>-0.364715558</td><td>-0.247307169</td><td> 0.238127697</td><td>-0.35351389 </td><td>-0.163848855</td><td> 0.310282036</td></tr>\n",
       "\t<tr><td>-2.2466853  </td><td>-0.6416867  </td><td> 1.55492276 </td><td> 0.38749266 </td><td> 0.696774907</td><td>-0.273038680</td><td>-0.584089423</td><td>-1.05656121 </td><td>-0.221154167</td><td> 0.011374980</td></tr>\n",
       "\t<tr><td>-1.2710544  </td><td>-0.9757833  </td><td> 0.23922435 </td><td> 0.14529183 </td><td>-0.347534143</td><td>-0.781012180</td><td>-0.002406675</td><td> 0.24176879 </td><td> 0.488684806</td><td> 0.053986733</td></tr>\n",
       "\t<tr><td> 5.7458930  </td><td>-1.6566282  </td><td> 1.13781837 </td><td>-1.34254800 </td><td> 0.879851864</td><td>-0.164275424</td><td> 0.196457418</td><td>-0.66018746 </td><td> 0.263031154</td><td> 0.058645267</td></tr>\n",
       "\t<tr><td> 0.9684065  </td><td> 2.2772944  </td><td>-2.81270377 </td><td>-0.60701861 </td><td> 0.166537473</td><td> 0.255340748</td><td> 0.223895673</td><td> 0.76857773 </td><td>-0.200041359</td><td> 0.226297756</td></tr>\n",
       "\t<tr><td>-0.8286472  </td><td> 0.4784535  </td><td>-0.41378703 </td><td> 0.13999802 </td><td>-0.570826944</td><td>-0.225841807</td><td>-0.280078668</td><td>-0.62301929 </td><td> 0.351741967</td><td> 0.041648365</td></tr>\n",
       "\t<tr><td> 6.5043524  </td><td> 1.9730767  </td><td>-0.67735813 </td><td>-0.34916192 </td><td>-0.569218818</td><td> 0.757345209</td><td> 1.067025551</td><td> 0.22052044 </td><td> 0.058776032</td><td>-0.771141171</td></tr>\n",
       "\t<tr><td>11.5573377  </td><td> 0.1399086  </td><td>-0.12488855 </td><td>-0.60408996 </td><td>-0.068449175</td><td>-0.170241884</td><td>-0.275619917</td><td> 0.08971249 </td><td>-0.362264407</td><td> 0.027209125</td></tr>\n",
       "\t<tr><td> 4.9151213  </td><td>-1.5009853  </td><td> 1.44686551 </td><td> 0.27636761 </td><td>-0.202649854</td><td> 0.517140984</td><td>-1.113887412</td><td>-0.08459584 </td><td> 0.418605815</td><td> 0.051500404</td></tr>\n",
       "\t<tr><td>-0.7448442  </td><td> 0.9197815  </td><td>-1.26555436 </td><td>-0.70905076 </td><td> 0.024878039</td><td>-0.233813856</td><td>-0.701047198</td><td>-0.46994139 </td><td> 0.326746152</td><td> 0.127348094</td></tr>\n",
       "\t<tr><td> 5.0884339  </td><td>-1.3496087  </td><td> 0.14140112 </td><td>-0.46074446 </td><td> 0.899065009</td><td>-1.150992109</td><td> 0.685110437</td><td>-0.03433863 </td><td> 1.073073595</td><td>-0.237983797</td></tr>\n",
       "\t<tr><td> 6.7193445  </td><td> 2.0564517  </td><td> 0.16162733 </td><td> 0.46385937 </td><td>-0.821906163</td><td>-1.306492925</td><td>-0.239914989</td><td>-0.83293442 </td><td> 0.370579438</td><td>-0.316524404</td></tr>\n",
       "\t<tr><td>-4.8386643  </td><td> 0.8878154  </td><td>-0.79377826 </td><td> 0.15266841 </td><td>-0.105428300</td><td>-0.225723681</td><td> 0.066812092</td><td>-0.34524154 </td><td>-0.476799854</td><td>-0.306172957</td></tr>\n",
       "\t<tr><td>-6.4576418  </td><td> 2.8414289  </td><td> 1.63766906 </td><td> 2.58245020 </td><td> 0.469018406</td><td> 0.747571690</td><td>-0.063120755</td><td> 0.81449346 </td><td> 0.708386395</td><td>-0.005739524</td></tr>\n",
       "\t<tr><td>-2.2779941  </td><td>-1.4358581  </td><td> 0.17995492 </td><td>-1.46162371 </td><td>-0.144226258</td><td> 0.336179424</td><td> 0.909587934</td><td> 0.80374300 </td><td>-0.838132299</td><td>-0.064135129</td></tr>\n",
       "\t<tr><td>-0.1016918  </td><td>-0.6818988  </td><td>-0.90498527 </td><td> 0.59161722 </td><td> 0.928265971</td><td>-0.504708294</td><td>-0.567038505</td><td> 0.31223804 </td><td> 0.286520201</td><td>-0.463807986</td></tr>\n",
       "\t<tr><td>...</td><td>...</td><td>...</td><td>...</td><td>...</td><td>...</td><td>...</td><td>...</td><td>...</td><td>...</td></tr>\n",
       "\t<tr><td>-0.47463678 </td><td>-0.190250015</td><td>-2.24403450 </td><td> 0.62353673 </td><td>-0.31886206 </td><td>-0.10647508 </td><td> 0.217451165</td><td>-0.295970952</td><td>-0.30431689 </td><td>-0.278324347</td></tr>\n",
       "\t<tr><td> 4.41421947 </td><td> 0.464601060</td><td> 1.09417657 </td><td> 0.52105379 </td><td> 0.10277359 </td><td> 0.17200045 </td><td> 0.614152334</td><td> 0.080689376</td><td>-0.17301154 </td><td>-0.006964087</td></tr>\n",
       "\t<tr><td> 2.48289281 </td><td> 0.103745770</td><td> 0.29499044 </td><td> 1.36955807 </td><td>-0.40013529 </td><td>-0.12683540 </td><td> 0.305010070</td><td> 0.068414564</td><td>-0.34253854 </td><td>-0.154116390</td></tr>\n",
       "\t<tr><td>-4.30604302 </td><td>-0.236643202</td><td> 0.35275315 </td><td>-1.15583587 </td><td>-0.53737634 </td><td>-0.74249087 </td><td> 0.067466439</td><td> 0.356927374</td><td> 0.15592494 </td><td> 0.040914219</td></tr>\n",
       "\t<tr><td> 0.56899636 </td><td> 1.057681693</td><td> 0.33647065 </td><td>-0.45560880 </td><td> 0.22363937 </td><td>-0.09954350 </td><td> 0.186936045</td><td>-0.120048084</td><td>-0.02804701 </td><td>-0.068488395</td></tr>\n",
       "\t<tr><td> 1.90603464 </td><td> 0.543595889</td><td>-1.35613205 </td><td> 0.24450982 </td><td>-0.13950129 </td><td> 0.09050741 </td><td> 0.279176158</td><td> 0.051247974</td><td> 0.09560077 </td><td> 0.136151011</td></tr>\n",
       "\t<tr><td> 3.31578131 </td><td>-1.990754877</td><td> 0.42801457 </td><td> 1.62759061 </td><td>-1.04779402 </td><td> 0.15310686 </td><td>-0.042941318</td><td> 0.038789609</td><td>-0.28418822 </td><td> 0.182924821</td></tr>\n",
       "\t<tr><td> 0.17553511 </td><td> 0.036499968</td><td> 0.07387654 </td><td> 0.77246106 </td><td> 0.09487544 </td><td> 0.44407738 </td><td>-0.140251014</td><td> 0.393810944</td><td> 0.23964342 </td><td> 0.474173332</td></tr>\n",
       "\t<tr><td>-3.90086126 </td><td>-0.966633053</td><td> 0.79710027 </td><td> 0.43931857 </td><td> 0.17921473 </td><td>-0.01561107 </td><td> 0.215872413</td><td>-0.301751727</td><td>-0.14768683 </td><td>-0.313375865</td></tr>\n",
       "\t<tr><td>-0.17577399 </td><td>-0.076853150</td><td> 0.90698655 </td><td>-1.48124845 </td><td>-0.06523900 </td><td> 0.95537402 </td><td>-0.055473949</td><td> 0.100085456</td><td> 0.21725604 </td><td>-0.077420520</td></tr>\n",
       "\t<tr><td>-0.19592227 </td><td>-0.289819716</td><td>-0.44219049 </td><td> 0.03000711 </td><td> 0.47448787 </td><td>-0.63856706 </td><td>-0.058452860</td><td>-0.077661200</td><td>-0.35899521 </td><td>-0.256248111</td></tr>\n",
       "\t<tr><td>-0.31287983 </td><td>-2.243804338</td><td>-0.20779313 </td><td> 0.37993806 </td><td>-0.72795885 </td><td> 0.36816155 </td><td> 0.204752445</td><td>-0.111914372</td><td> 0.09530196 </td><td> 0.186343197</td></tr>\n",
       "\t<tr><td>-1.54979971 </td><td> 1.103621025</td><td>-0.74608441 </td><td>-0.06858995 </td><td> 0.99733489 </td><td>-0.65865770 </td><td>-0.479217491</td><td> 0.091949085</td><td> 0.17235100 </td><td> 0.041062331</td></tr>\n",
       "\t<tr><td> 0.96426232 </td><td> 1.149121339</td><td> 0.96614720 </td><td>-0.04927254 </td><td> 0.04621417 </td><td>-0.14123893 </td><td> 0.673830183</td><td> 0.354814332</td><td>-0.68506665 </td><td> 0.107915109</td></tr>\n",
       "\t<tr><td> 0.53748570 </td><td>-0.388223764</td><td> 0.67487025 </td><td>-0.16102978 </td><td> 0.55513148 </td><td>-0.44275091 </td><td>-0.530497197</td><td>-0.218139628</td><td>-0.16011374 </td><td>-0.024110600</td></tr>\n",
       "\t<tr><td> 2.17487153 </td><td> 0.068155581</td><td> 0.79274638 </td><td> 1.04064403 </td><td>-0.37880005 </td><td> 0.05611197 </td><td> 0.477828658</td><td> 0.603949034</td><td>-0.87098725 </td><td>-0.134039427</td></tr>\n",
       "\t<tr><td>-1.70767804 </td><td> 1.681185017</td><td> 1.69610791 </td><td>-0.79669131 </td><td>-0.07634336 </td><td> 0.83789679 </td><td>-1.331722241</td><td>-0.581958009</td><td>-0.69556496 </td><td> 0.217868218</td></tr>\n",
       "\t<tr><td>-0.88374601 </td><td>-0.730102652</td><td> 0.08623594 </td><td> 0.33949093 </td><td>-0.43350042 </td><td> 0.35347700 </td><td>-0.231175100</td><td> 0.620378684</td><td>-0.08539706 </td><td>-0.490153776</td></tr>\n",
       "\t<tr><td>-0.67198468 </td><td> 0.221191756</td><td>-0.65314220 </td><td> 0.45723439 </td><td> 0.11380289 </td><td>-0.50189945 </td><td>-0.363266734</td><td> 0.504060924</td><td> 0.05150610 </td><td> 0.331355979</td></tr>\n",
       "\t<tr><td>-1.55157915 </td><td>-0.422066757</td><td>-1.39878900 </td><td>-0.29302031 </td><td> 0.75894920 </td><td>-0.13032611 </td><td> 0.384666747</td><td> 0.153842904</td><td>-0.26287731 </td><td> 0.266036495</td></tr>\n",
       "\t<tr><td> 0.33662214 </td><td> 0.001485145</td><td>-0.08523232 </td><td> 0.29542112 </td><td>-0.10688349 </td><td>-0.40062163 </td><td> 0.007682895</td><td>-0.005793971</td><td> 0.14067530 </td><td> 0.009685167</td></tr>\n",
       "\t<tr><td>-0.08282229 </td><td> 0.402246210</td><td>-0.41334199 </td><td> 0.34059777 </td><td> 0.27253892 </td><td>-0.25136514 </td><td> 0.069057677</td><td>-0.240219694</td><td> 0.04372120 </td><td> 0.241910667</td></tr>\n",
       "\t<tr><td>-0.02845022 </td><td>-0.305665725</td><td>-0.56645804 </td><td> 0.77984713 </td><td> 0.18254563 </td><td>-0.46930019 </td><td> 0.821500819</td><td> 0.025807728</td><td>-0.20075549 </td><td> 0.161773736</td></tr>\n",
       "\t<tr><td> 0.34985715 </td><td> 0.753874531</td><td>-0.26650532 </td><td>-1.15345927 </td><td> 0.89395323 </td><td> 0.79103834 </td><td>-0.138221826</td><td> 0.631272813</td><td>-0.07863540 </td><td>-0.107258420</td></tr>\n",
       "\t<tr><td>-0.58339916 </td><td>-0.567470741</td><td> 0.40126016 </td><td> 0.19420545 </td><td>-0.08956849 </td><td>-0.45732101 </td><td>-0.850382365</td><td> 0.161387850</td><td>-0.36637826 </td><td> 0.163082501</td></tr>\n",
       "\t<tr><td> 0.82145843 </td><td>-0.103431071</td><td>-0.48189829 </td><td> 0.29651962 </td><td> 1.20915749 </td><td>-0.35815708 </td><td>-0.177753782</td><td> 0.327232833</td><td>-0.28074540 </td><td> 0.143245835</td></tr>\n",
       "\t<tr><td>-0.79684145 </td><td> 0.762398649</td><td> 1.49380793 </td><td>-1.08272761 </td><td> 0.26082308 </td><td> 0.47615520 </td><td> 0.516484042</td><td>-0.482703072</td><td>-0.01717059 </td><td>-0.011263563</td></tr>\n",
       "\t<tr><td>-0.12613791 </td><td> 0.048037239</td><td> 0.42504352 </td><td> 0.87560675 </td><td> 1.08065554 </td><td>-0.57951325 </td><td> 1.132243507</td><td>-0.566793304</td><td>-0.72932471 </td><td> 0.283059180</td></tr>\n",
       "\t<tr><td>-1.74964554 </td><td>-0.186546303</td><td>-0.50261463 </td><td> 0.01310579 </td><td>-0.85049016 </td><td> 0.37685279 </td><td> 0.176088596</td><td>-1.107540378</td><td>-0.14023868 </td><td> 0.278109529</td></tr>\n",
       "\t<tr><td>-0.25826131 </td><td> 0.918032006</td><td> 0.61471225 </td><td>-0.71861858 </td><td>-1.45235709 </td><td>-0.09953197 </td><td>-0.093750207</td><td>-0.115683636</td><td> 0.12841532 </td><td> 0.145959823</td></tr>\n",
       "</tbody>\n",
       "</table>\n"
      ],
      "text/latex": [
       "\\begin{tabular}{llllllllll}\n",
       " PC1 & PC2 & PC3 & PC4 & PC5 & PC6 & PC7 & PC8 & PC9 & PC10\\\\\n",
       "\\hline\n",
       "\t -0.8365665   &  0.3497236   & -0.57935919  & -0.06359585  & -0.003827467 & -0.062726183 & -0.296607618 & -0.18182872  &  0.269344986 &  0.297989991\\\\\n",
       "\t  1.2564382   & -0.7131513   &  0.38654514  &  0.91447015  &  0.663759205 &  0.524486673 & -0.016489844 & -0.19211477  & -0.032261144 &  0.428763935\\\\\n",
       "\t -0.5398639   & -1.2053200   &  0.63229758  &  0.07083948  & -0.324761481 &  0.072787433 &  0.148981566 & -0.11438213  & -0.029557753 & -0.033825074\\\\\n",
       "\t -2.2021228   & -0.5380630   & -0.24682857  & -0.64317632  &  0.586482638 & -0.009302481 &  0.238433369 &  0.22418184  &  0.240485929 & -0.208642167\\\\\n",
       "\t -1.8079573   & -0.1216161   &  0.77019991  & -0.16652815  & -0.739439649 & -0.200920018 & -0.317826449 &  0.09004301  & -0.005570191 &  0.089338707\\\\\n",
       "\t  1.5019218   &  1.0024809   &  0.97482018  &  0.02282710  & -0.264443879 & -0.410836850 &  0.316525988 &  0.34241766  &  0.307496114 & -0.131582834\\\\\n",
       "\t  2.8642765   &  0.4080763   &  1.10508644  & -0.17535945  &  0.198871231 & -0.546872833 & -0.174564699 &  0.49414653  & -0.010131406 &  0.602207988\\\\\n",
       "\t -0.1892161   & -0.3462778   & -0.37965948  & -0.15633842  &  0.239432609 & -0.215734423 &  0.354483903 & -0.12456483  & -0.244442602 & -0.005789456\\\\\n",
       "\t -1.5896198   & -0.9177503   &  0.54575421  & -0.65574701  &  0.148341418 & -0.146282248 &  0.426701902 &  0.62783508  & -0.101687761 &  0.123529239\\\\\n",
       "\t -0.7735960   & -1.2603372   &  0.04533917  &  0.46451532  &  1.005442368 & -0.629738126 &  0.738537016 & -0.18508336  & -0.270347161 & -0.260362202\\\\\n",
       "\t  2.8767515   & -0.6780489   & -0.59015140  & -0.51520191  & -0.011372472 &  0.626168824 &  0.903876362 &  0.32522533  &  0.329342233 &  0.309764887\\\\\n",
       "\t  0.9396083   & -0.6480942   &  1.82507103  &  0.01721209  & -0.099146491 & -0.487958233 &  0.139959784 &  0.09126537  &  0.044998256 &  0.079065493\\\\\n",
       "\t  4.4715904   &  1.6032706   & -0.33991396  &  0.05672642  & -0.196601128 &  1.436376315 &  0.023818274 & -0.72892434  & -0.204950520 & -0.032380615\\\\\n",
       "\t  2.1155057   & -0.5082316   &  1.30024804  & -1.27955908  & -0.269205125 & -0.183536200 &  0.701605046 &  0.39863022  &  0.818043627 &  0.387731123\\\\\n",
       "\t  0.7213319   & -0.1871258   & -0.27504654  &  0.56276266  & -0.364715558 & -0.247307169 &  0.238127697 & -0.35351389  & -0.163848855 &  0.310282036\\\\\n",
       "\t -2.2466853   & -0.6416867   &  1.55492276  &  0.38749266  &  0.696774907 & -0.273038680 & -0.584089423 & -1.05656121  & -0.221154167 &  0.011374980\\\\\n",
       "\t -1.2710544   & -0.9757833   &  0.23922435  &  0.14529183  & -0.347534143 & -0.781012180 & -0.002406675 &  0.24176879  &  0.488684806 &  0.053986733\\\\\n",
       "\t  5.7458930   & -1.6566282   &  1.13781837  & -1.34254800  &  0.879851864 & -0.164275424 &  0.196457418 & -0.66018746  &  0.263031154 &  0.058645267\\\\\n",
       "\t  0.9684065   &  2.2772944   & -2.81270377  & -0.60701861  &  0.166537473 &  0.255340748 &  0.223895673 &  0.76857773  & -0.200041359 &  0.226297756\\\\\n",
       "\t -0.8286472   &  0.4784535   & -0.41378703  &  0.13999802  & -0.570826944 & -0.225841807 & -0.280078668 & -0.62301929  &  0.351741967 &  0.041648365\\\\\n",
       "\t  6.5043524   &  1.9730767   & -0.67735813  & -0.34916192  & -0.569218818 &  0.757345209 &  1.067025551 &  0.22052044  &  0.058776032 & -0.771141171\\\\\n",
       "\t 11.5573377   &  0.1399086   & -0.12488855  & -0.60408996  & -0.068449175 & -0.170241884 & -0.275619917 &  0.08971249  & -0.362264407 &  0.027209125\\\\\n",
       "\t  4.9151213   & -1.5009853   &  1.44686551  &  0.27636761  & -0.202649854 &  0.517140984 & -1.113887412 & -0.08459584  &  0.418605815 &  0.051500404\\\\\n",
       "\t -0.7448442   &  0.9197815   & -1.26555436  & -0.70905076  &  0.024878039 & -0.233813856 & -0.701047198 & -0.46994139  &  0.326746152 &  0.127348094\\\\\n",
       "\t  5.0884339   & -1.3496087   &  0.14140112  & -0.46074446  &  0.899065009 & -1.150992109 &  0.685110437 & -0.03433863  &  1.073073595 & -0.237983797\\\\\n",
       "\t  6.7193445   &  2.0564517   &  0.16162733  &  0.46385937  & -0.821906163 & -1.306492925 & -0.239914989 & -0.83293442  &  0.370579438 & -0.316524404\\\\\n",
       "\t -4.8386643   &  0.8878154   & -0.79377826  &  0.15266841  & -0.105428300 & -0.225723681 &  0.066812092 & -0.34524154  & -0.476799854 & -0.306172957\\\\\n",
       "\t -6.4576418   &  2.8414289   &  1.63766906  &  2.58245020  &  0.469018406 &  0.747571690 & -0.063120755 &  0.81449346  &  0.708386395 & -0.005739524\\\\\n",
       "\t -2.2779941   & -1.4358581   &  0.17995492  & -1.46162371  & -0.144226258 &  0.336179424 &  0.909587934 &  0.80374300  & -0.838132299 & -0.064135129\\\\\n",
       "\t -0.1016918   & -0.6818988   & -0.90498527  &  0.59161722  &  0.928265971 & -0.504708294 & -0.567038505 &  0.31223804  &  0.286520201 & -0.463807986\\\\\n",
       "\t ... & ... & ... & ... & ... & ... & ... & ... & ... & ...\\\\\n",
       "\t -0.47463678  & -0.190250015 & -2.24403450  &  0.62353673  & -0.31886206  & -0.10647508  &  0.217451165 & -0.295970952 & -0.30431689  & -0.278324347\\\\\n",
       "\t  4.41421947  &  0.464601060 &  1.09417657  &  0.52105379  &  0.10277359  &  0.17200045  &  0.614152334 &  0.080689376 & -0.17301154  & -0.006964087\\\\\n",
       "\t  2.48289281  &  0.103745770 &  0.29499044  &  1.36955807  & -0.40013529  & -0.12683540  &  0.305010070 &  0.068414564 & -0.34253854  & -0.154116390\\\\\n",
       "\t -4.30604302  & -0.236643202 &  0.35275315  & -1.15583587  & -0.53737634  & -0.74249087  &  0.067466439 &  0.356927374 &  0.15592494  &  0.040914219\\\\\n",
       "\t  0.56899636  &  1.057681693 &  0.33647065  & -0.45560880  &  0.22363937  & -0.09954350  &  0.186936045 & -0.120048084 & -0.02804701  & -0.068488395\\\\\n",
       "\t  1.90603464  &  0.543595889 & -1.35613205  &  0.24450982  & -0.13950129  &  0.09050741  &  0.279176158 &  0.051247974 &  0.09560077  &  0.136151011\\\\\n",
       "\t  3.31578131  & -1.990754877 &  0.42801457  &  1.62759061  & -1.04779402  &  0.15310686  & -0.042941318 &  0.038789609 & -0.28418822  &  0.182924821\\\\\n",
       "\t  0.17553511  &  0.036499968 &  0.07387654  &  0.77246106  &  0.09487544  &  0.44407738  & -0.140251014 &  0.393810944 &  0.23964342  &  0.474173332\\\\\n",
       "\t -3.90086126  & -0.966633053 &  0.79710027  &  0.43931857  &  0.17921473  & -0.01561107  &  0.215872413 & -0.301751727 & -0.14768683  & -0.313375865\\\\\n",
       "\t -0.17577399  & -0.076853150 &  0.90698655  & -1.48124845  & -0.06523900  &  0.95537402  & -0.055473949 &  0.100085456 &  0.21725604  & -0.077420520\\\\\n",
       "\t -0.19592227  & -0.289819716 & -0.44219049  &  0.03000711  &  0.47448787  & -0.63856706  & -0.058452860 & -0.077661200 & -0.35899521  & -0.256248111\\\\\n",
       "\t -0.31287983  & -2.243804338 & -0.20779313  &  0.37993806  & -0.72795885  &  0.36816155  &  0.204752445 & -0.111914372 &  0.09530196  &  0.186343197\\\\\n",
       "\t -1.54979971  &  1.103621025 & -0.74608441  & -0.06858995  &  0.99733489  & -0.65865770  & -0.479217491 &  0.091949085 &  0.17235100  &  0.041062331\\\\\n",
       "\t  0.96426232  &  1.149121339 &  0.96614720  & -0.04927254  &  0.04621417  & -0.14123893  &  0.673830183 &  0.354814332 & -0.68506665  &  0.107915109\\\\\n",
       "\t  0.53748570  & -0.388223764 &  0.67487025  & -0.16102978  &  0.55513148  & -0.44275091  & -0.530497197 & -0.218139628 & -0.16011374  & -0.024110600\\\\\n",
       "\t  2.17487153  &  0.068155581 &  0.79274638  &  1.04064403  & -0.37880005  &  0.05611197  &  0.477828658 &  0.603949034 & -0.87098725  & -0.134039427\\\\\n",
       "\t -1.70767804  &  1.681185017 &  1.69610791  & -0.79669131  & -0.07634336  &  0.83789679  & -1.331722241 & -0.581958009 & -0.69556496  &  0.217868218\\\\\n",
       "\t -0.88374601  & -0.730102652 &  0.08623594  &  0.33949093  & -0.43350042  &  0.35347700  & -0.231175100 &  0.620378684 & -0.08539706  & -0.490153776\\\\\n",
       "\t -0.67198468  &  0.221191756 & -0.65314220  &  0.45723439  &  0.11380289  & -0.50189945  & -0.363266734 &  0.504060924 &  0.05150610  &  0.331355979\\\\\n",
       "\t -1.55157915  & -0.422066757 & -1.39878900  & -0.29302031  &  0.75894920  & -0.13032611  &  0.384666747 &  0.153842904 & -0.26287731  &  0.266036495\\\\\n",
       "\t  0.33662214  &  0.001485145 & -0.08523232  &  0.29542112  & -0.10688349  & -0.40062163  &  0.007682895 & -0.005793971 &  0.14067530  &  0.009685167\\\\\n",
       "\t -0.08282229  &  0.402246210 & -0.41334199  &  0.34059777  &  0.27253892  & -0.25136514  &  0.069057677 & -0.240219694 &  0.04372120  &  0.241910667\\\\\n",
       "\t -0.02845022  & -0.305665725 & -0.56645804  &  0.77984713  &  0.18254563  & -0.46930019  &  0.821500819 &  0.025807728 & -0.20075549  &  0.161773736\\\\\n",
       "\t  0.34985715  &  0.753874531 & -0.26650532  & -1.15345927  &  0.89395323  &  0.79103834  & -0.138221826 &  0.631272813 & -0.07863540  & -0.107258420\\\\\n",
       "\t -0.58339916  & -0.567470741 &  0.40126016  &  0.19420545  & -0.08956849  & -0.45732101  & -0.850382365 &  0.161387850 & -0.36637826  &  0.163082501\\\\\n",
       "\t  0.82145843  & -0.103431071 & -0.48189829  &  0.29651962  &  1.20915749  & -0.35815708  & -0.177753782 &  0.327232833 & -0.28074540  &  0.143245835\\\\\n",
       "\t -0.79684145  &  0.762398649 &  1.49380793  & -1.08272761  &  0.26082308  &  0.47615520  &  0.516484042 & -0.482703072 & -0.01717059  & -0.011263563\\\\\n",
       "\t -0.12613791  &  0.048037239 &  0.42504352  &  0.87560675  &  1.08065554  & -0.57951325  &  1.132243507 & -0.566793304 & -0.72932471  &  0.283059180\\\\\n",
       "\t -1.74964554  & -0.186546303 & -0.50261463  &  0.01310579  & -0.85049016  &  0.37685279  &  0.176088596 & -1.107540378 & -0.14023868  &  0.278109529\\\\\n",
       "\t -0.25826131  &  0.918032006 &  0.61471225  & -0.71861858  & -1.45235709  & -0.09953197  & -0.093750207 & -0.115683636 &  0.12841532  &  0.145959823\\\\\n",
       "\\end{tabular}\n"
      ],
      "text/markdown": [
       "\n",
       "| PC1 | PC2 | PC3 | PC4 | PC5 | PC6 | PC7 | PC8 | PC9 | PC10 |\n",
       "|---|---|---|---|---|---|---|---|---|---|\n",
       "| -0.8365665   |  0.3497236   | -0.57935919  | -0.06359585  | -0.003827467 | -0.062726183 | -0.296607618 | -0.18182872  |  0.269344986 |  0.297989991 |\n",
       "|  1.2564382   | -0.7131513   |  0.38654514  |  0.91447015  |  0.663759205 |  0.524486673 | -0.016489844 | -0.19211477  | -0.032261144 |  0.428763935 |\n",
       "| -0.5398639   | -1.2053200   |  0.63229758  |  0.07083948  | -0.324761481 |  0.072787433 |  0.148981566 | -0.11438213  | -0.029557753 | -0.033825074 |\n",
       "| -2.2021228   | -0.5380630   | -0.24682857  | -0.64317632  |  0.586482638 | -0.009302481 |  0.238433369 |  0.22418184  |  0.240485929 | -0.208642167 |\n",
       "| -1.8079573   | -0.1216161   |  0.77019991  | -0.16652815  | -0.739439649 | -0.200920018 | -0.317826449 |  0.09004301  | -0.005570191 |  0.089338707 |\n",
       "|  1.5019218   |  1.0024809   |  0.97482018  |  0.02282710  | -0.264443879 | -0.410836850 |  0.316525988 |  0.34241766  |  0.307496114 | -0.131582834 |\n",
       "|  2.8642765   |  0.4080763   |  1.10508644  | -0.17535945  |  0.198871231 | -0.546872833 | -0.174564699 |  0.49414653  | -0.010131406 |  0.602207988 |\n",
       "| -0.1892161   | -0.3462778   | -0.37965948  | -0.15633842  |  0.239432609 | -0.215734423 |  0.354483903 | -0.12456483  | -0.244442602 | -0.005789456 |\n",
       "| -1.5896198   | -0.9177503   |  0.54575421  | -0.65574701  |  0.148341418 | -0.146282248 |  0.426701902 |  0.62783508  | -0.101687761 |  0.123529239 |\n",
       "| -0.7735960   | -1.2603372   |  0.04533917  |  0.46451532  |  1.005442368 | -0.629738126 |  0.738537016 | -0.18508336  | -0.270347161 | -0.260362202 |\n",
       "|  2.8767515   | -0.6780489   | -0.59015140  | -0.51520191  | -0.011372472 |  0.626168824 |  0.903876362 |  0.32522533  |  0.329342233 |  0.309764887 |\n",
       "|  0.9396083   | -0.6480942   |  1.82507103  |  0.01721209  | -0.099146491 | -0.487958233 |  0.139959784 |  0.09126537  |  0.044998256 |  0.079065493 |\n",
       "|  4.4715904   |  1.6032706   | -0.33991396  |  0.05672642  | -0.196601128 |  1.436376315 |  0.023818274 | -0.72892434  | -0.204950520 | -0.032380615 |\n",
       "|  2.1155057   | -0.5082316   |  1.30024804  | -1.27955908  | -0.269205125 | -0.183536200 |  0.701605046 |  0.39863022  |  0.818043627 |  0.387731123 |\n",
       "|  0.7213319   | -0.1871258   | -0.27504654  |  0.56276266  | -0.364715558 | -0.247307169 |  0.238127697 | -0.35351389  | -0.163848855 |  0.310282036 |\n",
       "| -2.2466853   | -0.6416867   |  1.55492276  |  0.38749266  |  0.696774907 | -0.273038680 | -0.584089423 | -1.05656121  | -0.221154167 |  0.011374980 |\n",
       "| -1.2710544   | -0.9757833   |  0.23922435  |  0.14529183  | -0.347534143 | -0.781012180 | -0.002406675 |  0.24176879  |  0.488684806 |  0.053986733 |\n",
       "|  5.7458930   | -1.6566282   |  1.13781837  | -1.34254800  |  0.879851864 | -0.164275424 |  0.196457418 | -0.66018746  |  0.263031154 |  0.058645267 |\n",
       "|  0.9684065   |  2.2772944   | -2.81270377  | -0.60701861  |  0.166537473 |  0.255340748 |  0.223895673 |  0.76857773  | -0.200041359 |  0.226297756 |\n",
       "| -0.8286472   |  0.4784535   | -0.41378703  |  0.13999802  | -0.570826944 | -0.225841807 | -0.280078668 | -0.62301929  |  0.351741967 |  0.041648365 |\n",
       "|  6.5043524   |  1.9730767   | -0.67735813  | -0.34916192  | -0.569218818 |  0.757345209 |  1.067025551 |  0.22052044  |  0.058776032 | -0.771141171 |\n",
       "| 11.5573377   |  0.1399086   | -0.12488855  | -0.60408996  | -0.068449175 | -0.170241884 | -0.275619917 |  0.08971249  | -0.362264407 |  0.027209125 |\n",
       "|  4.9151213   | -1.5009853   |  1.44686551  |  0.27636761  | -0.202649854 |  0.517140984 | -1.113887412 | -0.08459584  |  0.418605815 |  0.051500404 |\n",
       "| -0.7448442   |  0.9197815   | -1.26555436  | -0.70905076  |  0.024878039 | -0.233813856 | -0.701047198 | -0.46994139  |  0.326746152 |  0.127348094 |\n",
       "|  5.0884339   | -1.3496087   |  0.14140112  | -0.46074446  |  0.899065009 | -1.150992109 |  0.685110437 | -0.03433863  |  1.073073595 | -0.237983797 |\n",
       "|  6.7193445   |  2.0564517   |  0.16162733  |  0.46385937  | -0.821906163 | -1.306492925 | -0.239914989 | -0.83293442  |  0.370579438 | -0.316524404 |\n",
       "| -4.8386643   |  0.8878154   | -0.79377826  |  0.15266841  | -0.105428300 | -0.225723681 |  0.066812092 | -0.34524154  | -0.476799854 | -0.306172957 |\n",
       "| -6.4576418   |  2.8414289   |  1.63766906  |  2.58245020  |  0.469018406 |  0.747571690 | -0.063120755 |  0.81449346  |  0.708386395 | -0.005739524 |\n",
       "| -2.2779941   | -1.4358581   |  0.17995492  | -1.46162371  | -0.144226258 |  0.336179424 |  0.909587934 |  0.80374300  | -0.838132299 | -0.064135129 |\n",
       "| -0.1016918   | -0.6818988   | -0.90498527  |  0.59161722  |  0.928265971 | -0.504708294 | -0.567038505 |  0.31223804  |  0.286520201 | -0.463807986 |\n",
       "| ... | ... | ... | ... | ... | ... | ... | ... | ... | ... |\n",
       "| -0.47463678  | -0.190250015 | -2.24403450  |  0.62353673  | -0.31886206  | -0.10647508  |  0.217451165 | -0.295970952 | -0.30431689  | -0.278324347 |\n",
       "|  4.41421947  |  0.464601060 |  1.09417657  |  0.52105379  |  0.10277359  |  0.17200045  |  0.614152334 |  0.080689376 | -0.17301154  | -0.006964087 |\n",
       "|  2.48289281  |  0.103745770 |  0.29499044  |  1.36955807  | -0.40013529  | -0.12683540  |  0.305010070 |  0.068414564 | -0.34253854  | -0.154116390 |\n",
       "| -4.30604302  | -0.236643202 |  0.35275315  | -1.15583587  | -0.53737634  | -0.74249087  |  0.067466439 |  0.356927374 |  0.15592494  |  0.040914219 |\n",
       "|  0.56899636  |  1.057681693 |  0.33647065  | -0.45560880  |  0.22363937  | -0.09954350  |  0.186936045 | -0.120048084 | -0.02804701  | -0.068488395 |\n",
       "|  1.90603464  |  0.543595889 | -1.35613205  |  0.24450982  | -0.13950129  |  0.09050741  |  0.279176158 |  0.051247974 |  0.09560077  |  0.136151011 |\n",
       "|  3.31578131  | -1.990754877 |  0.42801457  |  1.62759061  | -1.04779402  |  0.15310686  | -0.042941318 |  0.038789609 | -0.28418822  |  0.182924821 |\n",
       "|  0.17553511  |  0.036499968 |  0.07387654  |  0.77246106  |  0.09487544  |  0.44407738  | -0.140251014 |  0.393810944 |  0.23964342  |  0.474173332 |\n",
       "| -3.90086126  | -0.966633053 |  0.79710027  |  0.43931857  |  0.17921473  | -0.01561107  |  0.215872413 | -0.301751727 | -0.14768683  | -0.313375865 |\n",
       "| -0.17577399  | -0.076853150 |  0.90698655  | -1.48124845  | -0.06523900  |  0.95537402  | -0.055473949 |  0.100085456 |  0.21725604  | -0.077420520 |\n",
       "| -0.19592227  | -0.289819716 | -0.44219049  |  0.03000711  |  0.47448787  | -0.63856706  | -0.058452860 | -0.077661200 | -0.35899521  | -0.256248111 |\n",
       "| -0.31287983  | -2.243804338 | -0.20779313  |  0.37993806  | -0.72795885  |  0.36816155  |  0.204752445 | -0.111914372 |  0.09530196  |  0.186343197 |\n",
       "| -1.54979971  |  1.103621025 | -0.74608441  | -0.06858995  |  0.99733489  | -0.65865770  | -0.479217491 |  0.091949085 |  0.17235100  |  0.041062331 |\n",
       "|  0.96426232  |  1.149121339 |  0.96614720  | -0.04927254  |  0.04621417  | -0.14123893  |  0.673830183 |  0.354814332 | -0.68506665  |  0.107915109 |\n",
       "|  0.53748570  | -0.388223764 |  0.67487025  | -0.16102978  |  0.55513148  | -0.44275091  | -0.530497197 | -0.218139628 | -0.16011374  | -0.024110600 |\n",
       "|  2.17487153  |  0.068155581 |  0.79274638  |  1.04064403  | -0.37880005  |  0.05611197  |  0.477828658 |  0.603949034 | -0.87098725  | -0.134039427 |\n",
       "| -1.70767804  |  1.681185017 |  1.69610791  | -0.79669131  | -0.07634336  |  0.83789679  | -1.331722241 | -0.581958009 | -0.69556496  |  0.217868218 |\n",
       "| -0.88374601  | -0.730102652 |  0.08623594  |  0.33949093  | -0.43350042  |  0.35347700  | -0.231175100 |  0.620378684 | -0.08539706  | -0.490153776 |\n",
       "| -0.67198468  |  0.221191756 | -0.65314220  |  0.45723439  |  0.11380289  | -0.50189945  | -0.363266734 |  0.504060924 |  0.05150610  |  0.331355979 |\n",
       "| -1.55157915  | -0.422066757 | -1.39878900  | -0.29302031  |  0.75894920  | -0.13032611  |  0.384666747 |  0.153842904 | -0.26287731  |  0.266036495 |\n",
       "|  0.33662214  |  0.001485145 | -0.08523232  |  0.29542112  | -0.10688349  | -0.40062163  |  0.007682895 | -0.005793971 |  0.14067530  |  0.009685167 |\n",
       "| -0.08282229  |  0.402246210 | -0.41334199  |  0.34059777  |  0.27253892  | -0.25136514  |  0.069057677 | -0.240219694 |  0.04372120  |  0.241910667 |\n",
       "| -0.02845022  | -0.305665725 | -0.56645804  |  0.77984713  |  0.18254563  | -0.46930019  |  0.821500819 |  0.025807728 | -0.20075549  |  0.161773736 |\n",
       "|  0.34985715  |  0.753874531 | -0.26650532  | -1.15345927  |  0.89395323  |  0.79103834  | -0.138221826 |  0.631272813 | -0.07863540  | -0.107258420 |\n",
       "| -0.58339916  | -0.567470741 |  0.40126016  |  0.19420545  | -0.08956849  | -0.45732101  | -0.850382365 |  0.161387850 | -0.36637826  |  0.163082501 |\n",
       "|  0.82145843  | -0.103431071 | -0.48189829  |  0.29651962  |  1.20915749  | -0.35815708  | -0.177753782 |  0.327232833 | -0.28074540  |  0.143245835 |\n",
       "| -0.79684145  |  0.762398649 |  1.49380793  | -1.08272761  |  0.26082308  |  0.47615520  |  0.516484042 | -0.482703072 | -0.01717059  | -0.011263563 |\n",
       "| -0.12613791  |  0.048037239 |  0.42504352  |  0.87560675  |  1.08065554  | -0.57951325  |  1.132243507 | -0.566793304 | -0.72932471  |  0.283059180 |\n",
       "| -1.74964554  | -0.186546303 | -0.50261463  |  0.01310579  | -0.85049016  |  0.37685279  |  0.176088596 | -1.107540378 | -0.14023868  |  0.278109529 |\n",
       "| -0.25826131  |  0.918032006 |  0.61471225  | -0.71861858  | -1.45235709  | -0.09953197  | -0.093750207 | -0.115683636 |  0.12841532  |  0.145959823 |\n",
       "\n"
      ],
      "text/plain": [
       "      PC1         PC2          PC3         PC4         PC5         \n",
       " [1,] -0.8365665   0.3497236   -0.57935919 -0.06359585 -0.003827467\n",
       " [2,]  1.2564382  -0.7131513    0.38654514  0.91447015  0.663759205\n",
       " [3,] -0.5398639  -1.2053200    0.63229758  0.07083948 -0.324761481\n",
       " [4,] -2.2021228  -0.5380630   -0.24682857 -0.64317632  0.586482638\n",
       " [5,] -1.8079573  -0.1216161    0.77019991 -0.16652815 -0.739439649\n",
       " [6,]  1.5019218   1.0024809    0.97482018  0.02282710 -0.264443879\n",
       " [7,]  2.8642765   0.4080763    1.10508644 -0.17535945  0.198871231\n",
       " [8,] -0.1892161  -0.3462778   -0.37965948 -0.15633842  0.239432609\n",
       " [9,] -1.5896198  -0.9177503    0.54575421 -0.65574701  0.148341418\n",
       "[10,] -0.7735960  -1.2603372    0.04533917  0.46451532  1.005442368\n",
       "[11,]  2.8767515  -0.6780489   -0.59015140 -0.51520191 -0.011372472\n",
       "[12,]  0.9396083  -0.6480942    1.82507103  0.01721209 -0.099146491\n",
       "[13,]  4.4715904   1.6032706   -0.33991396  0.05672642 -0.196601128\n",
       "[14,]  2.1155057  -0.5082316    1.30024804 -1.27955908 -0.269205125\n",
       "[15,]  0.7213319  -0.1871258   -0.27504654  0.56276266 -0.364715558\n",
       "[16,] -2.2466853  -0.6416867    1.55492276  0.38749266  0.696774907\n",
       "[17,] -1.2710544  -0.9757833    0.23922435  0.14529183 -0.347534143\n",
       "[18,]  5.7458930  -1.6566282    1.13781837 -1.34254800  0.879851864\n",
       "[19,]  0.9684065   2.2772944   -2.81270377 -0.60701861  0.166537473\n",
       "[20,] -0.8286472   0.4784535   -0.41378703  0.13999802 -0.570826944\n",
       "[21,]  6.5043524   1.9730767   -0.67735813 -0.34916192 -0.569218818\n",
       "[22,] 11.5573377   0.1399086   -0.12488855 -0.60408996 -0.068449175\n",
       "[23,]  4.9151213  -1.5009853    1.44686551  0.27636761 -0.202649854\n",
       "[24,] -0.7448442   0.9197815   -1.26555436 -0.70905076  0.024878039\n",
       "[25,]  5.0884339  -1.3496087    0.14140112 -0.46074446  0.899065009\n",
       "[26,]  6.7193445   2.0564517    0.16162733  0.46385937 -0.821906163\n",
       "[27,] -4.8386643   0.8878154   -0.79377826  0.15266841 -0.105428300\n",
       "[28,] -6.4576418   2.8414289    1.63766906  2.58245020  0.469018406\n",
       "[29,] -2.2779941  -1.4358581    0.17995492 -1.46162371 -0.144226258\n",
       "[30,] -0.1016918  -0.6818988   -0.90498527  0.59161722  0.928265971\n",
       "[31,] ...         ...          ...         ...         ...         \n",
       "[32,] -0.47463678 -0.190250015 -2.24403450  0.62353673 -0.31886206 \n",
       "[33,]  4.41421947  0.464601060  1.09417657  0.52105379  0.10277359 \n",
       "[34,]  2.48289281  0.103745770  0.29499044  1.36955807 -0.40013529 \n",
       "[35,] -4.30604302 -0.236643202  0.35275315 -1.15583587 -0.53737634 \n",
       "[36,]  0.56899636  1.057681693  0.33647065 -0.45560880  0.22363937 \n",
       "[37,]  1.90603464  0.543595889 -1.35613205  0.24450982 -0.13950129 \n",
       "[38,]  3.31578131 -1.990754877  0.42801457  1.62759061 -1.04779402 \n",
       "[39,]  0.17553511  0.036499968  0.07387654  0.77246106  0.09487544 \n",
       "[40,] -3.90086126 -0.966633053  0.79710027  0.43931857  0.17921473 \n",
       "[41,] -0.17577399 -0.076853150  0.90698655 -1.48124845 -0.06523900 \n",
       "[42,] -0.19592227 -0.289819716 -0.44219049  0.03000711  0.47448787 \n",
       "[43,] -0.31287983 -2.243804338 -0.20779313  0.37993806 -0.72795885 \n",
       "[44,] -1.54979971  1.103621025 -0.74608441 -0.06858995  0.99733489 \n",
       "[45,]  0.96426232  1.149121339  0.96614720 -0.04927254  0.04621417 \n",
       "[46,]  0.53748570 -0.388223764  0.67487025 -0.16102978  0.55513148 \n",
       "[47,]  2.17487153  0.068155581  0.79274638  1.04064403 -0.37880005 \n",
       "[48,] -1.70767804  1.681185017  1.69610791 -0.79669131 -0.07634336 \n",
       "[49,] -0.88374601 -0.730102652  0.08623594  0.33949093 -0.43350042 \n",
       "[50,] -0.67198468  0.221191756 -0.65314220  0.45723439  0.11380289 \n",
       "[51,] -1.55157915 -0.422066757 -1.39878900 -0.29302031  0.75894920 \n",
       "[52,]  0.33662214  0.001485145 -0.08523232  0.29542112 -0.10688349 \n",
       "[53,] -0.08282229  0.402246210 -0.41334199  0.34059777  0.27253892 \n",
       "[54,] -0.02845022 -0.305665725 -0.56645804  0.77984713  0.18254563 \n",
       "[55,]  0.34985715  0.753874531 -0.26650532 -1.15345927  0.89395323 \n",
       "[56,] -0.58339916 -0.567470741  0.40126016  0.19420545 -0.08956849 \n",
       "[57,]  0.82145843 -0.103431071 -0.48189829  0.29651962  1.20915749 \n",
       "[58,] -0.79684145  0.762398649  1.49380793 -1.08272761  0.26082308 \n",
       "[59,] -0.12613791  0.048037239  0.42504352  0.87560675  1.08065554 \n",
       "[60,] -1.74964554 -0.186546303 -0.50261463  0.01310579 -0.85049016 \n",
       "[61,] -0.25826131  0.918032006  0.61471225 -0.71861858 -1.45235709 \n",
       "      PC6          PC7          PC8          PC9          PC10        \n",
       " [1,] -0.062726183 -0.296607618 -0.18182872   0.269344986  0.297989991\n",
       " [2,]  0.524486673 -0.016489844 -0.19211477  -0.032261144  0.428763935\n",
       " [3,]  0.072787433  0.148981566 -0.11438213  -0.029557753 -0.033825074\n",
       " [4,] -0.009302481  0.238433369  0.22418184   0.240485929 -0.208642167\n",
       " [5,] -0.200920018 -0.317826449  0.09004301  -0.005570191  0.089338707\n",
       " [6,] -0.410836850  0.316525988  0.34241766   0.307496114 -0.131582834\n",
       " [7,] -0.546872833 -0.174564699  0.49414653  -0.010131406  0.602207988\n",
       " [8,] -0.215734423  0.354483903 -0.12456483  -0.244442602 -0.005789456\n",
       " [9,] -0.146282248  0.426701902  0.62783508  -0.101687761  0.123529239\n",
       "[10,] -0.629738126  0.738537016 -0.18508336  -0.270347161 -0.260362202\n",
       "[11,]  0.626168824  0.903876362  0.32522533   0.329342233  0.309764887\n",
       "[12,] -0.487958233  0.139959784  0.09126537   0.044998256  0.079065493\n",
       "[13,]  1.436376315  0.023818274 -0.72892434  -0.204950520 -0.032380615\n",
       "[14,] -0.183536200  0.701605046  0.39863022   0.818043627  0.387731123\n",
       "[15,] -0.247307169  0.238127697 -0.35351389  -0.163848855  0.310282036\n",
       "[16,] -0.273038680 -0.584089423 -1.05656121  -0.221154167  0.011374980\n",
       "[17,] -0.781012180 -0.002406675  0.24176879   0.488684806  0.053986733\n",
       "[18,] -0.164275424  0.196457418 -0.66018746   0.263031154  0.058645267\n",
       "[19,]  0.255340748  0.223895673  0.76857773  -0.200041359  0.226297756\n",
       "[20,] -0.225841807 -0.280078668 -0.62301929   0.351741967  0.041648365\n",
       "[21,]  0.757345209  1.067025551  0.22052044   0.058776032 -0.771141171\n",
       "[22,] -0.170241884 -0.275619917  0.08971249  -0.362264407  0.027209125\n",
       "[23,]  0.517140984 -1.113887412 -0.08459584   0.418605815  0.051500404\n",
       "[24,] -0.233813856 -0.701047198 -0.46994139   0.326746152  0.127348094\n",
       "[25,] -1.150992109  0.685110437 -0.03433863   1.073073595 -0.237983797\n",
       "[26,] -1.306492925 -0.239914989 -0.83293442   0.370579438 -0.316524404\n",
       "[27,] -0.225723681  0.066812092 -0.34524154  -0.476799854 -0.306172957\n",
       "[28,]  0.747571690 -0.063120755  0.81449346   0.708386395 -0.005739524\n",
       "[29,]  0.336179424  0.909587934  0.80374300  -0.838132299 -0.064135129\n",
       "[30,] -0.504708294 -0.567038505  0.31223804   0.286520201 -0.463807986\n",
       "[31,] ...          ...          ...          ...          ...         \n",
       "[32,] -0.10647508   0.217451165 -0.295970952 -0.30431689  -0.278324347\n",
       "[33,]  0.17200045   0.614152334  0.080689376 -0.17301154  -0.006964087\n",
       "[34,] -0.12683540   0.305010070  0.068414564 -0.34253854  -0.154116390\n",
       "[35,] -0.74249087   0.067466439  0.356927374  0.15592494   0.040914219\n",
       "[36,] -0.09954350   0.186936045 -0.120048084 -0.02804701  -0.068488395\n",
       "[37,]  0.09050741   0.279176158  0.051247974  0.09560077   0.136151011\n",
       "[38,]  0.15310686  -0.042941318  0.038789609 -0.28418822   0.182924821\n",
       "[39,]  0.44407738  -0.140251014  0.393810944  0.23964342   0.474173332\n",
       "[40,] -0.01561107   0.215872413 -0.301751727 -0.14768683  -0.313375865\n",
       "[41,]  0.95537402  -0.055473949  0.100085456  0.21725604  -0.077420520\n",
       "[42,] -0.63856706  -0.058452860 -0.077661200 -0.35899521  -0.256248111\n",
       "[43,]  0.36816155   0.204752445 -0.111914372  0.09530196   0.186343197\n",
       "[44,] -0.65865770  -0.479217491  0.091949085  0.17235100   0.041062331\n",
       "[45,] -0.14123893   0.673830183  0.354814332 -0.68506665   0.107915109\n",
       "[46,] -0.44275091  -0.530497197 -0.218139628 -0.16011374  -0.024110600\n",
       "[47,]  0.05611197   0.477828658  0.603949034 -0.87098725  -0.134039427\n",
       "[48,]  0.83789679  -1.331722241 -0.581958009 -0.69556496   0.217868218\n",
       "[49,]  0.35347700  -0.231175100  0.620378684 -0.08539706  -0.490153776\n",
       "[50,] -0.50189945  -0.363266734  0.504060924  0.05150610   0.331355979\n",
       "[51,] -0.13032611   0.384666747  0.153842904 -0.26287731   0.266036495\n",
       "[52,] -0.40062163   0.007682895 -0.005793971  0.14067530   0.009685167\n",
       "[53,] -0.25136514   0.069057677 -0.240219694  0.04372120   0.241910667\n",
       "[54,] -0.46930019   0.821500819  0.025807728 -0.20075549   0.161773736\n",
       "[55,]  0.79103834  -0.138221826  0.631272813 -0.07863540  -0.107258420\n",
       "[56,] -0.45732101  -0.850382365  0.161387850 -0.36637826   0.163082501\n",
       "[57,] -0.35815708  -0.177753782  0.327232833 -0.28074540   0.143245835\n",
       "[58,]  0.47615520   0.516484042 -0.482703072 -0.01717059  -0.011263563\n",
       "[59,] -0.57951325   1.132243507 -0.566793304 -0.72932471   0.283059180\n",
       "[60,]  0.37685279   0.176088596 -1.107540378 -0.14023868   0.278109529\n",
       "[61,] -0.09953197  -0.093750207 -0.115683636  0.12841532   0.145959823"
      ]
     },
     "metadata": {},
     "output_type": "display_data"
    },
    {
     "data": {
      "text/html": [
       "<ol class=list-inline>\n",
       "\t<li>2.67918191725464</li>\n",
       "\t<li>0.901621131593277</li>\n",
       "\t<li>0.814384336693731</li>\n",
       "\t<li>0.606996407466487</li>\n",
       "\t<li>0.522816176916798</li>\n",
       "\t<li>0.454698189497672</li>\n",
       "\t<li>0.441517866166133</li>\n",
       "\t<li>0.392215283101783</li>\n",
       "\t<li>0.322202448318038</li>\n",
       "\t<li>0.211481990410312</li>\n",
       "</ol>\n"
      ],
      "text/latex": [
       "\\begin{enumerate*}\n",
       "\\item 2.67918191725464\n",
       "\\item 0.901621131593277\n",
       "\\item 0.814384336693731\n",
       "\\item 0.606996407466487\n",
       "\\item 0.522816176916798\n",
       "\\item 0.454698189497672\n",
       "\\item 0.441517866166133\n",
       "\\item 0.392215283101783\n",
       "\\item 0.322202448318038\n",
       "\\item 0.211481990410312\n",
       "\\end{enumerate*}\n"
      ],
      "text/markdown": [
       "1. 2.67918191725464\n",
       "2. 0.901621131593277\n",
       "3. 0.814384336693731\n",
       "4. 0.606996407466487\n",
       "5. 0.522816176916798\n",
       "6. 0.454698189497672\n",
       "7. 0.441517866166133\n",
       "8. 0.392215283101783\n",
       "9. 0.322202448318038\n",
       "10. 0.211481990410312\n",
       "\n",
       "\n"
      ],
      "text/plain": [
       " [1] 2.6791819 0.9016211 0.8143843 0.6069964 0.5228162 0.4546982 0.4415179\n",
       " [8] 0.3922153 0.3222024 0.2114820"
      ]
     },
     "metadata": {},
     "output_type": "display_data"
    },
    {
     "data": {
      "text/html": [
       "<ol class=list-inline>\n",
       "\t<li>7.17801574574424</li>\n",
       "\t<li>0.812920664935541</li>\n",
       "\t<li>0.663221847852089</li>\n",
       "\t<li>0.368444638677221</li>\n",
       "\t<li>0.273336754845897</li>\n",
       "\t<li>0.20675044353246</li>\n",
       "\t<li>0.194938026143895</li>\n",
       "\t<li>0.153832828298612</li>\n",
       "\t<li>0.103814417702138</li>\n",
       "\t<li>0.0447246322679072</li>\n",
       "</ol>\n"
      ],
      "text/latex": [
       "\\begin{enumerate*}\n",
       "\\item 7.17801574574424\n",
       "\\item 0.812920664935541\n",
       "\\item 0.663221847852089\n",
       "\\item 0.368444638677221\n",
       "\\item 0.273336754845897\n",
       "\\item 0.20675044353246\n",
       "\\item 0.194938026143895\n",
       "\\item 0.153832828298612\n",
       "\\item 0.103814417702138\n",
       "\\item 0.0447246322679072\n",
       "\\end{enumerate*}\n"
      ],
      "text/markdown": [
       "1. 7.17801574574424\n",
       "2. 0.812920664935541\n",
       "3. 0.663221847852089\n",
       "4. 0.368444638677221\n",
       "5. 0.273336754845897\n",
       "6. 0.20675044353246\n",
       "7. 0.194938026143895\n",
       "8. 0.153832828298612\n",
       "9. 0.103814417702138\n",
       "10. 0.0447246322679072\n",
       "\n",
       "\n"
      ],
      "text/plain": [
       " [1] 7.17801575 0.81292066 0.66322185 0.36844464 0.27333675 0.20675044\n",
       " [7] 0.19493803 0.15383283 0.10381442 0.04472463"
      ]
     },
     "metadata": {},
     "output_type": "display_data"
    },
    {
     "data": {
      "text/html": [
       "<ol class=list-inline>\n",
       "\t<li>0.717801574574424</li>\n",
       "\t<li>0.081292066493554</li>\n",
       "\t<li>0.0663221847852089</li>\n",
       "\t<li>0.0368444638677221</li>\n",
       "\t<li>0.0273336754845897</li>\n",
       "\t<li>0.020675044353246</li>\n",
       "\t<li>0.0194938026143895</li>\n",
       "\t<li>0.0153832828298612</li>\n",
       "\t<li>0.0103814417702138</li>\n",
       "\t<li>0.00447246322679072</li>\n",
       "</ol>\n"
      ],
      "text/latex": [
       "\\begin{enumerate*}\n",
       "\\item 0.717801574574424\n",
       "\\item 0.081292066493554\n",
       "\\item 0.0663221847852089\n",
       "\\item 0.0368444638677221\n",
       "\\item 0.0273336754845897\n",
       "\\item 0.020675044353246\n",
       "\\item 0.0194938026143895\n",
       "\\item 0.0153832828298612\n",
       "\\item 0.0103814417702138\n",
       "\\item 0.00447246322679072\n",
       "\\end{enumerate*}\n"
      ],
      "text/markdown": [
       "1. 0.717801574574424\n",
       "2. 0.081292066493554\n",
       "3. 0.0663221847852089\n",
       "4. 0.0368444638677221\n",
       "5. 0.0273336754845897\n",
       "6. 0.020675044353246\n",
       "7. 0.0194938026143895\n",
       "8. 0.0153832828298612\n",
       "9. 0.0103814417702138\n",
       "10. 0.00447246322679072\n",
       "\n",
       "\n"
      ],
      "text/plain": [
       " [1] 0.717801575 0.081292066 0.066322185 0.036844464 0.027333675 0.020675044\n",
       " [7] 0.019493803 0.015383283 0.010381442 0.004472463"
      ]
     },
     "metadata": {},
     "output_type": "display_data"
    },
    {
     "data": {
      "image/png": "[encoded data removed]",
      "text/plain": [
       "Plot with title “Biplot”"
      ]
     },
     "metadata": {
      "image/png": {
       "height": 420,
       "width": 420
      }
     },
     "output_type": "display_data"
    },
    {
     "data": {
      "image/png": "[encoded data removed]",
      "text/plain": [
       "Plot with title “Scree Plot”"
      ]
     },
     "metadata": {
      "image/png": {
       "height": 420,
       "width": 420
      }
     },
     "output_type": "display_data"
    }
   ],
   "source": [
    "# See the principal components\n",
    "dim(my_pca$x)\n",
    "my_pca$x\n",
    " \n",
    "# Plotting the resultant principal components\n",
    "# The parameter scale = 0 ensures that arrows\n",
    "# are scaled to represent the loadings\n",
    "biplot(my_pca, main = \"Biplot\", scale = 0)\n",
    " \n",
    "# Compute standard deviation\n",
    "my_pca$sdev\n",
    " \n",
    "# Compute variance\n",
    "my_pca.var <- my_pca$sdev ^ 2\n",
    "my_pca.var\n",
    " \n",
    "# Proportion of variance for a scree plot\n",
    "propve <- my_pca.var / sum(my_pca.var)\n",
    "propve\n",
    "\n",
    "# Plot variance explained for each principal component\n",
    "plot(propve, xlab = \"principal component\",\n",
    "            ylab = \"Proportion of Variance Explained\",\n",
    "            ylim = c(0, 1), type = \"b\",\n",
    "            main = \"Scree Plot\")\n",
    "\n"
   ]
  },
  {
   "cell_type": "markdown",
   "metadata": {},
   "source": [
    "g) Compute the proportion of variance explained by each principal component."
   ]
  },
  {
   "cell_type": "code",
   "execution_count": 22,
   "metadata": {},
   "outputs": [
    {
     "data": {
      "image/png": "[encoded data removed]",
      "text/plain": [
       "plot without title"
      ]
     },
     "metadata": {
      "image/png": {
       "height": 420,
       "width": 420
      }
     },
     "output_type": "display_data"
    }
   ],
   "source": [
    "# Plot the cumulative proportion of variance explained\n",
    "plot(cumsum(propve),\n",
    "    xlab = \"Principal Component\",\n",
    "    ylab = \"Cumulative Proportion of Variance Explained\",\n",
    "    ylim = c(0, 1), type = \"b\")\n",
    "abline(h=.9, col=\"blue\")  #means"
   ]
  },
  {
   "cell_type": "markdown",
   "metadata": {},
   "source": [
    "We need at least 4 principal components to explain at least 90% of the variation in the data."
   ]
  },
  {
   "cell_type": "code",
   "execution_count": null,
   "metadata": {},
   "outputs": [],
   "source": []
  }
 ],
 "metadata": {
  "kernelspec": {
   "display_name": "R",
   "language": "R",
   "name": "ir"
  },
  "language_info": {
   "codemirror_mode": "r",
   "file_extension": ".r",
   "mimetype": "text/x-r-source",
   "name": "R",
   "pygments_lexer": "r",
   "version": "3.6.1"
  }
 },
 "nbformat": 4,
 "nbformat_minor": 4
}
